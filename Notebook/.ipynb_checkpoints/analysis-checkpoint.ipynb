{
 "cells": [
  {
   "cell_type": "code",
   "execution_count": 22,
   "metadata": {},
   "outputs": [],
   "source": [
    "import pandas as pd\n",
    "import numpy as np\n",
    "import OpenBlender\n",
    "import json\n",
    "import matplotlib.pyplot as plt\n",
    "import seaborn as sns"
   ]
  },
  {
   "cell_type": "code",
   "execution_count": 23,
   "metadata": {},
   "outputs": [],
   "source": [
    "#pip install OpenBlender"
   ]
  },
  {
   "cell_type": "markdown",
   "metadata": {},
   "source": [
    "Our aim is to use news data to predict the change in the crypto market, i.e whether the crypto price would rise or whether it would fall"
   ]
  },
  {
   "cell_type": "code",
   "execution_count": 24,
   "metadata": {},
   "outputs": [
    {
     "name": "stdout",
     "output_type": "stream",
     "text": [
      "Task ID: '61cf423a0895fafb4a9d8d4b'.\n",
      "Total estimated consumption: 500.02 processing units.\n",
      "100.0 % completed.\n"
     ]
    }
   ],
   "source": [
    "# token is the api_token from the OpenBlender website\n",
    "token = '61cf23fa9516295c1690ae53HOiaApzCzA9syNcYynvPluwq1qf4Uc'\n",
    "action = 'API_getObservationsFromDataset'\n",
    "\n",
    "# using Bitcoin vs USD, which is Daily exchange rate of US dollar vs Bitcoin\n",
    "parameters = { \n",
    "    'token' : token,\n",
    "    'id_dataset' : '5d4c3af79516290b01c83f51',\n",
    "    'date_filter':{\"start_date\" : \"2020-05-01\",\n",
    "                   \"end_date\" : \"2021-01-30\"} \n",
    "}\n",
    "# reading the json response of the API into pandas dataframe\n",
    "data = pd.read_json(json.dumps(OpenBlender.call(action, parameters)['sample']), convert_dates=False, convert_axes=False).sort_values('timestamp', ascending=False)\n",
    "data.reset_index(drop=True, inplace=True)\n",
    "# converting timestamp to date \n",
    "data['date'] = [OpenBlender.unixToDate(ts, timezone = 'GMT') for ts in data.timestamp]\n",
    "data = data.drop('timestamp', axis = 1)"
   ]
  },
  {
   "cell_type": "code",
   "execution_count": 25,
   "metadata": {},
   "outputs": [],
   "source": [
    "# generate the target variable which is whether the crypto price increased or declined\n",
    "# subtracting the closing price and opening price\n",
    "data['log_diff'] = np.log(data['price']) - np.log(data['open'])"
   ]
  },
  {
   "cell_type": "code",
   "execution_count": 26,
   "metadata": {},
   "outputs": [],
   "source": [
    "# generate the target variable based on log_diff, if greater than 0, it means rise, if less than 0 it means decline\n",
    "data['target'] = [1 if log_diff > 0 else 0 for log_diff in data['log_diff']]"
   ]
  },
  {
   "cell_type": "code",
   "execution_count": 27,
   "metadata": {},
   "outputs": [
    {
     "data": {
      "image/png": "[encoded data removed]",
      "text/plain": [
       "<Figure size 1000x600 with 1 Axes>"
      ]
     },
     "metadata": {},
     "output_type": "display_data"
    }
   ],
   "source": [
    "# count of the target variables\n",
    "plt.subplots(figsize=(10,6))\n",
    "target_data = data.copy()\n",
    "target_data[\"target\"]=target_data[\"target\"].astype(str)\n",
    "plot=sns.histplot(data=target_data,x=\"target\",hue=\"target\",palette=[\"#d1120f\",\"#006400\"],legend=\"target\")\n",
    "plt.title(\"Count of Target Labels\")\n",
    "plt.legend(title='Label', loc='upper right', labels=['Rise', 'Fall'])\n",
    "plt.show(plot)\n"
   ]
  },
  {
   "cell_type": "code",
   "execution_count": 28,
   "metadata": {},
   "outputs": [
    {
     "data": {
      "text/html": [
       "<div>\n",
       "<style scoped>\n",
       "    .dataframe tbody tr th:only-of-type {\n",
       "        vertical-align: middle;\n",
       "    }\n",
       "\n",
       "    .dataframe tbody tr th {\n",
       "        vertical-align: top;\n",
       "    }\n",
       "\n",
       "    .dataframe thead th {\n",
       "        text-align: right;\n",
       "    }\n",
       "</style>\n",
       "<table border=\"1\" class=\"dataframe\">\n",
       "  <thead>\n",
       "    <tr style=\"text-align: right;\">\n",
       "      <th></th>\n",
       "      <th>volume</th>\n",
       "      <th>price</th>\n",
       "      <th>high</th>\n",
       "      <th>low</th>\n",
       "      <th>open</th>\n",
       "      <th>change</th>\n",
       "      <th>date</th>\n",
       "      <th>log_diff</th>\n",
       "      <th>target</th>\n",
       "    </tr>\n",
       "  </thead>\n",
       "  <tbody>\n",
       "    <tr>\n",
       "      <th>0</th>\n",
       "      <td>14.77K</td>\n",
       "      <td>30454.0</td>\n",
       "      <td>32519.0</td>\n",
       "      <td>29815.0</td>\n",
       "      <td>32519.0</td>\n",
       "      <td>-6.35%</td>\n",
       "      <td>27-01-2021 17:00:00</td>\n",
       "      <td>-0.065607</td>\n",
       "      <td>0</td>\n",
       "    </tr>\n",
       "    <tr>\n",
       "      <th>1</th>\n",
       "      <td>8.54K</td>\n",
       "      <td>32519.0</td>\n",
       "      <td>32735.1</td>\n",
       "      <td>31434.0</td>\n",
       "      <td>32268.1</td>\n",
       "      <td>0.78%</td>\n",
       "      <td>26-01-2021 17:00:00</td>\n",
       "      <td>0.007745</td>\n",
       "      <td>1</td>\n",
       "    </tr>\n",
       "    <tr>\n",
       "      <th>2</th>\n",
       "      <td>9.23K</td>\n",
       "      <td>32268.1</td>\n",
       "      <td>34693.0</td>\n",
       "      <td>32268.1</td>\n",
       "      <td>32298.0</td>\n",
       "      <td>-0.09%</td>\n",
       "      <td>25-01-2021 17:00:00</td>\n",
       "      <td>-0.000926</td>\n",
       "      <td>0</td>\n",
       "    </tr>\n",
       "    <tr>\n",
       "      <th>3</th>\n",
       "      <td>5.89K</td>\n",
       "      <td>32298.0</td>\n",
       "      <td>32830.0</td>\n",
       "      <td>31481.0</td>\n",
       "      <td>32099.0</td>\n",
       "      <td>0.62%</td>\n",
       "      <td>24-01-2021 17:00:00</td>\n",
       "      <td>0.006180</td>\n",
       "      <td>1</td>\n",
       "    </tr>\n",
       "    <tr>\n",
       "      <th>4</th>\n",
       "      <td>7.07K</td>\n",
       "      <td>32099.0</td>\n",
       "      <td>33062.0</td>\n",
       "      <td>31773.0</td>\n",
       "      <td>33062.0</td>\n",
       "      <td>-2.91%</td>\n",
       "      <td>23-01-2021 17:00:00</td>\n",
       "      <td>-0.029560</td>\n",
       "      <td>0</td>\n",
       "    </tr>\n",
       "  </tbody>\n",
       "</table>\n",
       "</div>"
      ],
      "text/plain": [
       "   volume    price     high      low     open  change                 date  \\\n",
       "0  14.77K  30454.0  32519.0  29815.0  32519.0  -6.35%  27-01-2021 17:00:00   \n",
       "1   8.54K  32519.0  32735.1  31434.0  32268.1   0.78%  26-01-2021 17:00:00   \n",
       "2   9.23K  32268.1  34693.0  32268.1  32298.0  -0.09%  25-01-2021 17:00:00   \n",
       "3   5.89K  32298.0  32830.0  31481.0  32099.0   0.62%  24-01-2021 17:00:00   \n",
       "4   7.07K  32099.0  33062.0  31773.0  33062.0  -2.91%  23-01-2021 17:00:00   \n",
       "\n",
       "   log_diff  target  \n",
       "0 -0.065607       0  \n",
       "1  0.007745       1  \n",
       "2 -0.000926       0  \n",
       "3  0.006180       1  \n",
       "4 -0.029560       0  "
      ]
     },
     "execution_count": 28,
     "metadata": {},
     "output_type": "execute_result"
    }
   ],
   "source": [
    "data.head()"
   ]
  },
  {
   "cell_type": "code",
   "execution_count": 29,
   "metadata": {},
   "outputs": [
    {
     "data": {
      "text/html": [
       "<div>\n",
       "<style scoped>\n",
       "    .dataframe tbody tr th:only-of-type {\n",
       "        vertical-align: middle;\n",
       "    }\n",
       "\n",
       "    .dataframe tbody tr th {\n",
       "        vertical-align: top;\n",
       "    }\n",
       "\n",
       "    .dataframe thead th {\n",
       "        text-align: right;\n",
       "    }\n",
       "</style>\n",
       "<table border=\"1\" class=\"dataframe\">\n",
       "  <thead>\n",
       "    <tr style=\"text-align: right;\">\n",
       "      <th></th>\n",
       "      <th>date</th>\n",
       "      <th>timestamp</th>\n",
       "      <th>price</th>\n",
       "      <th>target</th>\n",
       "    </tr>\n",
       "  </thead>\n",
       "  <tbody>\n",
       "    <tr>\n",
       "      <th>0</th>\n",
       "      <td>27-01-2021 17:00:00</td>\n",
       "      <td>1.611767e+09</td>\n",
       "      <td>30454.0</td>\n",
       "      <td>0</td>\n",
       "    </tr>\n",
       "    <tr>\n",
       "      <th>1</th>\n",
       "      <td>26-01-2021 17:00:00</td>\n",
       "      <td>1.611680e+09</td>\n",
       "      <td>32519.0</td>\n",
       "      <td>1</td>\n",
       "    </tr>\n",
       "    <tr>\n",
       "      <th>2</th>\n",
       "      <td>25-01-2021 17:00:00</td>\n",
       "      <td>1.611594e+09</td>\n",
       "      <td>32268.1</td>\n",
       "      <td>0</td>\n",
       "    </tr>\n",
       "    <tr>\n",
       "      <th>3</th>\n",
       "      <td>24-01-2021 17:00:00</td>\n",
       "      <td>1.611508e+09</td>\n",
       "      <td>32298.0</td>\n",
       "      <td>1</td>\n",
       "    </tr>\n",
       "    <tr>\n",
       "      <th>4</th>\n",
       "      <td>23-01-2021 17:00:00</td>\n",
       "      <td>1.611421e+09</td>\n",
       "      <td>32099.0</td>\n",
       "      <td>0</td>\n",
       "    </tr>\n",
       "  </tbody>\n",
       "</table>\n",
       "</div>"
      ],
      "text/plain": [
       "                  date     timestamp    price  target\n",
       "0  27-01-2021 17:00:00  1.611767e+09  30454.0       0\n",
       "1  26-01-2021 17:00:00  1.611680e+09  32519.0       1\n",
       "2  25-01-2021 17:00:00  1.611594e+09  32268.1       0\n",
       "3  24-01-2021 17:00:00  1.611508e+09  32298.0       1\n",
       "4  23-01-2021 17:00:00  1.611421e+09  32099.0       0"
      ]
     },
     "execution_count": 29,
     "metadata": {},
     "output_type": "execute_result"
    }
   ],
   "source": [
    "# mix external news data with our bitcoin data, to do so we will time-blend. \n",
    "# In other words, it means to outer join the news dataset using the timestamp as key.\n",
    "format = '%d-%m-%Y %H:%M:%S'\n",
    "timezone = 'GMT'\n",
    "\n",
    "# The Unix Timestamp is the number of seconds since 1970 on UTC \n",
    "# it is the preferred format because it is the same in every time zone in the world\n",
    "\n",
    "data['timestamp'] = OpenBlender.dateToUnix(data['date'], \n",
    "                                           date_format = format, \n",
    "                                           timezone = timezone)\n",
    "data = data[['date', 'timestamp', 'price', 'target']]\n",
    "data.head()"
   ]
  },
  {
   "cell_type": "code",
   "execution_count": 9,
   "metadata": {},
   "outputs": [
    {
     "name": "stdout",
     "output_type": "stream",
     "text": [
      "Task ID: '61cf41810895fafb4a9d8d4c'.\n",
      "Total estimated consumption: 1564.8 processing units.\n",
      "Task confirmed. Starting download..\n",
      "100%\n"
     ]
    },
    {
     "data": {
      "text/html": [
       "<div>\n",
       "<style scoped>\n",
       "    .dataframe tbody tr th:only-of-type {\n",
       "        vertical-align: middle;\n",
       "    }\n",
       "\n",
       "    .dataframe tbody tr th {\n",
       "        vertical-align: top;\n",
       "    }\n",
       "\n",
       "    .dataframe thead th {\n",
       "        text-align: right;\n",
       "    }\n",
       "</style>\n",
       "<table border=\"1\" class=\"dataframe\">\n",
       "  <thead>\n",
       "    <tr style=\"text-align: right;\">\n",
       "      <th></th>\n",
       "      <th>date</th>\n",
       "      <th>timestamp</th>\n",
       "      <th>price</th>\n",
       "      <th>target</th>\n",
       "      <th>BITCOIN_NE.text_COUNT_last1days</th>\n",
       "      <th>BITCOIN_NE.text_last1days</th>\n",
       "    </tr>\n",
       "  </thead>\n",
       "  <tbody>\n",
       "    <tr>\n",
       "      <th>0</th>\n",
       "      <td>27-01-2021 17:00:00</td>\n",
       "      <td>1.611767e+09</td>\n",
       "      <td>30454.0</td>\n",
       "      <td>0</td>\n",
       "      <td>24</td>\n",
       "      <td>[, cryptocurrencies have gained popularity in ...</td>\n",
       "    </tr>\n",
       "    <tr>\n",
       "      <th>1</th>\n",
       "      <td>26-01-2021 17:00:00</td>\n",
       "      <td>1.611680e+09</td>\n",
       "      <td>32519.0</td>\n",
       "      <td>1</td>\n",
       "      <td>20</td>\n",
       "      <td>[zelaapayae uae will now have a crypto debit c...</td>\n",
       "    </tr>\n",
       "    <tr>\n",
       "      <th>2</th>\n",
       "      <td>25-01-2021 17:00:00</td>\n",
       "      <td>1.611594e+09</td>\n",
       "      <td>32268.1</td>\n",
       "      <td>0</td>\n",
       "      <td>15</td>\n",
       "      <td>[cashpay  ecommerce marketplace powered by cry...</td>\n",
       "    </tr>\n",
       "    <tr>\n",
       "      <th>3</th>\n",
       "      <td>24-01-2021 17:00:00</td>\n",
       "      <td>1.611508e+09</td>\n",
       "      <td>32298.0</td>\n",
       "      <td>1</td>\n",
       "      <td>15</td>\n",
       "      <td>[oh look the researcher willy woo said suddenl...</td>\n",
       "    </tr>\n",
       "    <tr>\n",
       "      <th>4</th>\n",
       "      <td>23-01-2021 17:00:00</td>\n",
       "      <td>1.611421e+09</td>\n",
       "      <td>32099.0</td>\n",
       "      <td>0</td>\n",
       "      <td>18</td>\n",
       "      <td>[according to wu, the chinese crypto community...</td>\n",
       "    </tr>\n",
       "  </tbody>\n",
       "</table>\n",
       "</div>"
      ],
      "text/plain": [
       "                  date     timestamp    price  target  \\\n",
       "0  27-01-2021 17:00:00  1.611767e+09  30454.0       0   \n",
       "1  26-01-2021 17:00:00  1.611680e+09  32519.0       1   \n",
       "2  25-01-2021 17:00:00  1.611594e+09  32268.1       0   \n",
       "3  24-01-2021 17:00:00  1.611508e+09  32298.0       1   \n",
       "4  23-01-2021 17:00:00  1.611421e+09  32099.0       0   \n",
       "\n",
       "   BITCOIN_NE.text_COUNT_last1days  \\\n",
       "0                               24   \n",
       "1                               20   \n",
       "2                               15   \n",
       "3                               15   \n",
       "4                               18   \n",
       "\n",
       "                           BITCOIN_NE.text_last1days  \n",
       "0  [, cryptocurrencies have gained popularity in ...  \n",
       "1  [zelaapayae uae will now have a crypto debit c...  \n",
       "2  [cashpay  ecommerce marketplace powered by cry...  \n",
       "3  [oh look the researcher willy woo said suddenl...  \n",
       "4  [according to wu, the chinese crypto community...  "
      ]
     },
     "execution_count": 9,
     "metadata": {},
     "output_type": "execute_result"
    }
   ],
   "source": [
    "# concat the news dataset with our bitcoin price dataset\n",
    "# We need to add the id of the dataset and the feature we want from the dataset.\n",
    "# as the crypto market data is daily based we would aggregrate the news on daily basis \n",
    "blend_source = {\n",
    "                'id_dataset':'5ea2039095162936337156c9',\n",
    "                'feature' : 'text'\n",
    "            }\n",
    "\n",
    "# Now, let's 'timeBlend' it to our dataset\n",
    "data_with_news = OpenBlender.timeBlend( token = token, # API token\n",
    "                                  anchor_ts = data.timestamp, # our timestamp column,\n",
    "                                  blend_source = blend_source,\n",
    "                                  blend_type = 'agg_in_intervals', # 'agg_in_intervals' because we want 24 hour interval aggregation\n",
    "                                  interval_size = 60 * 60 * 24,\n",
    "                                  direction = 'time_prior',\n",
    "                                  interval_output = 'list',\n",
    "                                  missing_values = 'raw')\n",
    "data = pd.concat([data, data_with_news.loc[:, data_with_news.columns != 'timestamp']], axis = 1)\n",
    "data.head()"
   ]
  },
  {
   "cell_type": "markdown",
   "metadata": {},
   "source": [
    "BITCOIN_NE.text_COUNT_last1days shows the number of news on that day"
   ]
  },
  {
   "cell_type": "code",
   "execution_count": 10,
   "metadata": {},
   "outputs": [],
   "source": [
    "# save our data for the future use\n",
    "data.to_csv(\"Input_data.csv\", index = False)"
   ]
  },
  {
   "cell_type": "code",
   "execution_count": 11,
   "metadata": {},
   "outputs": [],
   "source": [
    "# merge our list of news on each day, to one string so that we can tokenize\n",
    "data[\"news\"] = data[\"BITCOIN_NE.text_last1days\"].apply(lambda x: \" \".join(x))"
   ]
  },
  {
   "cell_type": "code",
   "execution_count": 12,
   "metadata": {},
   "outputs": [],
   "source": [
    "#pip install gensim"
   ]
  },
  {
   "cell_type": "code",
   "execution_count": 13,
   "metadata": {},
   "outputs": [
    {
     "ename": "TypeError",
     "evalue": "__init__() got an unexpected keyword argument 'size'",
     "output_type": "error",
     "traceback": [
      "\u001b[0;31m---------------------------------------------------------------------------\u001b[0m",
      "\u001b[0;31mTypeError\u001b[0m                                 Traceback (most recent call last)",
      "\u001b[0;32m<ipython-input-13-009bb5be5112>\u001b[0m in \u001b[0;36m<module>\u001b[0;34m\u001b[0m\n\u001b[1;32m      5\u001b[0m \u001b[0mtokenized_news\u001b[0m \u001b[0;34m=\u001b[0m \u001b[0mdata\u001b[0m\u001b[0;34m[\u001b[0m\u001b[0;34m\"news\"\u001b[0m\u001b[0;34m]\u001b[0m\u001b[0;34m.\u001b[0m\u001b[0mapply\u001b[0m\u001b[0;34m(\u001b[0m\u001b[0;32mlambda\u001b[0m \u001b[0mx\u001b[0m\u001b[0;34m:\u001b[0m \u001b[0mx\u001b[0m\u001b[0;34m.\u001b[0m\u001b[0msplit\u001b[0m\u001b[0;34m(\u001b[0m\u001b[0;34m)\u001b[0m\u001b[0;34m)\u001b[0m \u001b[0;31m# tokenizing\u001b[0m\u001b[0;34m\u001b[0m\u001b[0;34m\u001b[0m\u001b[0m\n\u001b[1;32m      6\u001b[0m \u001b[0;34m\u001b[0m\u001b[0m\n\u001b[0;32m----> 7\u001b[0;31m modelW2v = gensim.models.word2vec.Word2Vec(\n\u001b[0m\u001b[1;32m      8\u001b[0m             \u001b[0mtokenized_news\u001b[0m\u001b[0;34m,\u001b[0m\u001b[0;34m\u001b[0m\u001b[0;34m\u001b[0m\u001b[0m\n\u001b[1;32m      9\u001b[0m             \u001b[0msize\u001b[0m\u001b[0;34m=\u001b[0m\u001b[0;36m200\u001b[0m\u001b[0;34m,\u001b[0m\u001b[0;34m\u001b[0m\u001b[0;34m\u001b[0m\u001b[0m\n",
      "\u001b[0;31mTypeError\u001b[0m: __init__() got an unexpected keyword argument 'size'"
     ]
    }
   ],
   "source": [
    "# convert our text into vectors using word2vec method, a feature extraction approach\n",
    "import gensim\n",
    "\n",
    "\n",
    "tokenized_news = data[\"news\"].apply(lambda x: x.split()) # tokenizing\n",
    "\n",
    "modelW2v = gensim.models.word2vec.Word2Vec(\n",
    "            tokenized_news,\n",
    "            size=200,\n",
    "            window=5, # context window size\n",
    "            min_count=2,\n",
    "            sg = 1, # 1 for skip-gram model\n",
    "            hs = 0,\n",
    "            negative = 10, # for negative sampling\n",
    "            workers= 8, # no.of cores\n",
    "            seed = 34)\n",
    "\n",
    "modelW2v.train(tokenized_news, total_examples= len(data[\"news\"]), epochs=30)"
   ]
  },
  {
   "cell_type": "code",
   "execution_count": null,
   "metadata": {},
   "outputs": [],
   "source": [
    "def word_vector(tokens, size):\n",
    "    vec = np.zeros(size).reshape((1, size))\n",
    "    count = 0.\n",
    "    for word in tokens:\n",
    "        try:\n",
    "            vec += modelW2v.wv.get_vector(word).reshape((1, size))\n",
    "            count += 1.\n",
    "        except KeyError: # handling the case where the token is not in vocabulary\n",
    "                         \n",
    "            continue\n",
    "    if count != 0:\n",
    "        vec /= count\n",
    "    return vec"
   ]
  },
  {
   "cell_type": "code",
   "execution_count": 15,
   "metadata": {},
   "outputs": [
    {
     "ename": "NameError",
     "evalue": "name 'word_vector' is not defined",
     "output_type": "error",
     "traceback": [
      "\u001b[0;31m---------------------------------------------------------------------------\u001b[0m",
      "\u001b[0;31mNameError\u001b[0m                                 Traceback (most recent call last)",
      "\u001b[0;32m<ipython-input-15-07ae74d332ad>\u001b[0m in \u001b[0;36m<module>\u001b[0;34m\u001b[0m\n\u001b[1;32m      2\u001b[0m \u001b[0;34m\u001b[0m\u001b[0m\n\u001b[1;32m      3\u001b[0m \u001b[0;32mfor\u001b[0m \u001b[0mi\u001b[0m \u001b[0;32min\u001b[0m \u001b[0mrange\u001b[0m\u001b[0;34m(\u001b[0m\u001b[0mlen\u001b[0m\u001b[0;34m(\u001b[0m\u001b[0mtokenized_news\u001b[0m\u001b[0;34m)\u001b[0m\u001b[0;34m)\u001b[0m\u001b[0;34m:\u001b[0m\u001b[0;34m\u001b[0m\u001b[0;34m\u001b[0m\u001b[0m\n\u001b[0;32m----> 4\u001b[0;31m     \u001b[0mwordvec_arrays\u001b[0m\u001b[0;34m[\u001b[0m\u001b[0mi\u001b[0m\u001b[0;34m,\u001b[0m\u001b[0;34m:\u001b[0m\u001b[0;34m]\u001b[0m \u001b[0;34m=\u001b[0m \u001b[0mword_vector\u001b[0m\u001b[0;34m(\u001b[0m\u001b[0mtokenized_news\u001b[0m\u001b[0;34m[\u001b[0m\u001b[0mi\u001b[0m\u001b[0;34m]\u001b[0m\u001b[0;34m,\u001b[0m \u001b[0;36m200\u001b[0m\u001b[0;34m)\u001b[0m\u001b[0;34m\u001b[0m\u001b[0;34m\u001b[0m\u001b[0m\n\u001b[0m\u001b[1;32m      5\u001b[0m \u001b[0;34m\u001b[0m\u001b[0m\n\u001b[1;32m      6\u001b[0m \u001b[0mwordvecDf\u001b[0m \u001b[0;34m=\u001b[0m \u001b[0mpd\u001b[0m\u001b[0;34m.\u001b[0m\u001b[0mDataFrame\u001b[0m\u001b[0;34m(\u001b[0m\u001b[0mwordvec_arrays\u001b[0m\u001b[0;34m)\u001b[0m\u001b[0;34m\u001b[0m\u001b[0;34m\u001b[0m\u001b[0m\n",
      "\u001b[0;31mNameError\u001b[0m: name 'word_vector' is not defined"
     ]
    }
   ],
   "source": [
    "wordvec_arrays = np.zeros((len(tokenized_news), 200))\n",
    "\n",
    "for i in range(len(tokenized_news)):\n",
    "    wordvec_arrays[i,:] = word_vector(tokenized_news[i], 200)\n",
    "    \n",
    "wordvecDf = pd.DataFrame(wordvec_arrays)\n",
    "wordvecDf.shape "
   ]
  },
  {
   "cell_type": "code",
   "execution_count": 16,
   "metadata": {},
   "outputs": [
    {
     "ename": "NameError",
     "evalue": "name 'wordvecDf' is not defined",
     "output_type": "error",
     "traceback": [
      "\u001b[0;31m---------------------------------------------------------------------------\u001b[0m",
      "\u001b[0;31mNameError\u001b[0m                                 Traceback (most recent call last)",
      "\u001b[0;32m<ipython-input-16-f2c4f5466774>\u001b[0m in \u001b[0;36m<module>\u001b[0;34m\u001b[0m\n\u001b[1;32m      1\u001b[0m \u001b[0mcolumns_list\u001b[0m \u001b[0;34m=\u001b[0m \u001b[0;34m[\u001b[0m\u001b[0;34m\"A\"\u001b[0m\u001b[0;34m+\u001b[0m\u001b[0mstr\u001b[0m\u001b[0;34m(\u001b[0m\u001b[0mi\u001b[0m\u001b[0;34m)\u001b[0m\u001b[0;32mfor\u001b[0m \u001b[0mi\u001b[0m \u001b[0;32min\u001b[0m \u001b[0mrange\u001b[0m\u001b[0;34m(\u001b[0m\u001b[0;36m1\u001b[0m\u001b[0;34m,\u001b[0m\u001b[0;36m201\u001b[0m\u001b[0;34m)\u001b[0m\u001b[0;34m]\u001b[0m\u001b[0;34m\u001b[0m\u001b[0;34m\u001b[0m\u001b[0m\n\u001b[0;32m----> 2\u001b[0;31m \u001b[0mwordvecDf\u001b[0m\u001b[0;34m.\u001b[0m\u001b[0mcolumns\u001b[0m \u001b[0;34m=\u001b[0m \u001b[0mcolumns_list\u001b[0m\u001b[0;34m\u001b[0m\u001b[0;34m\u001b[0m\u001b[0m\n\u001b[0m",
      "\u001b[0;31mNameError\u001b[0m: name 'wordvecDf' is not defined"
     ]
    }
   ],
   "source": [
    "columns_list = [\"A\"+str(i)for i in range(1,201)]\n",
    "wordvecDf.columns = columns_list"
   ]
  },
  {
   "cell_type": "code",
   "execution_count": 17,
   "metadata": {},
   "outputs": [
    {
     "ename": "NameError",
     "evalue": "name 'wordvecDf' is not defined",
     "output_type": "error",
     "traceback": [
      "\u001b[0;31m---------------------------------------------------------------------------\u001b[0m",
      "\u001b[0;31mNameError\u001b[0m                                 Traceback (most recent call last)",
      "\u001b[0;32m<ipython-input-17-c92c93053579>\u001b[0m in \u001b[0;36m<module>\u001b[0;34m\u001b[0m\n\u001b[0;32m----> 1\u001b[0;31m \u001b[0mwordvecDf\u001b[0m\u001b[0;34m[\u001b[0m\u001b[0;34m\"target\"\u001b[0m\u001b[0;34m]\u001b[0m \u001b[0;34m=\u001b[0m \u001b[0mdata\u001b[0m\u001b[0;34m[\u001b[0m\u001b[0;34m\"target\"\u001b[0m\u001b[0;34m]\u001b[0m\u001b[0;34m\u001b[0m\u001b[0;34m\u001b[0m\u001b[0m\n\u001b[0m",
      "\u001b[0;31mNameError\u001b[0m: name 'wordvecDf' is not defined"
     ]
    }
   ],
   "source": [
    "wordvecDf[\"target\"] = data[\"target\"]"
   ]
  },
  {
   "cell_type": "code",
   "execution_count": 18,
   "metadata": {},
   "outputs": [],
   "source": [
    "from sklearn.ensemble import RandomForestClassifier\n",
    "from sklearn.model_selection import train_test_split\n",
    "from sklearn.metrics import f1_score,accuracy_score"
   ]
  },
  {
   "cell_type": "code",
   "execution_count": 19,
   "metadata": {},
   "outputs": [
    {
     "ename": "NameError",
     "evalue": "name 'wordvecDf' is not defined",
     "output_type": "error",
     "traceback": [
      "\u001b[0;31m---------------------------------------------------------------------------\u001b[0m",
      "\u001b[0;31mNameError\u001b[0m                                 Traceback (most recent call last)",
      "\u001b[0;32m<ipython-input-19-5bf61454a60a>\u001b[0m in \u001b[0;36m<module>\u001b[0;34m\u001b[0m\n\u001b[1;32m      1\u001b[0m \u001b[0;31m# splitting data into training and validation set\u001b[0m\u001b[0;34m\u001b[0m\u001b[0;34m\u001b[0m\u001b[0;34m\u001b[0m\u001b[0m\n\u001b[0;32m----> 2\u001b[0;31m xtrain, xvalid, ytrain, yvalid = train_test_split(wordvecDf,wordvecDf['target'],  \n\u001b[0m\u001b[1;32m      3\u001b[0m                                                           \u001b[0mrandom_state\u001b[0m\u001b[0;34m=\u001b[0m\u001b[0;36m42\u001b[0m\u001b[0;34m,\u001b[0m\u001b[0;34m\u001b[0m\u001b[0;34m\u001b[0m\u001b[0m\n\u001b[1;32m      4\u001b[0m                                                           test_size=0.3)\n",
      "\u001b[0;31mNameError\u001b[0m: name 'wordvecDf' is not defined"
     ]
    }
   ],
   "source": [
    "# splitting data into training and validation set\n",
    "xtrain, xvalid, ytrain, yvalid = train_test_split(wordvecDf,wordvecDf['target'],  \n",
    "                                                          random_state=42, \n",
    "                                                          test_size=0.3)"
   ]
  },
  {
   "cell_type": "code",
   "execution_count": 20,
   "metadata": {},
   "outputs": [
    {
     "ename": "NameError",
     "evalue": "name 'xtrain' is not defined",
     "output_type": "error",
     "traceback": [
      "\u001b[0;31m---------------------------------------------------------------------------\u001b[0m",
      "\u001b[0;31mNameError\u001b[0m                                 Traceback (most recent call last)",
      "\u001b[0;32m<ipython-input-20-79cdf4c72dd8>\u001b[0m in \u001b[0;36m<module>\u001b[0;34m\u001b[0m\n\u001b[1;32m      1\u001b[0m \u001b[0;31m# build a random forest model\u001b[0m\u001b[0;34m\u001b[0m\u001b[0;34m\u001b[0m\u001b[0;34m\u001b[0m\u001b[0m\n\u001b[0;32m----> 2\u001b[0;31m \u001b[0mrandom_forest_model\u001b[0m \u001b[0;34m=\u001b[0m \u001b[0mRandomForestClassifier\u001b[0m\u001b[0;34m(\u001b[0m\u001b[0;34m)\u001b[0m\u001b[0;34m.\u001b[0m\u001b[0mfit\u001b[0m\u001b[0;34m(\u001b[0m\u001b[0mxtrain\u001b[0m\u001b[0;34m,\u001b[0m \u001b[0mytrain\u001b[0m\u001b[0;34m)\u001b[0m\u001b[0;34m\u001b[0m\u001b[0;34m\u001b[0m\u001b[0m\n\u001b[0m\u001b[1;32m      3\u001b[0m \u001b[0mprediction\u001b[0m \u001b[0;34m=\u001b[0m \u001b[0mrandom_forest_model\u001b[0m\u001b[0;34m.\u001b[0m\u001b[0mpredict\u001b[0m\u001b[0;34m(\u001b[0m\u001b[0mxvalid\u001b[0m\u001b[0;34m)\u001b[0m\u001b[0;34m\u001b[0m\u001b[0;34m\u001b[0m\u001b[0m\n\u001b[1;32m      4\u001b[0m \u001b[0mprint\u001b[0m\u001b[0;34m(\u001b[0m\u001b[0;34m\"Accuracy score\"\u001b[0m\u001b[0;34m,\u001b[0m\u001b[0maccuracy_score\u001b[0m\u001b[0;34m(\u001b[0m\u001b[0myvalid\u001b[0m\u001b[0;34m,\u001b[0m \u001b[0mprediction\u001b[0m\u001b[0;34m)\u001b[0m\u001b[0;34m)\u001b[0m\u001b[0;34m\u001b[0m\u001b[0;34m\u001b[0m\u001b[0m\n",
      "\u001b[0;31mNameError\u001b[0m: name 'xtrain' is not defined"
     ]
    }
   ],
   "source": [
    "# build a random forest model\n",
    "random_forest_model = RandomForestClassifier().fit(xtrain, ytrain)\n",
    "prediction = random_forest_model.predict(xvalid)\n",
    "print(\"Accuracy score\",accuracy_score(yvalid, prediction))"
   ]
  },
  {
   "cell_type": "code",
   "execution_count": 21,
   "metadata": {},
   "outputs": [],
   "source": [
    "# we achieved an accuracy of 98%"
   ]
  },
  {
   "cell_type": "code",
   "execution_count": null,
   "metadata": {},
   "outputs": [],
   "source": []
  }
 ],
 "metadata": {
  "kernelspec": {
   "display_name": "Python 3",
   "language": "python",
   "name": "python3"
  },
  "language_info": {
   "codemirror_mode": {
    "name": "ipython",
    "version": 3
   },
   "file_extension": ".py",
   "mimetype": "text/x-python",
   "name": "python",
   "nbconvert_exporter": "python",
   "pygments_lexer": "ipython3",
   "version": "3.8.8"
  }
 },
 "nbformat": 4,
 "nbformat_minor": 4
}

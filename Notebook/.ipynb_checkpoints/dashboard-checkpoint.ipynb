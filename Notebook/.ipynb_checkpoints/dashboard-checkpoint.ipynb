{
 "cells": [
  {
   "cell_type": "code",
   "execution_count": 2,
   "id": "396389f9",
   "metadata": {},
   "outputs": [
    {
     "ename": "NameError",
     "evalue": "name 'pn' is not defined",
     "output_type": "error",
     "traceback": [
      "\u001b[0;31m---------------------------------------------------------------------------\u001b[0m",
      "\u001b[0;31mNameError\u001b[0m                                 Traceback (most recent call last)",
      "\u001b[0;32m<ipython-input-2-f94a7abda4bb>\u001b[0m in \u001b[0;36m<module>\u001b[0;34m\u001b[0m\n\u001b[1;32m      3\u001b[0m \u001b[0;32mimport\u001b[0m \u001b[0mOpenBlender\u001b[0m\u001b[0;34m\u001b[0m\u001b[0;34m\u001b[0m\u001b[0m\n\u001b[1;32m      4\u001b[0m \u001b[0;32mimport\u001b[0m \u001b[0mjson\u001b[0m\u001b[0;34m\u001b[0m\u001b[0;34m\u001b[0m\u001b[0m\n\u001b[0;32m----> 5\u001b[0;31m \u001b[0mpn\u001b[0m\u001b[0;34m.\u001b[0m\u001b[0mextension\u001b[0m\u001b[0;34m(\u001b[0m\u001b[0;34m'plotly'\u001b[0m\u001b[0;34m)\u001b[0m\u001b[0;34m\u001b[0m\u001b[0;34m\u001b[0m\u001b[0m\n\u001b[0m\u001b[1;32m      6\u001b[0m \u001b[0;32mfrom\u001b[0m \u001b[0mmatplotlib\u001b[0m \u001b[0;32mimport\u001b[0m \u001b[0mpyplot\u001b[0m \u001b[0;32mas\u001b[0m \u001b[0mplt\u001b[0m\u001b[0;34m\u001b[0m\u001b[0;34m\u001b[0m\u001b[0m\n\u001b[1;32m      7\u001b[0m \u001b[0;34m\u001b[0m\u001b[0m\n",
      "\u001b[0;31mNameError\u001b[0m: name 'pn' is not defined"
     ]
    }
   ],
   "source": [
    "import pandas as pd\n",
    "import numpy as np\n",
    "import OpenBlender\n",
    "import json\n",
    "import panel as pn\n",
    "pn.extension('plotly')\n",
    "from matplotlib import pyplot as plt\n",
    "\n",
    "import seaborn as sns\n",
    "import panel as pn\n",
    "import hvplot.pandas\n",
    "import pandas as pd\n",
    "from dotenv import load_dotenv\n",
    "import warnings\n",
    "import plotly.graph_objs as go\n",
    "import seaborn as sns\n",
    "import holoviews as hv\n",
    "warnings.filterwarnings('ignore')\n",
    "from sklearn.preprocessing import StandardScaler\n",
    "from sklearn.preprocessing import MinMaxScaler\n",
    "\n",
    "from PIL import Image\n"
   ]
  },
  {
   "cell_type": "code",
   "execution_count": null,
   "id": "5a6351bb",
   "metadata": {},
   "outputs": [],
   "source": [
    "%run antonio_analysis.ipynb"
   ]
  },
  {
   "cell_type": "code",
   "execution_count": null,
   "id": "cff88c09",
   "metadata": {},
   "outputs": [],
   "source": [
    "def openBlender_plot():\n",
    "    data = pd.read_csv('data/input_data.csv')\n",
    "    plt.subplots(figsize=(10,6))\n",
    "    target_data = data.copy()\n",
    "    target_data[\"target\"]=target_data[\"target\"].astype(str)\n",
    "    plot=sns.histplot(data=target_data,x=\"target\",hue=\"target\",palette=[\"#d1120f\",\"#006400\"],legend=\"target\")\n",
    "    plt.title(\"Count of Target Labels\")\n",
    "    plt.legend(title='Label', loc='upper right', labels=['Rise', 'Fall'])\n",
    "    return figure\n",
    "\n",
    "def OpenBlender_test():\n",
    "    image = Image.open(r\"../images/count_target_labels.png\") \n",
    "    return image\n",
    "\n",
    "def Google_Trends():\n",
    "    image = Image.open(r\"../images/google_trends.png\") \n",
    "    return image\n",
    "\n",
    "def Sentiment_Analysis():\n",
    "    image = Image.open(r\"../images/sentiment-analysis.jpeg\")\n",
    "    return image\n",
    "\n",
    "def GoogleTrendsData():\n",
    "    image = Image.open(r\"../images/google_trends_data.png\")\n",
    "    return image"
   ]
  },
  {
   "cell_type": "code",
   "execution_count": null,
   "id": "881c72b5",
   "metadata": {},
   "outputs": [],
   "source": [
    "def GoogleTrends_tt_plot():\n",
    "    history = pd.read_csv('data/gt_history.csv')\n",
    "    plt.plot(history['loss'], label='train')\n",
    "    plt.plot(history['val_loss'], label='test')\n",
    "    plt.title(\"Test and Train set Loss Value Rate\")\n",
    "    plt.xlabel('Epochs Number', fontsize=12)\n",
    "    plt.ylabel('Loss Value', fontsize=12)\n",
    "    plt.legend()\n",
    "    plt.savefig('../images/gt_tt_plot.png')\n",
    "    image = Image.open(r\"../images/gt_tt_plot.png\")\n",
    "    return image\n",
    "    \n"
   ]
  },
  {
   "cell_type": "code",
   "execution_count": null,
   "id": "28d8a34f",
   "metadata": {},
   "outputs": [],
   "source": [
    "def GoogleTrends_pred_plot():\n",
    "    fig = plt.figure()\n",
    "    train_size=70\n",
    "    actual = pd.read_csv('data/gt_actual.csv')\n",
    "    final = pd.read_csv('data/gt_final.csv')\n",
    "    plt.plot(actual.BTC_USD, 'b', label='Original Set')\n",
    "    plt.plot(final.BTC_USD[0:train_size], 'r' , label='Training set')\n",
    "    plt.plot(final.BTC_USD[train_size:], 'g' , label='Predicted/Test set')\n",
    "    plt.title(\"Bitcoin Predicted Prices\")\n",
    "    plt.ylabel('BitCoin Price Trend', fontsize=12)\n",
    "    plt.legend(loc='best')\n",
    "    plt.savefig(\"../images/gt_pred.png\")\n",
    "    image = Image.open(r\"../images/gt_pred.png\")\n",
    "    return image\n",
    "\n",
    "    "
   ]
  },
  {
   "cell_type": "code",
   "execution_count": null,
   "id": "edc9e5fb",
   "metadata": {},
   "outputs": [],
   "source": [
    "def TwitterSentimentVBTC():\n",
    "    fig, ax1 = plt.subplots(figsize=(12,6))\n",
    "    ax1.set_title(f\"Twitter Sentiment VS {symbol} USD\", fontsize=18)\n",
    "    ax1.tick_params(labelsize=14)\n",
    "    ax2 = ax1.twinx()\n",
    "    ax1.plot_date(tweets_grouped.index, tweets_grouped, 'r-')\n",
    "    ax2.plot_date(crypto_usd_grouped.index, crypto_usd_grouped, 'g-')\n",
    "\n",
    "    ax1.set_ylabel(\"Sentiment\", color='r', fontsize=16)\n",
    "    ax2.set_ylabel(f\"{symbol} [$]\", color='g', fontsize=16)\n",
    "    return fig\n"
   ]
  },
  {
   "cell_type": "code",
   "execution_count": null,
   "id": "2c965766",
   "metadata": {},
   "outputs": [],
   "source": [
    "def TwitterSentimentVBTC_corr():\n",
    "    fig = plt.figure()\n",
    "    xcov = [crosscorr(tweets_grouped, crypto_usd_grouped, lag = i) for i in range(-20,20)]\n",
    "    plt.plot(range(-20,20), xcov)\n",
    "    plt.xlabel(\"lag\")\n",
    "    plt.ylabel(\"correlation\")\n",
    "    plt.savefig(\"../images/twitter_corr.png\")\n",
    "    image = Image.open(r\"../images/twitter_corr.png\")\n",
    "    return image\n"
   ]
  },
  {
   "cell_type": "code",
   "execution_count": null,
   "id": "ecc5ea3e",
   "metadata": {},
   "outputs": [],
   "source": [
    "def TwitterNormalized():\n",
    "    fig = plt.figure()\n",
    "    tweets_grouped_normalized = tweets_grouped / max(tweets_grouped.max(), abs(tweets_grouped.min()))\n",
    "    crypto_usd_grouped_normalized = crypto_usd_grouped / max(crypto_usd_grouped.max(), abs(crypto_usd_grouped.min()))\n",
    "\n",
    "    fig, ax1 = plt.subplots(figsize=(20,10))\n",
    "    ax1.set_title(f\"Twitter Sentiment (Normalized) VS {symbol} USD\", fontsize=18)\n",
    "    ax1.tick_params(labelsize=14)\n",
    "\n",
    "    ax2 = ax1.twinx()\n",
    "    ax1.plot_date(tweets_grouped_normalized.index, tweets_grouped_normalized, 'r-')\n",
    "    ax2.plot_date(crypto_usd_grouped_normalized.index, crypto_usd_grouped_normalized, 'g-')\n",
    "\n",
    "    ax1.set_ylabel(\"Sentiment\", color='r', fontsize=16)\n",
    "    ax2.set_ylabel(f\"{symbol} normalized\", color='g', fontsize=16)\n",
    "\n",
    "    plt.savefig(\"../images/twitter_norm.png\")\n",
    "    image = Image.open(r\"../images/twitter_norm.png\")\n",
    "    return image"
   ]
  },
  {
   "cell_type": "code",
   "execution_count": null,
   "id": "0a93e7b8",
   "metadata": {},
   "outputs": [],
   "source": [
    "def TwitterNormalizedCorr():\n",
    "    image = Image.open(r\"../images/twitter_corr.png\")\n",
    "    return image\n",
    "\n",
    "TwitterNormalizedCorr()"
   ]
  },
  {
   "cell_type": "code",
   "execution_count": null,
   "id": "495f0e0f",
   "metadata": {},
   "outputs": [],
   "source": [
    "def DervTwitter():\n",
    "    fig = plt.figure()\n",
    "    fig, ax1 = plt.subplots(figsize=(20,10))\n",
    "    ax1.set_title(f\"Derivative: Twitter Sentiment VS {symbol} USD\", fontsize=18)\n",
    "    ax1.tick_params(labelsize=14)\n",
    "\n",
    "    ax2 = ax1.twinx()\n",
    "    ax1.plot_date(tweets_grouped_derivative.index, tweets_grouped_derivative, 'g-')\n",
    "    ax2.plot_date(crypto_usd_grouped_derivative.index, crypto_usd_grouped_derivative, 'r-')\n",
    "\n",
    "    ax1.set_ylabel(f\"{symbol}'s derivative'\", color='g', fontsize=16)\n",
    "    ax2.set_ylabel(\"Sentiment's derivative\", color='r', fontsize=16)\n",
    "    \n",
    "    plt.savefig(\"../images/twitter_derv.png\")\n",
    "    image = Image.open(r\"../images/twitter_derv.png\")\n",
    "    return image"
   ]
  },
  {
   "cell_type": "code",
   "execution_count": null,
   "id": "530b10ef",
   "metadata": {},
   "outputs": [],
   "source": [
    "# Create a Title for the Dashboard\n",
    "\n",
    "title = pn.pane.Markdown(\"\"\"\n",
    "## Crypto Sentiment\n",
    "\"\"\")"
   ]
  },
  {
   "cell_type": "code",
   "execution_count": null,
   "id": "f3169def",
   "metadata": {},
   "outputs": [],
   "source": [
    "tabs = pn.Tabs(\n",
    "    (\"OpenBlender\", pn.Column(OpenBlender_test)),\n",
    "    (\"Sentiment Analysis\", pn.Column(Sentiment_Analysis)),\n",
    "    (\"Google Trends Data\", pn.Column(GoogleTrendsData)),\n",
    "    (\"Google Trends Test&Train\", pn.Column(GoogleTrends_tt_plot)),\n",
    "    (\"Google Trends Predictions\", pn.Column(GoogleTrends_pred_plot)),\n",
    "    (\"Google Trends Hits vs. BTC\", pn.Column(Google_Trends)),\n",
    "    (\"Twitter Sentiment vs. BTC\", pn.Column(TwitterSentimentVBTC)),\n",
    "    (\"Twitter Sentiment vs. BTC Corr\", pn. Column(TwitterSentimentVBTC_corr)),\n",
    "    (\"Twitter Normalized\", pn.Column(TwitterNormalized)),\n",
    "    (\"Twitter Normalized Corr\", pn.Column(TwitterNormalizedCorr)),\n",
    "    (\"Twitter Derivative\", pn.Column(DervTwitter))\n",
    "    \n",
    "    )\n"
   ]
  },
  {
   "cell_type": "code",
   "execution_count": null,
   "id": "55575ccc",
   "metadata": {},
   "outputs": [],
   "source": [
    "dashboard = pn.Column(title, tabs)\n",
    "#pn.extension()\n"
   ]
  },
  {
   "cell_type": "code",
   "execution_count": null,
   "id": "89a1b422",
   "metadata": {},
   "outputs": [],
   "source": [
    "dashboard\n"
   ]
  },
  {
   "cell_type": "code",
   "execution_count": null,
   "id": "dfd834fe",
   "metadata": {},
   "outputs": [],
   "source": [
    "dashboard.show()\n"
   ]
  },
  {
   "cell_type": "code",
   "execution_count": null,
   "id": "5b8f7b26",
   "metadata": {},
   "outputs": [],
   "source": []
  }
 ],
 "metadata": {
  "kernelspec": {
   "display_name": "Python [conda env:pyvizenv2] *",
   "language": "python",
   "name": "conda-env-pyvizenv2-py"
  },
  "language_info": {
   "codemirror_mode": {
    "name": "ipython",
    "version": 3
   },
   "file_extension": ".py",
   "mimetype": "text/x-python",
   "name": "python",
   "nbconvert_exporter": "python",
   "pygments_lexer": "ipython3",
   "version": "3.7.7"
  }
 },
 "nbformat": 4,
 "nbformat_minor": 5
}

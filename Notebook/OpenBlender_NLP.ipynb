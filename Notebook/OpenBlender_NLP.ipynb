{
 "cells": [
  {
   "cell_type": "code",
   "execution_count": 116,
   "metadata": {},
   "outputs": [],
   "source": [
    "# !pip install openblender"
   ]
  },
  {
   "cell_type": "code",
   "execution_count": 117,
   "metadata": {},
   "outputs": [],
   "source": [
    "import pandas as pd\n",
    "import numpy as np\n",
    "import OpenBlender\n",
    "import json\n",
    "import matplotlib.pyplot as plt\n",
    "import seaborn as sns\n",
    "import nltk\n",
    "from nltk.stem import WordNetLemmatizer\n",
    "from nltk.corpus import wordnet\n",
    "#nltk.download('vader_lexicon')\n",
    "from nltk.sentiment.vader import SentimentIntensityAnalyzer"
   ]
  },
  {
   "cell_type": "code",
   "execution_count": 118,
   "metadata": {},
   "outputs": [],
   "source": [
    "import os\n",
    "from dotenv import load_dotenv"
   ]
  },
  {
   "cell_type": "markdown",
   "metadata": {},
   "source": [
    "Our aim would be to use news data to predict the change in crypto market, i.e whether the crypto price would rise or whether it would fall"
   ]
  },
  {
   "cell_type": "code",
   "execution_count": 119,
   "metadata": {},
   "outputs": [],
   "source": [
    "# token is the api_token from the OpenBlender website\n",
    "\n",
    "load_dotenv(\"env.env\")\n",
    "token = os.getenv(\"token\")\n",
    "action = os.getenv(\"action\")"
   ]
  },
  {
   "cell_type": "code",
   "execution_count": 120,
   "metadata": {},
   "outputs": [
    {
     "name": "stdout",
     "output_type": "stream",
     "text": [
      "Task ID: '61e0d3cc0895fafb4a9d8d4b'.\n",
      "Total estimated consumption: 500.02 processing units.\n",
      "100.0 % completed.\n"
     ]
    }
   ],
   "source": [
    "# we are using Bitcoin vs USD, which is Daily exchange rate of US dollar vs Bitcoin\n",
    "parameters = { \n",
    "    'token' : token,\n",
    "    'id_dataset' : '5d4c3af79516290b01c83f51',\n",
    "    'date_filter':{\"start_date\" : \"2020-05-01\",\n",
    "                   \"end_date\" : \"2021-01-30\"} \n",
    "}\n",
    "# reading the json response of the API into pandas dataframe\n",
    "data = pd.read_json(json.dumps(OpenBlender.call(action, parameters)['sample']), convert_dates=False, convert_axes=False).sort_values('timestamp', ascending=False)\n",
    "data.reset_index(drop=True, inplace=True)\n",
    "# converting timestamp to date \n",
    "data['date'] = [OpenBlender.unixToDate(ts, timezone = 'GMT') for ts in data.timestamp]\n",
    "data = data.drop('timestamp', axis = 1)"
   ]
  },
  {
   "cell_type": "code",
   "execution_count": 121,
   "metadata": {},
   "outputs": [
    {
     "data": {
      "text/html": [
       "<div>\n",
       "<style scoped>\n",
       "    .dataframe tbody tr th:only-of-type {\n",
       "        vertical-align: middle;\n",
       "    }\n",
       "\n",
       "    .dataframe tbody tr th {\n",
       "        vertical-align: top;\n",
       "    }\n",
       "\n",
       "    .dataframe thead th {\n",
       "        text-align: right;\n",
       "    }\n",
       "</style>\n",
       "<table border=\"1\" class=\"dataframe\">\n",
       "  <thead>\n",
       "    <tr style=\"text-align: right;\">\n",
       "      <th></th>\n",
       "      <th>volume</th>\n",
       "      <th>price</th>\n",
       "      <th>high</th>\n",
       "      <th>low</th>\n",
       "      <th>open</th>\n",
       "      <th>change</th>\n",
       "      <th>date</th>\n",
       "    </tr>\n",
       "  </thead>\n",
       "  <tbody>\n",
       "    <tr>\n",
       "      <th>0</th>\n",
       "      <td>14.77K</td>\n",
       "      <td>30454.0</td>\n",
       "      <td>32519.0</td>\n",
       "      <td>29815.0</td>\n",
       "      <td>32519.0</td>\n",
       "      <td>-6.35%</td>\n",
       "      <td>27-01-2021 17:00:00</td>\n",
       "    </tr>\n",
       "    <tr>\n",
       "      <th>1</th>\n",
       "      <td>8.54K</td>\n",
       "      <td>32519.0</td>\n",
       "      <td>32735.1</td>\n",
       "      <td>31434.0</td>\n",
       "      <td>32268.1</td>\n",
       "      <td>0.78%</td>\n",
       "      <td>26-01-2021 17:00:00</td>\n",
       "    </tr>\n",
       "    <tr>\n",
       "      <th>2</th>\n",
       "      <td>9.23K</td>\n",
       "      <td>32268.1</td>\n",
       "      <td>34693.0</td>\n",
       "      <td>32268.1</td>\n",
       "      <td>32298.0</td>\n",
       "      <td>-0.09%</td>\n",
       "      <td>25-01-2021 17:00:00</td>\n",
       "    </tr>\n",
       "    <tr>\n",
       "      <th>3</th>\n",
       "      <td>5.89K</td>\n",
       "      <td>32298.0</td>\n",
       "      <td>32830.0</td>\n",
       "      <td>31481.0</td>\n",
       "      <td>32099.0</td>\n",
       "      <td>0.62%</td>\n",
       "      <td>24-01-2021 17:00:00</td>\n",
       "    </tr>\n",
       "    <tr>\n",
       "      <th>4</th>\n",
       "      <td>7.07K</td>\n",
       "      <td>32099.0</td>\n",
       "      <td>33062.0</td>\n",
       "      <td>31773.0</td>\n",
       "      <td>33062.0</td>\n",
       "      <td>-2.91%</td>\n",
       "      <td>23-01-2021 17:00:00</td>\n",
       "    </tr>\n",
       "  </tbody>\n",
       "</table>\n",
       "</div>"
      ],
      "text/plain": [
       "   volume    price     high      low     open  change                 date\n",
       "0  14.77K  30454.0  32519.0  29815.0  32519.0  -6.35%  27-01-2021 17:00:00\n",
       "1   8.54K  32519.0  32735.1  31434.0  32268.1   0.78%  26-01-2021 17:00:00\n",
       "2   9.23K  32268.1  34693.0  32268.1  32298.0  -0.09%  25-01-2021 17:00:00\n",
       "3   5.89K  32298.0  32830.0  31481.0  32099.0   0.62%  24-01-2021 17:00:00\n",
       "4   7.07K  32099.0  33062.0  31773.0  33062.0  -2.91%  23-01-2021 17:00:00"
      ]
     },
     "execution_count": 121,
     "metadata": {},
     "output_type": "execute_result"
    }
   ],
   "source": [
    "data.head()"
   ]
  },
  {
   "cell_type": "code",
   "execution_count": 122,
   "metadata": {},
   "outputs": [],
   "source": [
    "# generate the target variable which is whether the crypto price increased or declined\n",
    "# we are subtracting the closing price and opening price\n",
    "data['log_diff'] = np.log(data['price']) - np.log(data['open'])"
   ]
  },
  {
   "cell_type": "code",
   "execution_count": 123,
   "metadata": {},
   "outputs": [],
   "source": [
    "# let's generate the target variable based on log_diff, if greater than 0, it means rise, if less than 0 it means decline\n",
    "data['target'] = [1 if log_diff > 0 else 0 for log_diff in data['log_diff']]"
   ]
  },
  {
   "cell_type": "code",
   "execution_count": 124,
   "metadata": {},
   "outputs": [
    {
     "data": {
      "image/png": "[encoded data removed]",
      "text/plain": [
       "<Figure size 2000x1000 with 1 Axes>"
      ]
     },
     "metadata": {},
     "output_type": "display_data"
    },
    {
     "data": {
      "image/png": "[encoded data removed]",
      "text/plain": [
       "<Figure size 1000x600 with 1 Axes>"
      ]
     },
     "metadata": {},
     "output_type": "display_data"
    }
   ],
   "source": [
    "# let's look at the count of the target variables\n",
    "plt.subplots(figsize=(10,6))\n",
    "target_data = data.copy()\n",
    "target_data[\"target\"]=target_data[\"target\"].astype(str)\n",
    "plot=sns.histplot(data=target_data,x=\"target\",hue=\"target\",palette=[\"#d1120f\",\"#006400\"],legend=\"target\")\n",
    "plt.title(\"Count of Target Labels\")\n",
    "plt.legend(title='Label', loc='upper right', labels=['Rise', 'Fall'])\n",
    "plt.show(plot)\n"
   ]
  },
  {
   "cell_type": "code",
   "execution_count": 125,
   "metadata": {},
   "outputs": [
    {
     "data": {
      "text/html": [
       "<div>\n",
       "<style scoped>\n",
       "    .dataframe tbody tr th:only-of-type {\n",
       "        vertical-align: middle;\n",
       "    }\n",
       "\n",
       "    .dataframe tbody tr th {\n",
       "        vertical-align: top;\n",
       "    }\n",
       "\n",
       "    .dataframe thead th {\n",
       "        text-align: right;\n",
       "    }\n",
       "</style>\n",
       "<table border=\"1\" class=\"dataframe\">\n",
       "  <thead>\n",
       "    <tr style=\"text-align: right;\">\n",
       "      <th></th>\n",
       "      <th>volume</th>\n",
       "      <th>price</th>\n",
       "      <th>high</th>\n",
       "      <th>low</th>\n",
       "      <th>open</th>\n",
       "      <th>change</th>\n",
       "      <th>date</th>\n",
       "      <th>log_diff</th>\n",
       "      <th>target</th>\n",
       "    </tr>\n",
       "  </thead>\n",
       "  <tbody>\n",
       "    <tr>\n",
       "      <th>0</th>\n",
       "      <td>14.77K</td>\n",
       "      <td>30454.0</td>\n",
       "      <td>32519.0</td>\n",
       "      <td>29815.0</td>\n",
       "      <td>32519.0</td>\n",
       "      <td>-6.35%</td>\n",
       "      <td>27-01-2021 17:00:00</td>\n",
       "      <td>-0.065607</td>\n",
       "      <td>0</td>\n",
       "    </tr>\n",
       "    <tr>\n",
       "      <th>1</th>\n",
       "      <td>8.54K</td>\n",
       "      <td>32519.0</td>\n",
       "      <td>32735.1</td>\n",
       "      <td>31434.0</td>\n",
       "      <td>32268.1</td>\n",
       "      <td>0.78%</td>\n",
       "      <td>26-01-2021 17:00:00</td>\n",
       "      <td>0.007745</td>\n",
       "      <td>1</td>\n",
       "    </tr>\n",
       "    <tr>\n",
       "      <th>2</th>\n",
       "      <td>9.23K</td>\n",
       "      <td>32268.1</td>\n",
       "      <td>34693.0</td>\n",
       "      <td>32268.1</td>\n",
       "      <td>32298.0</td>\n",
       "      <td>-0.09%</td>\n",
       "      <td>25-01-2021 17:00:00</td>\n",
       "      <td>-0.000926</td>\n",
       "      <td>0</td>\n",
       "    </tr>\n",
       "    <tr>\n",
       "      <th>3</th>\n",
       "      <td>5.89K</td>\n",
       "      <td>32298.0</td>\n",
       "      <td>32830.0</td>\n",
       "      <td>31481.0</td>\n",
       "      <td>32099.0</td>\n",
       "      <td>0.62%</td>\n",
       "      <td>24-01-2021 17:00:00</td>\n",
       "      <td>0.006180</td>\n",
       "      <td>1</td>\n",
       "    </tr>\n",
       "    <tr>\n",
       "      <th>4</th>\n",
       "      <td>7.07K</td>\n",
       "      <td>32099.0</td>\n",
       "      <td>33062.0</td>\n",
       "      <td>31773.0</td>\n",
       "      <td>33062.0</td>\n",
       "      <td>-2.91%</td>\n",
       "      <td>23-01-2021 17:00:00</td>\n",
       "      <td>-0.029560</td>\n",
       "      <td>0</td>\n",
       "    </tr>\n",
       "  </tbody>\n",
       "</table>\n",
       "</div>"
      ],
      "text/plain": [
       "   volume    price     high      low     open  change                 date  \\\n",
       "0  14.77K  30454.0  32519.0  29815.0  32519.0  -6.35%  27-01-2021 17:00:00   \n",
       "1   8.54K  32519.0  32735.1  31434.0  32268.1   0.78%  26-01-2021 17:00:00   \n",
       "2   9.23K  32268.1  34693.0  32268.1  32298.0  -0.09%  25-01-2021 17:00:00   \n",
       "3   5.89K  32298.0  32830.0  31481.0  32099.0   0.62%  24-01-2021 17:00:00   \n",
       "4   7.07K  32099.0  33062.0  31773.0  33062.0  -2.91%  23-01-2021 17:00:00   \n",
       "\n",
       "   log_diff  target  \n",
       "0 -0.065607       0  \n",
       "1  0.007745       1  \n",
       "2 -0.000926       0  \n",
       "3  0.006180       1  \n",
       "4 -0.029560       0  "
      ]
     },
     "execution_count": 125,
     "metadata": {},
     "output_type": "execute_result"
    }
   ],
   "source": [
    "data.head()"
   ]
  },
  {
   "cell_type": "code",
   "execution_count": 126,
   "metadata": {},
   "outputs": [
    {
     "data": {
      "text/html": [
       "<div>\n",
       "<style scoped>\n",
       "    .dataframe tbody tr th:only-of-type {\n",
       "        vertical-align: middle;\n",
       "    }\n",
       "\n",
       "    .dataframe tbody tr th {\n",
       "        vertical-align: top;\n",
       "    }\n",
       "\n",
       "    .dataframe thead th {\n",
       "        text-align: right;\n",
       "    }\n",
       "</style>\n",
       "<table border=\"1\" class=\"dataframe\">\n",
       "  <thead>\n",
       "    <tr style=\"text-align: right;\">\n",
       "      <th></th>\n",
       "      <th>date</th>\n",
       "      <th>timestamp</th>\n",
       "      <th>price</th>\n",
       "      <th>target</th>\n",
       "    </tr>\n",
       "  </thead>\n",
       "  <tbody>\n",
       "    <tr>\n",
       "      <th>0</th>\n",
       "      <td>27-01-2021 17:00:00</td>\n",
       "      <td>1.611767e+09</td>\n",
       "      <td>30454.0</td>\n",
       "      <td>0</td>\n",
       "    </tr>\n",
       "    <tr>\n",
       "      <th>1</th>\n",
       "      <td>26-01-2021 17:00:00</td>\n",
       "      <td>1.611680e+09</td>\n",
       "      <td>32519.0</td>\n",
       "      <td>1</td>\n",
       "    </tr>\n",
       "    <tr>\n",
       "      <th>2</th>\n",
       "      <td>25-01-2021 17:00:00</td>\n",
       "      <td>1.611594e+09</td>\n",
       "      <td>32268.1</td>\n",
       "      <td>0</td>\n",
       "    </tr>\n",
       "    <tr>\n",
       "      <th>3</th>\n",
       "      <td>24-01-2021 17:00:00</td>\n",
       "      <td>1.611508e+09</td>\n",
       "      <td>32298.0</td>\n",
       "      <td>1</td>\n",
       "    </tr>\n",
       "    <tr>\n",
       "      <th>4</th>\n",
       "      <td>23-01-2021 17:00:00</td>\n",
       "      <td>1.611421e+09</td>\n",
       "      <td>32099.0</td>\n",
       "      <td>0</td>\n",
       "    </tr>\n",
       "  </tbody>\n",
       "</table>\n",
       "</div>"
      ],
      "text/plain": [
       "                  date     timestamp    price  target\n",
       "0  27-01-2021 17:00:00  1.611767e+09  30454.0       0\n",
       "1  26-01-2021 17:00:00  1.611680e+09  32519.0       1\n",
       "2  25-01-2021 17:00:00  1.611594e+09  32268.1       0\n",
       "3  24-01-2021 17:00:00  1.611508e+09  32298.0       1\n",
       "4  23-01-2021 17:00:00  1.611421e+09  32099.0       0"
      ]
     },
     "execution_count": 126,
     "metadata": {},
     "output_type": "execute_result"
    }
   ],
   "source": [
    "# Now, we want to mix external news data with our bitcoin data, to do so we will time-blend. \n",
    "# In other words, it means to outer join the news dataset using the timestamp as key.\n",
    "format = '%d-%m-%Y %H:%M:%S'\n",
    "timezone = 'GMT'\n",
    "\n",
    "# The Unix Timestamp is the number of seconds since 1970 on UTC \n",
    "# it is a very preferred format because it is the same in every time zone in the world\n",
    "\n",
    "data['timestamp'] = OpenBlender.dateToUnix(data['date'], \n",
    "                                           date_format = format, \n",
    "                                           timezone = timezone)\n",
    "data = data[['date', 'timestamp', 'price', 'target']]\n",
    "data.head()"
   ]
  },
  {
   "cell_type": "code",
   "execution_count": 127,
   "metadata": {},
   "outputs": [
    {
     "name": "stdout",
     "output_type": "stream",
     "text": [
      "Task ID: '61e0d3cf0895fafb4a9d8d4c'.\n",
      "Total estimated consumption: 1564.8 processing units.\n",
      "Task confirmed. Starting download..\n",
      "100%\n"
     ]
    },
    {
     "data": {
      "text/html": [
       "<div>\n",
       "<style scoped>\n",
       "    .dataframe tbody tr th:only-of-type {\n",
       "        vertical-align: middle;\n",
       "    }\n",
       "\n",
       "    .dataframe tbody tr th {\n",
       "        vertical-align: top;\n",
       "    }\n",
       "\n",
       "    .dataframe thead th {\n",
       "        text-align: right;\n",
       "    }\n",
       "</style>\n",
       "<table border=\"1\" class=\"dataframe\">\n",
       "  <thead>\n",
       "    <tr style=\"text-align: right;\">\n",
       "      <th></th>\n",
       "      <th>date</th>\n",
       "      <th>timestamp</th>\n",
       "      <th>price</th>\n",
       "      <th>target</th>\n",
       "      <th>BITCOIN_NE.text_COUNT_last1days</th>\n",
       "      <th>BITCOIN_NE.text_last1days</th>\n",
       "    </tr>\n",
       "  </thead>\n",
       "  <tbody>\n",
       "    <tr>\n",
       "      <th>0</th>\n",
       "      <td>27-01-2021 17:00:00</td>\n",
       "      <td>1.611767e+09</td>\n",
       "      <td>30454.0</td>\n",
       "      <td>0</td>\n",
       "      <td>24</td>\n",
       "      <td>[, cryptocurrencies have gained popularity in ...</td>\n",
       "    </tr>\n",
       "    <tr>\n",
       "      <th>1</th>\n",
       "      <td>26-01-2021 17:00:00</td>\n",
       "      <td>1.611680e+09</td>\n",
       "      <td>32519.0</td>\n",
       "      <td>1</td>\n",
       "      <td>20</td>\n",
       "      <td>[zelaapayae uae will now have a crypto debit c...</td>\n",
       "    </tr>\n",
       "    <tr>\n",
       "      <th>2</th>\n",
       "      <td>25-01-2021 17:00:00</td>\n",
       "      <td>1.611594e+09</td>\n",
       "      <td>32268.1</td>\n",
       "      <td>0</td>\n",
       "      <td>15</td>\n",
       "      <td>[cashpay  ecommerce marketplace powered by cry...</td>\n",
       "    </tr>\n",
       "    <tr>\n",
       "      <th>3</th>\n",
       "      <td>24-01-2021 17:00:00</td>\n",
       "      <td>1.611508e+09</td>\n",
       "      <td>32298.0</td>\n",
       "      <td>1</td>\n",
       "      <td>15</td>\n",
       "      <td>[oh look the researcher willy woo said suddenl...</td>\n",
       "    </tr>\n",
       "    <tr>\n",
       "      <th>4</th>\n",
       "      <td>23-01-2021 17:00:00</td>\n",
       "      <td>1.611421e+09</td>\n",
       "      <td>32099.0</td>\n",
       "      <td>0</td>\n",
       "      <td>18</td>\n",
       "      <td>[according to wu, the chinese crypto community...</td>\n",
       "    </tr>\n",
       "  </tbody>\n",
       "</table>\n",
       "</div>"
      ],
      "text/plain": [
       "                  date     timestamp    price  target  \\\n",
       "0  27-01-2021 17:00:00  1.611767e+09  30454.0       0   \n",
       "1  26-01-2021 17:00:00  1.611680e+09  32519.0       1   \n",
       "2  25-01-2021 17:00:00  1.611594e+09  32268.1       0   \n",
       "3  24-01-2021 17:00:00  1.611508e+09  32298.0       1   \n",
       "4  23-01-2021 17:00:00  1.611421e+09  32099.0       0   \n",
       "\n",
       "   BITCOIN_NE.text_COUNT_last1days  \\\n",
       "0                               24   \n",
       "1                               20   \n",
       "2                               15   \n",
       "3                               15   \n",
       "4                               18   \n",
       "\n",
       "                           BITCOIN_NE.text_last1days  \n",
       "0  [, cryptocurrencies have gained popularity in ...  \n",
       "1  [zelaapayae uae will now have a crypto debit c...  \n",
       "2  [cashpay  ecommerce marketplace powered by cry...  \n",
       "3  [oh look the researcher willy woo said suddenl...  \n",
       "4  [according to wu, the chinese crypto community...  "
      ]
     },
     "execution_count": 127,
     "metadata": {},
     "output_type": "execute_result"
    }
   ],
   "source": [
    "# next step would be to concat the news dataset with our bitcoin price dataset\n",
    "# We need to add the id of the dataset and the feature we want from the dataset.\n",
    "# as the crypto market data is daily based we would aggregrate the news on daily basis \n",
    "blend_source = {\n",
    "                'id_dataset':'5ea2039095162936337156c9',\n",
    "                'feature' : 'text'\n",
    "            }\n",
    "\n",
    "# Now, let's 'timeBlend' it to our dataset\n",
    "data_with_news = OpenBlender.timeBlend( token = token, # API token\n",
    "                                  anchor_ts = data.timestamp, # our timestamp column,\n",
    "                                  blend_source = blend_source,\n",
    "                                  blend_type = 'agg_in_intervals', # 'agg_in_intervals' because we want 24 hour interval aggregation\n",
    "                                  interval_size = 60 * 60 * 24,\n",
    "                                  direction = 'time_prior',\n",
    "                                  interval_output = 'list',\n",
    "                                  missing_values = 'raw')\n",
    "data = pd.concat([data, data_with_news.loc[:, data_with_news.columns != 'timestamp']], axis = 1)\n",
    "data.head()"
   ]
  },
  {
   "cell_type": "markdown",
   "metadata": {},
   "source": [
    "BITCOIN_NE.text_COUNT_last1days shows the number of news on that day"
   ]
  },
  {
   "cell_type": "code",
   "execution_count": 128,
   "metadata": {},
   "outputs": [],
   "source": [
    "# let's save our data for the future use\n",
    "data.to_csv(\"Input_data.csv\", index = False)"
   ]
  },
  {
   "cell_type": "code",
   "execution_count": 129,
   "metadata": {},
   "outputs": [],
   "source": [
    "# let's merge our list of news on each day, to one string so that we can tokenize\n",
    "data[\"news\"] = data[\"BITCOIN_NE.text_last1days\"].apply(lambda x: \" \".join(x))"
   ]
  },
  {
   "cell_type": "code",
   "execution_count": 130,
   "metadata": {},
   "outputs": [
    {
     "data": {
      "text/html": [
       "<div>\n",
       "<style scoped>\n",
       "    .dataframe tbody tr th:only-of-type {\n",
       "        vertical-align: middle;\n",
       "    }\n",
       "\n",
       "    .dataframe tbody tr th {\n",
       "        vertical-align: top;\n",
       "    }\n",
       "\n",
       "    .dataframe thead th {\n",
       "        text-align: right;\n",
       "    }\n",
       "</style>\n",
       "<table border=\"1\" class=\"dataframe\">\n",
       "  <thead>\n",
       "    <tr style=\"text-align: right;\">\n",
       "      <th></th>\n",
       "      <th>date</th>\n",
       "      <th>timestamp</th>\n",
       "      <th>price</th>\n",
       "      <th>target</th>\n",
       "      <th>BITCOIN_NE.text_COUNT_last1days</th>\n",
       "      <th>BITCOIN_NE.text_last1days</th>\n",
       "      <th>news</th>\n",
       "    </tr>\n",
       "  </thead>\n",
       "  <tbody>\n",
       "    <tr>\n",
       "      <th>0</th>\n",
       "      <td>27-01-2021 17:00:00</td>\n",
       "      <td>1.611767e+09</td>\n",
       "      <td>30454.0</td>\n",
       "      <td>0</td>\n",
       "      <td>24</td>\n",
       "      <td>[, cryptocurrencies have gained popularity in ...</td>\n",
       "      <td>cryptocurrencies have gained popularity in re...</td>\n",
       "    </tr>\n",
       "    <tr>\n",
       "      <th>1</th>\n",
       "      <td>26-01-2021 17:00:00</td>\n",
       "      <td>1.611680e+09</td>\n",
       "      <td>32519.0</td>\n",
       "      <td>1</td>\n",
       "      <td>20</td>\n",
       "      <td>[zelaapayae uae will now have a crypto debit c...</td>\n",
       "      <td>zelaapayae uae will now have a crypto debit ca...</td>\n",
       "    </tr>\n",
       "    <tr>\n",
       "      <th>2</th>\n",
       "      <td>25-01-2021 17:00:00</td>\n",
       "      <td>1.611594e+09</td>\n",
       "      <td>32268.1</td>\n",
       "      <td>0</td>\n",
       "      <td>15</td>\n",
       "      <td>[cashpay  ecommerce marketplace powered by cry...</td>\n",
       "      <td>cashpay  ecommerce marketplace powered by cryp...</td>\n",
       "    </tr>\n",
       "    <tr>\n",
       "      <th>3</th>\n",
       "      <td>24-01-2021 17:00:00</td>\n",
       "      <td>1.611508e+09</td>\n",
       "      <td>32298.0</td>\n",
       "      <td>1</td>\n",
       "      <td>15</td>\n",
       "      <td>[oh look the researcher willy woo said suddenl...</td>\n",
       "      <td>oh look the researcher willy woo said suddenly...</td>\n",
       "    </tr>\n",
       "    <tr>\n",
       "      <th>4</th>\n",
       "      <td>23-01-2021 17:00:00</td>\n",
       "      <td>1.611421e+09</td>\n",
       "      <td>32099.0</td>\n",
       "      <td>0</td>\n",
       "      <td>18</td>\n",
       "      <td>[according to wu, the chinese crypto community...</td>\n",
       "      <td>according to wu, the chinese crypto community ...</td>\n",
       "    </tr>\n",
       "  </tbody>\n",
       "</table>\n",
       "</div>"
      ],
      "text/plain": [
       "                  date     timestamp    price  target  \\\n",
       "0  27-01-2021 17:00:00  1.611767e+09  30454.0       0   \n",
       "1  26-01-2021 17:00:00  1.611680e+09  32519.0       1   \n",
       "2  25-01-2021 17:00:00  1.611594e+09  32268.1       0   \n",
       "3  24-01-2021 17:00:00  1.611508e+09  32298.0       1   \n",
       "4  23-01-2021 17:00:00  1.611421e+09  32099.0       0   \n",
       "\n",
       "   BITCOIN_NE.text_COUNT_last1days  \\\n",
       "0                               24   \n",
       "1                               20   \n",
       "2                               15   \n",
       "3                               15   \n",
       "4                               18   \n",
       "\n",
       "                           BITCOIN_NE.text_last1days  \\\n",
       "0  [, cryptocurrencies have gained popularity in ...   \n",
       "1  [zelaapayae uae will now have a crypto debit c...   \n",
       "2  [cashpay  ecommerce marketplace powered by cry...   \n",
       "3  [oh look the researcher willy woo said suddenl...   \n",
       "4  [according to wu, the chinese crypto community...   \n",
       "\n",
       "                                                news  \n",
       "0   cryptocurrencies have gained popularity in re...  \n",
       "1  zelaapayae uae will now have a crypto debit ca...  \n",
       "2  cashpay  ecommerce marketplace powered by cryp...  \n",
       "3  oh look the researcher willy woo said suddenly...  \n",
       "4  according to wu, the chinese crypto community ...  "
      ]
     },
     "execution_count": 130,
     "metadata": {},
     "output_type": "execute_result"
    }
   ],
   "source": [
    "data.head()"
   ]
  },
  {
   "cell_type": "code",
   "execution_count": 131,
   "metadata": {},
   "outputs": [
    {
     "name": "stdout",
     "output_type": "stream",
     "text": [
      "Requirement already satisfied: gensim in /Users/mcmachine/opt/anaconda3/lib/python3.8/site-packages (4.1.2)\n",
      "Requirement already satisfied: scipy>=0.18.1 in /Users/mcmachine/opt/anaconda3/lib/python3.8/site-packages (from gensim) (1.6.2)\n",
      "Requirement already satisfied: numpy>=1.17.0 in /Users/mcmachine/opt/anaconda3/lib/python3.8/site-packages (from gensim) (1.19.5)\n",
      "Requirement already satisfied: smart-open>=1.8.1 in /Users/mcmachine/opt/anaconda3/lib/python3.8/site-packages (from gensim) (5.2.1)\n"
     ]
    }
   ],
   "source": [
    "!pip install gensim"
   ]
  },
  {
   "cell_type": "code",
   "execution_count": 132,
   "metadata": {},
   "outputs": [
    {
     "data": {
      "text/plain": [
       "(565432, 830070)"
      ]
     },
     "execution_count": 132,
     "metadata": {},
     "output_type": "execute_result"
    }
   ],
   "source": [
    "# we will convert our text into vectors using word2vec method, a feature extraction approach\n",
    "import gensim\n",
    "\n",
    "\n",
    "tokenized_news = data[\"news\"].apply(lambda x: x.split()) # tokenizing\n",
    "\n",
    "modelW2v = gensim.models.word2vec.Word2Vec(\n",
    "            tokenized_news,\n",
    "            vector_size=200,\n",
    "            window=5, # context window size\n",
    "            min_count=2,\n",
    "            sg = 1, # 1 for skip-gram model\n",
    "            hs = 0,\n",
    "            negative = 10, # for negative sampling\n",
    "            workers= 8, # no.of cores\n",
    "            seed = 34)\n",
    "\n",
    "modelW2v.train(tokenized_news, total_examples= len(data[\"news\"]), epochs=30)"
   ]
  },
  {
   "cell_type": "code",
   "execution_count": 133,
   "metadata": {},
   "outputs": [],
   "source": [
    "def word_vector(tokens, size):\n",
    "    vec = np.zeros(size).reshape((1, size))\n",
    "    count = 0.\n",
    "    for word in tokens:\n",
    "        try:\n",
    "            vec += modelW2v.wv.get_vector(word).reshape((1, size))\n",
    "            count += 1.\n",
    "        except KeyError: # handling the case where the token is not in vocabulary\n",
    "                         \n",
    "            continue\n",
    "    if count != 0:\n",
    "        vec /= count\n",
    "    return vec"
   ]
  },
  {
   "cell_type": "code",
   "execution_count": 134,
   "metadata": {},
   "outputs": [
    {
     "data": {
      "text/plain": [
       "(239, 200)"
      ]
     },
     "execution_count": 134,
     "metadata": {},
     "output_type": "execute_result"
    }
   ],
   "source": [
    "wordvec_arrays = np.zeros((len(tokenized_news), 200))\n",
    "\n",
    "for i in range(len(tokenized_news)):\n",
    "    wordvec_arrays[i,:] = word_vector(tokenized_news[i], 200)\n",
    "    \n",
    "wordvecDf = pd.DataFrame(wordvec_arrays)\n",
    "wordvecDf.shape "
   ]
  },
  {
   "cell_type": "code",
   "execution_count": 135,
   "metadata": {},
   "outputs": [],
   "source": [
    "columns_list = [\"A\"+str(i)for i in range(1,201)]\n",
    "wordvecDf.columns = columns_list"
   ]
  },
  {
   "cell_type": "code",
   "execution_count": 136,
   "metadata": {},
   "outputs": [],
   "source": [
    "wordvecDf[\"target\"] = data[\"target\"]"
   ]
  },
  {
   "cell_type": "code",
   "execution_count": 137,
   "metadata": {},
   "outputs": [
    {
     "data": {
      "text/html": [
       "<div>\n",
       "<style scoped>\n",
       "    .dataframe tbody tr th:only-of-type {\n",
       "        vertical-align: middle;\n",
       "    }\n",
       "\n",
       "    .dataframe tbody tr th {\n",
       "        vertical-align: top;\n",
       "    }\n",
       "\n",
       "    .dataframe thead th {\n",
       "        text-align: right;\n",
       "    }\n",
       "</style>\n",
       "<table border=\"1\" class=\"dataframe\">\n",
       "  <thead>\n",
       "    <tr style=\"text-align: right;\">\n",
       "      <th></th>\n",
       "      <th>A1</th>\n",
       "      <th>A2</th>\n",
       "      <th>A3</th>\n",
       "      <th>A4</th>\n",
       "      <th>A5</th>\n",
       "      <th>A6</th>\n",
       "      <th>A7</th>\n",
       "      <th>A8</th>\n",
       "      <th>A9</th>\n",
       "      <th>A10</th>\n",
       "      <th>...</th>\n",
       "      <th>A192</th>\n",
       "      <th>A193</th>\n",
       "      <th>A194</th>\n",
       "      <th>A195</th>\n",
       "      <th>A196</th>\n",
       "      <th>A197</th>\n",
       "      <th>A198</th>\n",
       "      <th>A199</th>\n",
       "      <th>A200</th>\n",
       "      <th>target</th>\n",
       "    </tr>\n",
       "  </thead>\n",
       "  <tbody>\n",
       "    <tr>\n",
       "      <th>0</th>\n",
       "      <td>-0.028072</td>\n",
       "      <td>-0.210611</td>\n",
       "      <td>-0.012355</td>\n",
       "      <td>-0.133122</td>\n",
       "      <td>-0.065544</td>\n",
       "      <td>0.003655</td>\n",
       "      <td>-0.263141</td>\n",
       "      <td>0.006699</td>\n",
       "      <td>0.151848</td>\n",
       "      <td>0.083125</td>\n",
       "      <td>...</td>\n",
       "      <td>-0.174224</td>\n",
       "      <td>0.088087</td>\n",
       "      <td>-0.148625</td>\n",
       "      <td>0.174579</td>\n",
       "      <td>0.057691</td>\n",
       "      <td>-0.151120</td>\n",
       "      <td>-0.120022</td>\n",
       "      <td>0.141038</td>\n",
       "      <td>0.097277</td>\n",
       "      <td>0</td>\n",
       "    </tr>\n",
       "    <tr>\n",
       "      <th>1</th>\n",
       "      <td>0.035229</td>\n",
       "      <td>-0.204801</td>\n",
       "      <td>0.013428</td>\n",
       "      <td>-0.116010</td>\n",
       "      <td>-0.026776</td>\n",
       "      <td>-0.058350</td>\n",
       "      <td>-0.252529</td>\n",
       "      <td>-0.044162</td>\n",
       "      <td>0.150636</td>\n",
       "      <td>0.060090</td>\n",
       "      <td>...</td>\n",
       "      <td>-0.236695</td>\n",
       "      <td>0.071610</td>\n",
       "      <td>-0.097312</td>\n",
       "      <td>0.182148</td>\n",
       "      <td>0.040554</td>\n",
       "      <td>-0.113621</td>\n",
       "      <td>-0.119115</td>\n",
       "      <td>0.150337</td>\n",
       "      <td>0.095295</td>\n",
       "      <td>1</td>\n",
       "    </tr>\n",
       "    <tr>\n",
       "      <th>2</th>\n",
       "      <td>-0.005911</td>\n",
       "      <td>-0.162609</td>\n",
       "      <td>0.001540</td>\n",
       "      <td>-0.094396</td>\n",
       "      <td>-0.034139</td>\n",
       "      <td>0.021577</td>\n",
       "      <td>-0.224428</td>\n",
       "      <td>0.022050</td>\n",
       "      <td>0.148631</td>\n",
       "      <td>0.095248</td>\n",
       "      <td>...</td>\n",
       "      <td>-0.194788</td>\n",
       "      <td>0.129741</td>\n",
       "      <td>-0.176706</td>\n",
       "      <td>0.205015</td>\n",
       "      <td>0.028868</td>\n",
       "      <td>-0.143415</td>\n",
       "      <td>-0.124443</td>\n",
       "      <td>0.087080</td>\n",
       "      <td>0.099630</td>\n",
       "      <td>0</td>\n",
       "    </tr>\n",
       "    <tr>\n",
       "      <th>3</th>\n",
       "      <td>-0.029182</td>\n",
       "      <td>-0.167737</td>\n",
       "      <td>0.021160</td>\n",
       "      <td>-0.111090</td>\n",
       "      <td>-0.030644</td>\n",
       "      <td>-0.007133</td>\n",
       "      <td>-0.215137</td>\n",
       "      <td>0.025851</td>\n",
       "      <td>0.146742</td>\n",
       "      <td>0.080302</td>\n",
       "      <td>...</td>\n",
       "      <td>-0.180791</td>\n",
       "      <td>0.091892</td>\n",
       "      <td>-0.131637</td>\n",
       "      <td>0.204855</td>\n",
       "      <td>0.044004</td>\n",
       "      <td>-0.122901</td>\n",
       "      <td>-0.123797</td>\n",
       "      <td>0.140789</td>\n",
       "      <td>0.097446</td>\n",
       "      <td>1</td>\n",
       "    </tr>\n",
       "    <tr>\n",
       "      <th>4</th>\n",
       "      <td>-0.006562</td>\n",
       "      <td>-0.187680</td>\n",
       "      <td>0.023281</td>\n",
       "      <td>-0.119493</td>\n",
       "      <td>-0.039002</td>\n",
       "      <td>-0.011452</td>\n",
       "      <td>-0.249103</td>\n",
       "      <td>-0.018683</td>\n",
       "      <td>0.153750</td>\n",
       "      <td>0.077099</td>\n",
       "      <td>...</td>\n",
       "      <td>-0.227825</td>\n",
       "      <td>0.073886</td>\n",
       "      <td>-0.123367</td>\n",
       "      <td>0.163377</td>\n",
       "      <td>0.032426</td>\n",
       "      <td>-0.148008</td>\n",
       "      <td>-0.136079</td>\n",
       "      <td>0.112599</td>\n",
       "      <td>0.118893</td>\n",
       "      <td>0</td>\n",
       "    </tr>\n",
       "    <tr>\n",
       "      <th>...</th>\n",
       "      <td>...</td>\n",
       "      <td>...</td>\n",
       "      <td>...</td>\n",
       "      <td>...</td>\n",
       "      <td>...</td>\n",
       "      <td>...</td>\n",
       "      <td>...</td>\n",
       "      <td>...</td>\n",
       "      <td>...</td>\n",
       "      <td>...</td>\n",
       "      <td>...</td>\n",
       "      <td>...</td>\n",
       "      <td>...</td>\n",
       "      <td>...</td>\n",
       "      <td>...</td>\n",
       "      <td>...</td>\n",
       "      <td>...</td>\n",
       "      <td>...</td>\n",
       "      <td>...</td>\n",
       "      <td>...</td>\n",
       "      <td>...</td>\n",
       "    </tr>\n",
       "    <tr>\n",
       "      <th>234</th>\n",
       "      <td>0.112272</td>\n",
       "      <td>-0.212769</td>\n",
       "      <td>0.037342</td>\n",
       "      <td>-0.053392</td>\n",
       "      <td>0.060929</td>\n",
       "      <td>-0.016020</td>\n",
       "      <td>-0.172715</td>\n",
       "      <td>-0.087455</td>\n",
       "      <td>0.074920</td>\n",
       "      <td>0.102271</td>\n",
       "      <td>...</td>\n",
       "      <td>-0.179643</td>\n",
       "      <td>0.141992</td>\n",
       "      <td>-0.062028</td>\n",
       "      <td>0.065036</td>\n",
       "      <td>0.027621</td>\n",
       "      <td>-0.161862</td>\n",
       "      <td>-0.067296</td>\n",
       "      <td>0.104150</td>\n",
       "      <td>0.203514</td>\n",
       "      <td>1</td>\n",
       "    </tr>\n",
       "    <tr>\n",
       "      <th>235</th>\n",
       "      <td>0.049666</td>\n",
       "      <td>-0.227558</td>\n",
       "      <td>0.046169</td>\n",
       "      <td>-0.119296</td>\n",
       "      <td>0.003482</td>\n",
       "      <td>-0.003970</td>\n",
       "      <td>-0.234579</td>\n",
       "      <td>-0.014043</td>\n",
       "      <td>0.110179</td>\n",
       "      <td>0.052518</td>\n",
       "      <td>...</td>\n",
       "      <td>-0.047704</td>\n",
       "      <td>0.115052</td>\n",
       "      <td>-0.034754</td>\n",
       "      <td>0.115288</td>\n",
       "      <td>0.051846</td>\n",
       "      <td>-0.213759</td>\n",
       "      <td>-0.077847</td>\n",
       "      <td>0.071716</td>\n",
       "      <td>0.215956</td>\n",
       "      <td>0</td>\n",
       "    </tr>\n",
       "    <tr>\n",
       "      <th>236</th>\n",
       "      <td>0.138519</td>\n",
       "      <td>-0.221483</td>\n",
       "      <td>0.083386</td>\n",
       "      <td>-0.021974</td>\n",
       "      <td>0.012038</td>\n",
       "      <td>0.091868</td>\n",
       "      <td>-0.294984</td>\n",
       "      <td>-0.049393</td>\n",
       "      <td>0.095980</td>\n",
       "      <td>0.015287</td>\n",
       "      <td>...</td>\n",
       "      <td>-0.256714</td>\n",
       "      <td>0.124823</td>\n",
       "      <td>0.011387</td>\n",
       "      <td>0.241857</td>\n",
       "      <td>0.035976</td>\n",
       "      <td>-0.140318</td>\n",
       "      <td>-0.043286</td>\n",
       "      <td>0.135014</td>\n",
       "      <td>0.082141</td>\n",
       "      <td>0</td>\n",
       "    </tr>\n",
       "    <tr>\n",
       "      <th>237</th>\n",
       "      <td>0.151540</td>\n",
       "      <td>-0.247404</td>\n",
       "      <td>0.083426</td>\n",
       "      <td>-0.116814</td>\n",
       "      <td>-0.026607</td>\n",
       "      <td>0.058965</td>\n",
       "      <td>-0.282252</td>\n",
       "      <td>-0.050548</td>\n",
       "      <td>0.133355</td>\n",
       "      <td>0.063059</td>\n",
       "      <td>...</td>\n",
       "      <td>-0.166145</td>\n",
       "      <td>0.147869</td>\n",
       "      <td>-0.009857</td>\n",
       "      <td>0.179099</td>\n",
       "      <td>0.049950</td>\n",
       "      <td>-0.140818</td>\n",
       "      <td>-0.082210</td>\n",
       "      <td>0.097015</td>\n",
       "      <td>0.146894</td>\n",
       "      <td>1</td>\n",
       "    </tr>\n",
       "    <tr>\n",
       "      <th>238</th>\n",
       "      <td>0.004400</td>\n",
       "      <td>-0.214125</td>\n",
       "      <td>0.117802</td>\n",
       "      <td>-0.102462</td>\n",
       "      <td>-0.042007</td>\n",
       "      <td>-0.022487</td>\n",
       "      <td>-0.288110</td>\n",
       "      <td>0.026255</td>\n",
       "      <td>0.079183</td>\n",
       "      <td>0.066646</td>\n",
       "      <td>...</td>\n",
       "      <td>-0.098137</td>\n",
       "      <td>0.125423</td>\n",
       "      <td>-0.019459</td>\n",
       "      <td>0.160220</td>\n",
       "      <td>0.038924</td>\n",
       "      <td>-0.146179</td>\n",
       "      <td>-0.030381</td>\n",
       "      <td>0.062349</td>\n",
       "      <td>0.208974</td>\n",
       "      <td>1</td>\n",
       "    </tr>\n",
       "  </tbody>\n",
       "</table>\n",
       "<p>239 rows × 201 columns</p>\n",
       "</div>"
      ],
      "text/plain": [
       "           A1        A2        A3        A4        A5        A6        A7  \\\n",
       "0   -0.028072 -0.210611 -0.012355 -0.133122 -0.065544  0.003655 -0.263141   \n",
       "1    0.035229 -0.204801  0.013428 -0.116010 -0.026776 -0.058350 -0.252529   \n",
       "2   -0.005911 -0.162609  0.001540 -0.094396 -0.034139  0.021577 -0.224428   \n",
       "3   -0.029182 -0.167737  0.021160 -0.111090 -0.030644 -0.007133 -0.215137   \n",
       "4   -0.006562 -0.187680  0.023281 -0.119493 -0.039002 -0.011452 -0.249103   \n",
       "..        ...       ...       ...       ...       ...       ...       ...   \n",
       "234  0.112272 -0.212769  0.037342 -0.053392  0.060929 -0.016020 -0.172715   \n",
       "235  0.049666 -0.227558  0.046169 -0.119296  0.003482 -0.003970 -0.234579   \n",
       "236  0.138519 -0.221483  0.083386 -0.021974  0.012038  0.091868 -0.294984   \n",
       "237  0.151540 -0.247404  0.083426 -0.116814 -0.026607  0.058965 -0.282252   \n",
       "238  0.004400 -0.214125  0.117802 -0.102462 -0.042007 -0.022487 -0.288110   \n",
       "\n",
       "           A8        A9       A10  ...      A192      A193      A194  \\\n",
       "0    0.006699  0.151848  0.083125  ... -0.174224  0.088087 -0.148625   \n",
       "1   -0.044162  0.150636  0.060090  ... -0.236695  0.071610 -0.097312   \n",
       "2    0.022050  0.148631  0.095248  ... -0.194788  0.129741 -0.176706   \n",
       "3    0.025851  0.146742  0.080302  ... -0.180791  0.091892 -0.131637   \n",
       "4   -0.018683  0.153750  0.077099  ... -0.227825  0.073886 -0.123367   \n",
       "..        ...       ...       ...  ...       ...       ...       ...   \n",
       "234 -0.087455  0.074920  0.102271  ... -0.179643  0.141992 -0.062028   \n",
       "235 -0.014043  0.110179  0.052518  ... -0.047704  0.115052 -0.034754   \n",
       "236 -0.049393  0.095980  0.015287  ... -0.256714  0.124823  0.011387   \n",
       "237 -0.050548  0.133355  0.063059  ... -0.166145  0.147869 -0.009857   \n",
       "238  0.026255  0.079183  0.066646  ... -0.098137  0.125423 -0.019459   \n",
       "\n",
       "         A195      A196      A197      A198      A199      A200  target  \n",
       "0    0.174579  0.057691 -0.151120 -0.120022  0.141038  0.097277       0  \n",
       "1    0.182148  0.040554 -0.113621 -0.119115  0.150337  0.095295       1  \n",
       "2    0.205015  0.028868 -0.143415 -0.124443  0.087080  0.099630       0  \n",
       "3    0.204855  0.044004 -0.122901 -0.123797  0.140789  0.097446       1  \n",
       "4    0.163377  0.032426 -0.148008 -0.136079  0.112599  0.118893       0  \n",
       "..        ...       ...       ...       ...       ...       ...     ...  \n",
       "234  0.065036  0.027621 -0.161862 -0.067296  0.104150  0.203514       1  \n",
       "235  0.115288  0.051846 -0.213759 -0.077847  0.071716  0.215956       0  \n",
       "236  0.241857  0.035976 -0.140318 -0.043286  0.135014  0.082141       0  \n",
       "237  0.179099  0.049950 -0.140818 -0.082210  0.097015  0.146894       1  \n",
       "238  0.160220  0.038924 -0.146179 -0.030381  0.062349  0.208974       1  \n",
       "\n",
       "[239 rows x 201 columns]"
      ]
     },
     "execution_count": 137,
     "metadata": {},
     "output_type": "execute_result"
    }
   ],
   "source": [
    "wordvecDf"
   ]
  },
  {
   "cell_type": "markdown",
   "metadata": {},
   "source": [
    "### Building Sentiment Analysis on the news"
   ]
  },
  {
   "cell_type": "markdown",
   "metadata": {},
   "source": [
    "#### Removing Stop Words"
   ]
  },
  {
   "cell_type": "code",
   "execution_count": 138,
   "metadata": {},
   "outputs": [],
   "source": [
    "# Load list of stop-words\n",
    "listStopwords = nltk.corpus.stopwords.words(\"english\")"
   ]
  },
  {
   "cell_type": "code",
   "execution_count": 139,
   "metadata": {},
   "outputs": [],
   "source": [
    "def removeStopWords(text,listStopwords=None):\n",
    "    listText = text.split()\n",
    "    if listStopwords is not None:\n",
    "        # only select words that aren't in the stopwords list\n",
    "        listText = [word for word in listText if word not in \n",
    "                    listStopwords]\n",
    "        \n",
    "    text = \" \".join(listText)\n",
    "    return text\n",
    "    "
   ]
  },
  {
   "cell_type": "code",
   "execution_count": 140,
   "metadata": {},
   "outputs": [],
   "source": [
    "# apply the removal of stopwords on each news\n",
    "data[\"cleaned_news\"] = data[\"news\"].apply(lambda x:removeStopWords(x,listStopwords=listStopwords))"
   ]
  },
  {
   "cell_type": "markdown",
   "metadata": {},
   "source": [
    "#### Tokenizing the news for Lemmatization"
   ]
  },
  {
   "cell_type": "code",
   "execution_count": 141,
   "metadata": {},
   "outputs": [],
   "source": [
    "# tokenize the news into words so that we can apply lemmatization\n",
    "tokenized_news= data['cleaned_news'].apply(lambda x: x.split())"
   ]
  },
  {
   "cell_type": "code",
   "execution_count": 142,
   "metadata": {},
   "outputs": [],
   "source": [
    "# initialize the lemmatizer and lemmatizr Adjectives, Verbs, Noun and Adverbs\n",
    "# nltk.download('averaged_perceptron_tagger')\n",
    "# nltk.download('wordnet')\n",
    "\n",
    "wordnetLemmatizer = WordNetLemmatizer()\n",
    "def getWordnetPos(word):\n",
    "    \"\"\"Map POS tag to first character lemmatize() accepts\"\"\"\n",
    "    tag = nltk.pos_tag([word])[0][1][0].upper()\n",
    "    tag_dict = {\"J\": wordnet.ADJ,\n",
    "                \"N\": wordnet.NOUN,\n",
    "                \"V\": wordnet.VERB,\n",
    "                \"R\": wordnet.ADV}\n",
    "    return tag_dict.get(tag, wordnet.NOUN)"
   ]
  },
  {
   "cell_type": "code",
   "execution_count": 143,
   "metadata": {},
   "outputs": [],
   "source": [
    "tokenized_news = tokenized_news.apply(lambda x: [wordnetLemmatizer.lemmatize(i,getWordnetPos(i)) for i in x])\n",
    "\n",
    "# join the tokenized words back again after lemmatization so that we have cleaned news\n",
    "for i in range(len(tokenized_news)):\n",
    "    tokenized_news[i]=\" \".join(tokenized_news[i])\n",
    "data['cleaned_news'] = tokenized_news"
   ]
  },
  {
   "cell_type": "code",
   "execution_count": 144,
   "metadata": {},
   "outputs": [
    {
     "data": {
      "text/html": [
       "<div>\n",
       "<style scoped>\n",
       "    .dataframe tbody tr th:only-of-type {\n",
       "        vertical-align: middle;\n",
       "    }\n",
       "\n",
       "    .dataframe tbody tr th {\n",
       "        vertical-align: top;\n",
       "    }\n",
       "\n",
       "    .dataframe thead th {\n",
       "        text-align: right;\n",
       "    }\n",
       "</style>\n",
       "<table border=\"1\" class=\"dataframe\">\n",
       "  <thead>\n",
       "    <tr style=\"text-align: right;\">\n",
       "      <th></th>\n",
       "      <th>date</th>\n",
       "      <th>timestamp</th>\n",
       "      <th>price</th>\n",
       "      <th>target</th>\n",
       "      <th>BITCOIN_NE.text_COUNT_last1days</th>\n",
       "      <th>BITCOIN_NE.text_last1days</th>\n",
       "      <th>news</th>\n",
       "      <th>cleaned_news</th>\n",
       "    </tr>\n",
       "  </thead>\n",
       "  <tbody>\n",
       "    <tr>\n",
       "      <th>0</th>\n",
       "      <td>27-01-2021 17:00:00</td>\n",
       "      <td>1.611767e+09</td>\n",
       "      <td>30454.0</td>\n",
       "      <td>0</td>\n",
       "      <td>24</td>\n",
       "      <td>[, cryptocurrencies have gained popularity in ...</td>\n",
       "      <td>cryptocurrencies have gained popularity in re...</td>\n",
       "      <td>cryptocurrencies gain popularity recent years_...</td>\n",
       "    </tr>\n",
       "    <tr>\n",
       "      <th>1</th>\n",
       "      <td>26-01-2021 17:00:00</td>\n",
       "      <td>1.611680e+09</td>\n",
       "      <td>32519.0</td>\n",
       "      <td>1</td>\n",
       "      <td>20</td>\n",
       "      <td>[zelaapayae uae will now have a crypto debit c...</td>\n",
       "      <td>zelaapayae uae will now have a crypto debit ca...</td>\n",
       "      <td>zelaapayae uae crypto debit card official obli...</td>\n",
       "    </tr>\n",
       "    <tr>\n",
       "      <th>2</th>\n",
       "      <td>25-01-2021 17:00:00</td>\n",
       "      <td>1.611594e+09</td>\n",
       "      <td>32268.1</td>\n",
       "      <td>0</td>\n",
       "      <td>15</td>\n",
       "      <td>[cashpay  ecommerce marketplace powered by cry...</td>\n",
       "      <td>cashpay  ecommerce marketplace powered by cryp...</td>\n",
       "      <td>cashpay ecommerce marketplace power cryptocurr...</td>\n",
       "    </tr>\n",
       "    <tr>\n",
       "      <th>3</th>\n",
       "      <td>24-01-2021 17:00:00</td>\n",
       "      <td>1.611508e+09</td>\n",
       "      <td>32298.0</td>\n",
       "      <td>1</td>\n",
       "      <td>15</td>\n",
       "      <td>[oh look the researcher willy woo said suddenl...</td>\n",
       "      <td>oh look the researcher willy woo said suddenly...</td>\n",
       "      <td>oh look researcher willy woo say suddenly ther...</td>\n",
       "    </tr>\n",
       "    <tr>\n",
       "      <th>4</th>\n",
       "      <td>23-01-2021 17:00:00</td>\n",
       "      <td>1.611421e+09</td>\n",
       "      <td>32099.0</td>\n",
       "      <td>0</td>\n",
       "      <td>18</td>\n",
       "      <td>[according to wu, the chinese crypto community...</td>\n",
       "      <td>according to wu, the chinese crypto community ...</td>\n",
       "      <td>accord wu, chinese crypto community question f...</td>\n",
       "    </tr>\n",
       "  </tbody>\n",
       "</table>\n",
       "</div>"
      ],
      "text/plain": [
       "                  date     timestamp    price  target  \\\n",
       "0  27-01-2021 17:00:00  1.611767e+09  30454.0       0   \n",
       "1  26-01-2021 17:00:00  1.611680e+09  32519.0       1   \n",
       "2  25-01-2021 17:00:00  1.611594e+09  32268.1       0   \n",
       "3  24-01-2021 17:00:00  1.611508e+09  32298.0       1   \n",
       "4  23-01-2021 17:00:00  1.611421e+09  32099.0       0   \n",
       "\n",
       "   BITCOIN_NE.text_COUNT_last1days  \\\n",
       "0                               24   \n",
       "1                               20   \n",
       "2                               15   \n",
       "3                               15   \n",
       "4                               18   \n",
       "\n",
       "                           BITCOIN_NE.text_last1days  \\\n",
       "0  [, cryptocurrencies have gained popularity in ...   \n",
       "1  [zelaapayae uae will now have a crypto debit c...   \n",
       "2  [cashpay  ecommerce marketplace powered by cry...   \n",
       "3  [oh look the researcher willy woo said suddenl...   \n",
       "4  [according to wu, the chinese crypto community...   \n",
       "\n",
       "                                                news  \\\n",
       "0   cryptocurrencies have gained popularity in re...   \n",
       "1  zelaapayae uae will now have a crypto debit ca...   \n",
       "2  cashpay  ecommerce marketplace powered by cryp...   \n",
       "3  oh look the researcher willy woo said suddenly...   \n",
       "4  according to wu, the chinese crypto community ...   \n",
       "\n",
       "                                        cleaned_news  \n",
       "0  cryptocurrencies gain popularity recent years_...  \n",
       "1  zelaapayae uae crypto debit card official obli...  \n",
       "2  cashpay ecommerce marketplace power cryptocurr...  \n",
       "3  oh look researcher willy woo say suddenly ther...  \n",
       "4  accord wu, chinese crypto community question f...  "
      ]
     },
     "execution_count": 144,
     "metadata": {},
     "output_type": "execute_result"
    }
   ],
   "source": [
    "data.head()"
   ]
  },
  {
   "cell_type": "markdown",
   "metadata": {},
   "source": [
    "#### Applying Sentiment Analysis on the cleaned news "
   ]
  },
  {
   "cell_type": "code",
   "execution_count": 145,
   "metadata": {},
   "outputs": [],
   "source": [
    "sid = SentimentIntensityAnalyzer()\n",
    "data[\"polarity_scores\"] = data[\"cleaned_news\"].apply(lambda x : sid.polarity_scores(x))"
   ]
  },
  {
   "cell_type": "markdown",
   "metadata": {},
   "source": [
    "the polarity scores contains **Compound Score** which is a metric that calculates the sum of all the lexicon ratings which have been normalized between -1(most extreme negative) and +1 (most extreme positive)."
   ]
  },
  {
   "cell_type": "code",
   "execution_count": 146,
   "metadata": {},
   "outputs": [],
   "source": [
    "data[\"compound_scores\"] = data[\"polarity_scores\"].apply(lambda x : x.get('compound'))"
   ]
  },
  {
   "cell_type": "code",
   "execution_count": 147,
   "metadata": {},
   "outputs": [],
   "source": [
    "# let's convert compound scores into positive, neutral and negative class\n",
    "def get_sentiment_class(compound_score):\n",
    "    if compound_score >= 0.05 :\n",
    "        return \"Positive\"\n",
    "    elif compound_score <= - 0.05 :\n",
    "        return \"Negative\"\n",
    "    else :\n",
    "        return \"Neutral\""
   ]
  },
  {
   "cell_type": "code",
   "execution_count": 148,
   "metadata": {},
   "outputs": [],
   "source": [
    "data[\"sentiment_class\"] =  data[\"compound_scores\"].apply(lambda x: get_sentiment_class(x))"
   ]
  },
  {
   "cell_type": "code",
   "execution_count": 149,
   "metadata": {},
   "outputs": [
    {
     "data": {
      "text/html": [
       "<div>\n",
       "<style scoped>\n",
       "    .dataframe tbody tr th:only-of-type {\n",
       "        vertical-align: middle;\n",
       "    }\n",
       "\n",
       "    .dataframe tbody tr th {\n",
       "        vertical-align: top;\n",
       "    }\n",
       "\n",
       "    .dataframe thead th {\n",
       "        text-align: right;\n",
       "    }\n",
       "</style>\n",
       "<table border=\"1\" class=\"dataframe\">\n",
       "  <thead>\n",
       "    <tr style=\"text-align: right;\">\n",
       "      <th></th>\n",
       "      <th>date</th>\n",
       "      <th>timestamp</th>\n",
       "      <th>price</th>\n",
       "      <th>target</th>\n",
       "      <th>BITCOIN_NE.text_COUNT_last1days</th>\n",
       "      <th>BITCOIN_NE.text_last1days</th>\n",
       "      <th>news</th>\n",
       "      <th>cleaned_news</th>\n",
       "      <th>polarity_scores</th>\n",
       "      <th>compound_scores</th>\n",
       "      <th>sentiment_class</th>\n",
       "    </tr>\n",
       "  </thead>\n",
       "  <tbody>\n",
       "    <tr>\n",
       "      <th>0</th>\n",
       "      <td>27-01-2021 17:00:00</td>\n",
       "      <td>1.611767e+09</td>\n",
       "      <td>30454.0</td>\n",
       "      <td>0</td>\n",
       "      <td>24</td>\n",
       "      <td>[, cryptocurrencies have gained popularity in ...</td>\n",
       "      <td>cryptocurrencies have gained popularity in re...</td>\n",
       "      <td>cryptocurrencies gain popularity recent years_...</td>\n",
       "      <td>{'neg': 0.077, 'neu': 0.791, 'pos': 0.132, 'co...</td>\n",
       "      <td>0.9662</td>\n",
       "      <td>Positive</td>\n",
       "    </tr>\n",
       "    <tr>\n",
       "      <th>1</th>\n",
       "      <td>26-01-2021 17:00:00</td>\n",
       "      <td>1.611680e+09</td>\n",
       "      <td>32519.0</td>\n",
       "      <td>1</td>\n",
       "      <td>20</td>\n",
       "      <td>[zelaapayae uae will now have a crypto debit c...</td>\n",
       "      <td>zelaapayae uae will now have a crypto debit ca...</td>\n",
       "      <td>zelaapayae uae crypto debit card official obli...</td>\n",
       "      <td>{'neg': 0.07, 'neu': 0.782, 'pos': 0.148, 'com...</td>\n",
       "      <td>0.9633</td>\n",
       "      <td>Positive</td>\n",
       "    </tr>\n",
       "    <tr>\n",
       "      <th>2</th>\n",
       "      <td>25-01-2021 17:00:00</td>\n",
       "      <td>1.611594e+09</td>\n",
       "      <td>32268.1</td>\n",
       "      <td>0</td>\n",
       "      <td>15</td>\n",
       "      <td>[cashpay  ecommerce marketplace powered by cry...</td>\n",
       "      <td>cashpay  ecommerce marketplace powered by cryp...</td>\n",
       "      <td>cashpay ecommerce marketplace power cryptocurr...</td>\n",
       "      <td>{'neg': 0.073, 'neu': 0.82, 'pos': 0.107, 'com...</td>\n",
       "      <td>0.8789</td>\n",
       "      <td>Positive</td>\n",
       "    </tr>\n",
       "    <tr>\n",
       "      <th>3</th>\n",
       "      <td>24-01-2021 17:00:00</td>\n",
       "      <td>1.611508e+09</td>\n",
       "      <td>32298.0</td>\n",
       "      <td>1</td>\n",
       "      <td>15</td>\n",
       "      <td>[oh look the researcher willy woo said suddenl...</td>\n",
       "      <td>oh look the researcher willy woo said suddenly...</td>\n",
       "      <td>oh look researcher willy woo say suddenly ther...</td>\n",
       "      <td>{'neg': 0.071, 'neu': 0.761, 'pos': 0.168, 'co...</td>\n",
       "      <td>0.9712</td>\n",
       "      <td>Positive</td>\n",
       "    </tr>\n",
       "    <tr>\n",
       "      <th>4</th>\n",
       "      <td>23-01-2021 17:00:00</td>\n",
       "      <td>1.611421e+09</td>\n",
       "      <td>32099.0</td>\n",
       "      <td>0</td>\n",
       "      <td>18</td>\n",
       "      <td>[according to wu, the chinese crypto community...</td>\n",
       "      <td>according to wu, the chinese crypto community ...</td>\n",
       "      <td>accord wu, chinese crypto community question f...</td>\n",
       "      <td>{'neg': 0.059, 'neu': 0.837, 'pos': 0.104, 'co...</td>\n",
       "      <td>0.8402</td>\n",
       "      <td>Positive</td>\n",
       "    </tr>\n",
       "  </tbody>\n",
       "</table>\n",
       "</div>"
      ],
      "text/plain": [
       "                  date     timestamp    price  target  \\\n",
       "0  27-01-2021 17:00:00  1.611767e+09  30454.0       0   \n",
       "1  26-01-2021 17:00:00  1.611680e+09  32519.0       1   \n",
       "2  25-01-2021 17:00:00  1.611594e+09  32268.1       0   \n",
       "3  24-01-2021 17:00:00  1.611508e+09  32298.0       1   \n",
       "4  23-01-2021 17:00:00  1.611421e+09  32099.0       0   \n",
       "\n",
       "   BITCOIN_NE.text_COUNT_last1days  \\\n",
       "0                               24   \n",
       "1                               20   \n",
       "2                               15   \n",
       "3                               15   \n",
       "4                               18   \n",
       "\n",
       "                           BITCOIN_NE.text_last1days  \\\n",
       "0  [, cryptocurrencies have gained popularity in ...   \n",
       "1  [zelaapayae uae will now have a crypto debit c...   \n",
       "2  [cashpay  ecommerce marketplace powered by cry...   \n",
       "3  [oh look the researcher willy woo said suddenl...   \n",
       "4  [according to wu, the chinese crypto community...   \n",
       "\n",
       "                                                news  \\\n",
       "0   cryptocurrencies have gained popularity in re...   \n",
       "1  zelaapayae uae will now have a crypto debit ca...   \n",
       "2  cashpay  ecommerce marketplace powered by cryp...   \n",
       "3  oh look the researcher willy woo said suddenly...   \n",
       "4  according to wu, the chinese crypto community ...   \n",
       "\n",
       "                                        cleaned_news  \\\n",
       "0  cryptocurrencies gain popularity recent years_...   \n",
       "1  zelaapayae uae crypto debit card official obli...   \n",
       "2  cashpay ecommerce marketplace power cryptocurr...   \n",
       "3  oh look researcher willy woo say suddenly ther...   \n",
       "4  accord wu, chinese crypto community question f...   \n",
       "\n",
       "                                     polarity_scores  compound_scores  \\\n",
       "0  {'neg': 0.077, 'neu': 0.791, 'pos': 0.132, 'co...           0.9662   \n",
       "1  {'neg': 0.07, 'neu': 0.782, 'pos': 0.148, 'com...           0.9633   \n",
       "2  {'neg': 0.073, 'neu': 0.82, 'pos': 0.107, 'com...           0.8789   \n",
       "3  {'neg': 0.071, 'neu': 0.761, 'pos': 0.168, 'co...           0.9712   \n",
       "4  {'neg': 0.059, 'neu': 0.837, 'pos': 0.104, 'co...           0.8402   \n",
       "\n",
       "  sentiment_class  \n",
       "0        Positive  \n",
       "1        Positive  \n",
       "2        Positive  \n",
       "3        Positive  \n",
       "4        Positive  "
      ]
     },
     "execution_count": 149,
     "metadata": {},
     "output_type": "execute_result"
    }
   ],
   "source": [
    "data.head()"
   ]
  },
  {
   "cell_type": "markdown",
   "metadata": {},
   "source": [
    "#### correlation between compound scores and our target variable"
   ]
  },
  {
   "cell_type": "code",
   "execution_count": 150,
   "metadata": {},
   "outputs": [
    {
     "data": {
      "text/html": [
       "<div>\n",
       "<style scoped>\n",
       "    .dataframe tbody tr th:only-of-type {\n",
       "        vertical-align: middle;\n",
       "    }\n",
       "\n",
       "    .dataframe tbody tr th {\n",
       "        vertical-align: top;\n",
       "    }\n",
       "\n",
       "    .dataframe thead th {\n",
       "        text-align: right;\n",
       "    }\n",
       "</style>\n",
       "<table border=\"1\" class=\"dataframe\">\n",
       "  <thead>\n",
       "    <tr style=\"text-align: right;\">\n",
       "      <th></th>\n",
       "      <th>target</th>\n",
       "      <th>compound_scores</th>\n",
       "    </tr>\n",
       "  </thead>\n",
       "  <tbody>\n",
       "    <tr>\n",
       "      <th>target</th>\n",
       "      <td>1.000000</td>\n",
       "      <td>0.038556</td>\n",
       "    </tr>\n",
       "    <tr>\n",
       "      <th>compound_scores</th>\n",
       "      <td>0.038556</td>\n",
       "      <td>1.000000</td>\n",
       "    </tr>\n",
       "  </tbody>\n",
       "</table>\n",
       "</div>"
      ],
      "text/plain": [
       "                   target  compound_scores\n",
       "target           1.000000         0.038556\n",
       "compound_scores  0.038556         1.000000"
      ]
     },
     "execution_count": 150,
     "metadata": {},
     "output_type": "execute_result"
    }
   ],
   "source": [
    "data[[\"target\", \"compound_scores\"]].corr()"
   ]
  },
  {
   "cell_type": "markdown",
   "metadata": {},
   "source": [
    "there seems to be very little correlation between the target variable and the sentiment of our daily news"
   ]
  },
  {
   "cell_type": "markdown",
   "metadata": {},
   "source": [
    "### Build Models"
   ]
  },
  {
   "cell_type": "code",
   "execution_count": 151,
   "metadata": {},
   "outputs": [],
   "source": [
    "from sklearn.ensemble import RandomForestClassifier\n",
    "from sklearn.model_selection import train_test_split\n",
    "from sklearn.metrics import f1_score,accuracy_score"
   ]
  },
  {
   "cell_type": "code",
   "execution_count": 152,
   "metadata": {},
   "outputs": [],
   "source": [
    "# splitting data into training and validation set\n",
    "xtrain, xvalid, ytrain, yvalid = train_test_split(wordvecDf,wordvecDf['target'],  \n",
    "                                                          random_state=42, \n",
    "                                                          test_size=0.3)"
   ]
  },
  {
   "cell_type": "code",
   "execution_count": 153,
   "metadata": {},
   "outputs": [
    {
     "name": "stdout",
     "output_type": "stream",
     "text": [
      "Accuracy score 0.9583333333333334\n"
     ]
    }
   ],
   "source": [
    "# build a random forest model\n",
    "random_forest_model = RandomForestClassifier().fit(xtrain, ytrain)\n",
    "prediction = random_forest_model.predict(xvalid)\n",
    "print(\"Accuracy score\",accuracy_score(yvalid, prediction))"
   ]
  },
  {
   "cell_type": "code",
   "execution_count": 154,
   "metadata": {},
   "outputs": [],
   "source": [
    "# !pip install wordcloud"
   ]
  },
  {
   "cell_type": "code",
   "execution_count": 155,
   "metadata": {},
   "outputs": [],
   "source": [
    "from wordcloud import WordCloud\n",
    "import matplotlib.pyplot as plt\n",
    "plt.style.use('seaborn-whitegrid')\n",
    "import matplotlib as mpl\n",
    "mpl.rcParams['figure.figsize'] = [20.0, 10.0]"
   ]
  },
  {
   "cell_type": "code",
   "execution_count": 156,
   "metadata": {},
   "outputs": [
    {
     "data": {
      "text/plain": [
       "0      cryptocurrencies gain popularity recent years_...\n",
       "1      zelaapayae uae crypto debit card official obli...\n",
       "2      cashpay ecommerce marketplace power cryptocurr...\n",
       "3      oh look researcher willy woo say suddenly ther...\n",
       "4      accord wu, chinese crypto community question f...\n",
       "                             ...                        \n",
       "234    u treasury borrow 3 trillion single quarter an...\n",
       "235    u real estate market shudder expert predict 40...\n",
       "236    bitcoin sextortion scam use email video passwo...\n",
       "237    cointracking launch two powerful free plugins ...\n",
       "238    bitcoin lender genesis global issue 2 billion ...\n",
       "Name: cleaned_news, Length: 239, dtype: object"
      ]
     },
     "execution_count": 156,
     "metadata": {},
     "output_type": "execute_result"
    }
   ],
   "source": [
    "tokenized_news"
   ]
  },
  {
   "cell_type": "code",
   "execution_count": 157,
   "metadata": {},
   "outputs": [],
   "source": [
    "a = [x.split() for x in tokenized_news]"
   ]
  },
  {
   "cell_type": "code",
   "execution_count": 158,
   "metadata": {},
   "outputs": [],
   "source": [
    "d = []\n",
    "for x in a:\n",
    "    d += x"
   ]
  },
  {
   "cell_type": "code",
   "execution_count": 159,
   "metadata": {},
   "outputs": [],
   "source": [
    "def show_cloud(w_list, title=\"\"):\n",
    "    words = WordCloud(width=300).generate(\" \".join(w_list))\n",
    "    plt.imshow(words)\n",
    "    plt.axis(\"off\")\n",
    "    plt.title(title)\n",
    "    plt.show()"
   ]
  },
  {
   "cell_type": "code",
   "execution_count": 160,
   "metadata": {},
   "outputs": [
    {
     "data": {
      "image/png": "[encoded data removed]",
      "text/plain": [
       "<Figure size 2000x1000 with 1 Axes>"
      ]
     },
     "metadata": {},
     "output_type": "display_data"
    }
   ],
   "source": [
    "show_cloud(d)"
   ]
  },
  {
   "cell_type": "code",
   "execution_count": 161,
   "metadata": {},
   "outputs": [],
   "source": [
    "words = WordCloud(width=300).generate(\" \".join(d))"
   ]
  },
  {
   "cell_type": "code",
   "execution_count": 162,
   "metadata": {},
   "outputs": [
    {
     "data": {
      "text/plain": [
       "<wordcloud.wordcloud.WordCloud at 0x7f8999648280>"
      ]
     },
     "execution_count": 162,
     "metadata": {},
     "output_type": "execute_result"
    }
   ],
   "source": [
    "words"
   ]
  },
  {
   "cell_type": "code",
   "execution_count": null,
   "metadata": {},
   "outputs": [],
   "source": []
  }
 ],
 "metadata": {
  "kernelspec": {
   "display_name": "Python 3",
   "language": "python",
   "name": "python3"
  },
  "language_info": {
   "codemirror_mode": {
    "name": "ipython",
    "version": 3
   },
   "file_extension": ".py",
   "mimetype": "text/x-python",
   "name": "python",
   "nbconvert_exporter": "python",
   "pygments_lexer": "ipython3",
   "version": "3.8.8"
  }
 },
 "nbformat": 4,
 "nbformat_minor": 4
}

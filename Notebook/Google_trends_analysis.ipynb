{
 "cells": [
  {
   "cell_type": "code",
   "execution_count": 1,
   "metadata": {},
   "outputs": [
    {
     "name": "stdout",
     "output_type": "stream",
     "text": [
      "bitcoin\n"
     ]
    }
   ],
   "source": [
    "import datetime as dt\n",
    "from sklearn.metrics import r2_score\n",
    "from Data import Data\n",
    "from matplotlib import pyplot as plt\n",
    "import math\n",
    "import numpy as np\n",
    "\n",
    "# choose the time range of data:\n",
    "start_date, end_date = dt.datetime.today() - dt.timedelta(days=120), dt.datetime.today()\n",
    "data = Data()"
   ]
  },
  {
   "cell_type": "code",
   "execution_count": 2,
   "metadata": {},
   "outputs": [
    {
     "name": "stdout",
     "output_type": "stream",
     "text": [
      "overlap 2021-09-07T00:00:00.000000000\n",
      "start:  2021-09-07 20:15:17.535951 end:  2021-10-07 20:15:17.535951\n",
      "overlap 2021-10-07T00:00:00.000000000\n",
      "start:  2021-10-07 20:15:17.535951 end:  2021-11-06 20:15:17.535951\n",
      "overlap 2021-11-06T00:00:00.000000000\n",
      "start:  2021-11-06 20:15:17.535951 end:  2021-12-06 20:15:17.535951\n",
      "overlap 2021-12-06T00:00:00.000000000\n"
     ]
    },
    {
     "data": {
      "text/html": [
       "<div>\n",
       "<style scoped>\n",
       "    .dataframe tbody tr th:only-of-type {\n",
       "        vertical-align: middle;\n",
       "    }\n",
       "\n",
       "    .dataframe tbody tr th {\n",
       "        vertical-align: top;\n",
       "    }\n",
       "\n",
       "    .dataframe thead th {\n",
       "        text-align: right;\n",
       "    }\n",
       "</style>\n",
       "<table border=\"1\" class=\"dataframe\">\n",
       "  <thead>\n",
       "    <tr style=\"text-align: right;\">\n",
       "      <th></th>\n",
       "      <th>Date</th>\n",
       "      <th>^GSPC</th>\n",
       "      <th>^VIX</th>\n",
       "      <th>Volume</th>\n",
       "      <th>BTC-USD</th>\n",
       "      <th>bitcoin</th>\n",
       "    </tr>\n",
       "  </thead>\n",
       "  <tbody>\n",
       "    <tr>\n",
       "      <th>0</th>\n",
       "      <td>2021-09-07</td>\n",
       "      <td>4520.029785</td>\n",
       "      <td>18.139999</td>\n",
       "      <td>65210059683</td>\n",
       "      <td>46811.128906</td>\n",
       "      <td>100.0</td>\n",
       "    </tr>\n",
       "    <tr>\n",
       "      <th>1</th>\n",
       "      <td>2021-09-08</td>\n",
       "      <td>4514.069824</td>\n",
       "      <td>17.959999</td>\n",
       "      <td>49007762488</td>\n",
       "      <td>46091.390625</td>\n",
       "      <td>92.0</td>\n",
       "    </tr>\n",
       "    <tr>\n",
       "      <th>2</th>\n",
       "      <td>2021-09-09</td>\n",
       "      <td>4493.279785</td>\n",
       "      <td>18.799999</td>\n",
       "      <td>38672657013</td>\n",
       "      <td>46391.421875</td>\n",
       "      <td>73.0</td>\n",
       "    </tr>\n",
       "    <tr>\n",
       "      <th>3</th>\n",
       "      <td>2021-09-10</td>\n",
       "      <td>4458.580078</td>\n",
       "      <td>20.950001</td>\n",
       "      <td>39154666597</td>\n",
       "      <td>44883.910156</td>\n",
       "      <td>60.0</td>\n",
       "    </tr>\n",
       "    <tr>\n",
       "      <th>4</th>\n",
       "      <td>2021-09-11</td>\n",
       "      <td>4458.580078</td>\n",
       "      <td>20.950001</td>\n",
       "      <td>34499835245</td>\n",
       "      <td>45201.457031</td>\n",
       "      <td>53.0</td>\n",
       "    </tr>\n",
       "  </tbody>\n",
       "</table>\n",
       "</div>"
      ],
      "text/plain": [
       "        Date        ^GSPC       ^VIX       Volume       BTC-USD  bitcoin\n",
       "0 2021-09-07  4520.029785  18.139999  65210059683  46811.128906    100.0\n",
       "1 2021-09-08  4514.069824  17.959999  49007762488  46091.390625     92.0\n",
       "2 2021-09-09  4493.279785  18.799999  38672657013  46391.421875     73.0\n",
       "3 2021-09-10  4458.580078  20.950001  39154666597  44883.910156     60.0\n",
       "4 2021-09-11  4458.580078  20.950001  34499835245  45201.457031     53.0"
      ]
     },
     "execution_count": 2,
     "metadata": {},
     "output_type": "execute_result"
    }
   ],
   "source": [
    "# load the data where BTC-USD is bitcoin price in usd and \"bitcoin\" column indicates google trend hits\n",
    "full_data = data.gather_data(start_date, end_date)\n",
    "full_data.head()"
   ]
  },
  {
   "cell_type": "code",
   "execution_count": 3,
   "metadata": {},
   "outputs": [],
   "source": [
    "import pandas as pd \n",
    "from pandas import DataFrame\n",
    "from pandas import concat\n",
    "from math import sqrt\n",
    "from numpy import concatenate\n",
    "from sklearn.metrics import mean_squared_error\n",
    "import matplotlib.pyplot as pyplot \n",
    "import numpy as np \n",
    "from sklearn.preprocessing import MinMaxScaler\n",
    "from tensorflow.keras import Sequential\n",
    "from tensorflow.keras.layers import LSTM, Dense, Dropout, Activation\n",
    "from pandas import read_csv\n",
    "from GoogleTrendAPI_Direct import GoogleTrendAPI\n",
    "\n"
   ]
  },
  {
   "cell_type": "code",
   "execution_count": 4,
   "metadata": {},
   "outputs": [
    {
     "name": "stdout",
     "output_type": "stream",
     "text": [
      "Blockchain\n",
      "overlap 2021-09-07T00:00:00.000000000\n",
      "start:  2021-09-07 20:15:17.535951 end:  2021-10-07 20:15:17.535951\n",
      "overlap 2021-10-07T00:00:00.000000000\n",
      "start:  2021-10-07 20:15:17.535951 end:  2021-11-06 20:15:17.535951\n",
      "overlap 2021-11-06T00:00:00.000000000\n",
      "start:  2021-11-06 20:15:17.535951 end:  2021-12-06 20:15:17.535951\n",
      "overlap 2021-12-06T00:00:00.000000000\n"
     ]
    }
   ],
   "source": [
    "# load the google trend data for keyword Blockchain from the api\n",
    "google_trend_api = GoogleTrendAPI(\"Blockchain\")\n",
    "google_trend_blockchain = google_trend_api.get_data(start_date, end_date)"
   ]
  },
  {
   "cell_type": "code",
   "execution_count": 5,
   "metadata": {},
   "outputs": [
    {
     "name": "stdout",
     "output_type": "stream",
     "text": [
      "Cryptocurrency\n",
      "overlap 2021-09-07T00:00:00.000000000\n",
      "start:  2021-09-07 20:15:17.535951 end:  2021-10-07 20:15:17.535951\n",
      "overlap 2021-10-07T00:00:00.000000000\n",
      "start:  2021-10-07 20:15:17.535951 end:  2021-11-06 20:15:17.535951\n",
      "overlap 2021-11-06T00:00:00.000000000\n",
      "start:  2021-11-06 20:15:17.535951 end:  2021-12-06 20:15:17.535951\n",
      "overlap 2021-12-06T00:00:00.000000000\n"
     ]
    }
   ],
   "source": [
    "# load the google trend data for keyword Cryptocurrency from the api\n",
    "google_trend_crypto = GoogleTrendAPI(\"Cryptocurrency\")\n",
    "google_trend_crypto = google_trend_crypto.get_data(start_date, end_date)\n"
   ]
  },
  {
   "cell_type": "code",
   "execution_count": 12,
   "metadata": {},
   "outputs": [],
   "source": [
    "final_data = full_data.merge(google_trend_crypto, on=['Date'])\n",
    "final_data = final_data.merge(google_trend_blockchain, on=['Date'])"
   ]
  },
  {
   "cell_type": "code",
   "execution_count": 13,
   "metadata": {},
   "outputs": [],
   "source": [
    "final_data[\"output\"] = final_data[\"BTC-USD\"]\n",
    "del final_data[\"BTC-USD\"]"
   ]
  },
  {
   "cell_type": "code",
   "execution_count": 14,
   "metadata": {},
   "outputs": [
    {
     "data": {
      "text/html": [
       "<div>\n",
       "<style scoped>\n",
       "    .dataframe tbody tr th:only-of-type {\n",
       "        vertical-align: middle;\n",
       "    }\n",
       "\n",
       "    .dataframe tbody tr th {\n",
       "        vertical-align: top;\n",
       "    }\n",
       "\n",
       "    .dataframe thead th {\n",
       "        text-align: right;\n",
       "    }\n",
       "</style>\n",
       "<table border=\"1\" class=\"dataframe\">\n",
       "  <thead>\n",
       "    <tr style=\"text-align: right;\">\n",
       "      <th></th>\n",
       "      <th>Date</th>\n",
       "      <th>^GSPC</th>\n",
       "      <th>^VIX</th>\n",
       "      <th>Volume</th>\n",
       "      <th>bitcoin</th>\n",
       "      <th>Cryptocurrency</th>\n",
       "      <th>Blockchain</th>\n",
       "      <th>output</th>\n",
       "    </tr>\n",
       "  </thead>\n",
       "  <tbody>\n",
       "    <tr>\n",
       "      <th>0</th>\n",
       "      <td>2021-09-07</td>\n",
       "      <td>4520.029785</td>\n",
       "      <td>18.139999</td>\n",
       "      <td>65210059683</td>\n",
       "      <td>100.000000</td>\n",
       "      <td>94.0000</td>\n",
       "      <td>78.000000</td>\n",
       "      <td>46811.128906</td>\n",
       "    </tr>\n",
       "    <tr>\n",
       "      <th>1</th>\n",
       "      <td>2021-09-08</td>\n",
       "      <td>4514.069824</td>\n",
       "      <td>17.959999</td>\n",
       "      <td>49007762488</td>\n",
       "      <td>92.000000</td>\n",
       "      <td>70.0000</td>\n",
       "      <td>74.000000</td>\n",
       "      <td>46091.390625</td>\n",
       "    </tr>\n",
       "    <tr>\n",
       "      <th>2</th>\n",
       "      <td>2021-09-09</td>\n",
       "      <td>4493.279785</td>\n",
       "      <td>18.799999</td>\n",
       "      <td>38672657013</td>\n",
       "      <td>73.000000</td>\n",
       "      <td>81.0000</td>\n",
       "      <td>67.000000</td>\n",
       "      <td>46391.421875</td>\n",
       "    </tr>\n",
       "    <tr>\n",
       "      <th>3</th>\n",
       "      <td>2021-09-10</td>\n",
       "      <td>4458.580078</td>\n",
       "      <td>20.950001</td>\n",
       "      <td>39154666597</td>\n",
       "      <td>60.000000</td>\n",
       "      <td>76.0000</td>\n",
       "      <td>76.000000</td>\n",
       "      <td>44883.910156</td>\n",
       "    </tr>\n",
       "    <tr>\n",
       "      <th>4</th>\n",
       "      <td>2021-09-11</td>\n",
       "      <td>4458.580078</td>\n",
       "      <td>20.950001</td>\n",
       "      <td>34499835245</td>\n",
       "      <td>53.000000</td>\n",
       "      <td>70.0000</td>\n",
       "      <td>49.000000</td>\n",
       "      <td>45201.457031</td>\n",
       "    </tr>\n",
       "    <tr>\n",
       "      <th>...</th>\n",
       "      <td>...</td>\n",
       "      <td>...</td>\n",
       "      <td>...</td>\n",
       "      <td>...</td>\n",
       "      <td>...</td>\n",
       "      <td>...</td>\n",
       "      <td>...</td>\n",
       "      <td>...</td>\n",
       "    </tr>\n",
       "    <tr>\n",
       "      <th>113</th>\n",
       "      <td>2021-12-29</td>\n",
       "      <td>4793.060059</td>\n",
       "      <td>16.950001</td>\n",
       "      <td>30049226299</td>\n",
       "      <td>62.045526</td>\n",
       "      <td>78.2772</td>\n",
       "      <td>96.712018</td>\n",
       "      <td>46444.710938</td>\n",
       "    </tr>\n",
       "    <tr>\n",
       "      <th>114</th>\n",
       "      <td>2021-12-30</td>\n",
       "      <td>4778.729980</td>\n",
       "      <td>17.330000</td>\n",
       "      <td>26686491018</td>\n",
       "      <td>60.193421</td>\n",
       "      <td>77.2194</td>\n",
       "      <td>94.324067</td>\n",
       "      <td>47178.125000</td>\n",
       "    </tr>\n",
       "    <tr>\n",
       "      <th>115</th>\n",
       "      <td>2021-12-31</td>\n",
       "      <td>4766.180176</td>\n",
       "      <td>17.219999</td>\n",
       "      <td>36974172400</td>\n",
       "      <td>57.415263</td>\n",
       "      <td>71.9304</td>\n",
       "      <td>79.996360</td>\n",
       "      <td>46306.445312</td>\n",
       "    </tr>\n",
       "    <tr>\n",
       "      <th>116</th>\n",
       "      <td>2022-01-01</td>\n",
       "      <td>4766.180176</td>\n",
       "      <td>17.219999</td>\n",
       "      <td>24582667004</td>\n",
       "      <td>55.563158</td>\n",
       "      <td>72.9882</td>\n",
       "      <td>77.608409</td>\n",
       "      <td>47686.812500</td>\n",
       "    </tr>\n",
       "    <tr>\n",
       "      <th>117</th>\n",
       "      <td>2022-01-02</td>\n",
       "      <td>4766.180176</td>\n",
       "      <td>17.219999</td>\n",
       "      <td>27951569547</td>\n",
       "      <td>51.858947</td>\n",
       "      <td>83.5662</td>\n",
       "      <td>99.099969</td>\n",
       "      <td>47345.218750</td>\n",
       "    </tr>\n",
       "  </tbody>\n",
       "</table>\n",
       "<p>118 rows × 8 columns</p>\n",
       "</div>"
      ],
      "text/plain": [
       "          Date        ^GSPC       ^VIX       Volume     bitcoin  \\\n",
       "0   2021-09-07  4520.029785  18.139999  65210059683  100.000000   \n",
       "1   2021-09-08  4514.069824  17.959999  49007762488   92.000000   \n",
       "2   2021-09-09  4493.279785  18.799999  38672657013   73.000000   \n",
       "3   2021-09-10  4458.580078  20.950001  39154666597   60.000000   \n",
       "4   2021-09-11  4458.580078  20.950001  34499835245   53.000000   \n",
       "..         ...          ...        ...          ...         ...   \n",
       "113 2021-12-29  4793.060059  16.950001  30049226299   62.045526   \n",
       "114 2021-12-30  4778.729980  17.330000  26686491018   60.193421   \n",
       "115 2021-12-31  4766.180176  17.219999  36974172400   57.415263   \n",
       "116 2022-01-01  4766.180176  17.219999  24582667004   55.563158   \n",
       "117 2022-01-02  4766.180176  17.219999  27951569547   51.858947   \n",
       "\n",
       "     Cryptocurrency  Blockchain        output  \n",
       "0           94.0000   78.000000  46811.128906  \n",
       "1           70.0000   74.000000  46091.390625  \n",
       "2           81.0000   67.000000  46391.421875  \n",
       "3           76.0000   76.000000  44883.910156  \n",
       "4           70.0000   49.000000  45201.457031  \n",
       "..              ...         ...           ...  \n",
       "113         78.2772   96.712018  46444.710938  \n",
       "114         77.2194   94.324067  47178.125000  \n",
       "115         71.9304   79.996360  46306.445312  \n",
       "116         72.9882   77.608409  47686.812500  \n",
       "117         83.5662   99.099969  47345.218750  \n",
       "\n",
       "[118 rows x 8 columns]"
      ]
     },
     "execution_count": 14,
     "metadata": {},
     "output_type": "execute_result"
    }
   ],
   "source": [
    "final_data"
   ]
  },
  {
   "cell_type": "code",
   "execution_count": 15,
   "metadata": {},
   "outputs": [],
   "source": [
    "final_data = final_data.set_index(\"Date\")\n",
    "values = final_data.values"
   ]
  },
  {
   "cell_type": "code",
   "execution_count": 16,
   "metadata": {},
   "outputs": [],
   "source": [
    "def series_to_supervised(data, n_in=1, n_out=1, dropnan=True):\n",
    "\tn_vars = 1 if type(data) is list else data.shape[1]\n",
    "\tdf = DataFrame(data)\n",
    "\tcols, names = list(), list()\n",
    "\t# Here is created input columns which are (t-n, ... t-1)\n",
    "\tfor i in range(n_in, 0, -1):\n",
    "\t\tcols.append(df.shift(i))\n",
    "\t\tnames += [('var%d(t-%d)' % (j+1, i)) for j in range(n_vars)]\n",
    "\t# Here is created output/forecast column which are (t, t+1, ... t+n)\n",
    "\tfor i in range(0, n_out):\n",
    "\t\tcols.append(df.shift(-i))\n",
    "\t\tif i == 0:\n",
    "\t\t\tnames += [('var%d(t)' % (j+1)) for j in range(n_vars)]\n",
    "\t\telse:\n",
    "\t\t\tnames += [('var%d(t+%d)' % (j+1, i)) for j in range(n_vars)]\n",
    "\t# put it all together\n",
    "\tagg = concat(cols, axis=1)\n",
    "\tagg.columns = names\n",
    "\t# drop rows with NaN values\n",
    "\tif dropnan:\n",
    "\t\tagg.dropna(inplace=True)\n",
    "\treturn agg\n",
    "\n",
    "# here checked values numeric format \n",
    "values = values.astype('float32')\n"
   ]
  },
  {
   "cell_type": "code",
   "execution_count": 17,
   "metadata": {},
   "outputs": [
    {
     "name": "stdout",
     "output_type": "stream",
     "text": [
      "   var1(t-1)  var2(t-1)  var3(t-1)  var4(t-1)  var5(t-1)  var6(t-1)  \\\n",
      "1   0.445736   0.194289   1.000000   0.612172      0.176   0.389953   \n",
      "2   0.433638   0.183116   0.649145   0.521480      0.080   0.344077   \n",
      "3   0.391433   0.235258   0.425341   0.306086      0.124   0.263792   \n",
      "4   0.320991   0.368715   0.435779   0.158711      0.104   0.367015   \n",
      "5   0.320991   0.368715   0.334980   0.079356      0.080   0.057346   \n",
      "\n",
      "   var7(t-1)   var1(t)   var2(t)   var3(t)   var4(t)  var5(t)   var6(t)  \\\n",
      "1   0.227642  0.433638  0.183116  0.649145  0.521480    0.080  0.344077   \n",
      "2   0.200859  0.391433  0.235258  0.425341  0.306086    0.124  0.263792   \n",
      "3   0.212024  0.320991  0.368715  0.435779  0.158711    0.104  0.367015   \n",
      "4   0.155926  0.320991  0.368715  0.334980  0.079356    0.080  0.057346   \n",
      "5   0.167743  0.320991  0.368715  0.191673  0.068019    0.072  0.068815   \n",
      "\n",
      "    var7(t)  \n",
      "1  0.200859  \n",
      "2  0.212024  \n",
      "3  0.155926  \n",
      "4  0.167743  \n",
      "5  0.199813  \n"
     ]
    }
   ],
   "source": [
    "# Dataset values are normalized by using MinMax method\n",
    "scaler = MinMaxScaler(feature_range=(0,1))\n",
    "scaled = scaler.fit_transform(values)\n",
    "#print(scaled)\n",
    "\n",
    "# Normalized values are converted for supervised learning \n",
    "reframed = series_to_supervised(scaled,1,1)\n",
    "#reframed.drop(reframed.columns[[9,10,11,12,13,14,15]], axis=1, inplace=True)\n",
    "print(reframed.head())"
   ]
  },
  {
   "cell_type": "code",
   "execution_count": 24,
   "metadata": {},
   "outputs": [
    {
     "name": "stdout",
     "output_type": "stream",
     "text": [
      "[0.20085895 0.21202374 0.15592635 0.16774285 0.19981253 0.15887225\n",
      " 0.23811185 0.27844417 0.2638203  0.24462497 0.28224027 0.2443533\n",
      " 0.08001018 0.         0.1072011  0.15634274 0.07985938 0.07527649\n",
      " 0.09358275 0.0573827  0.01268435 0.03239989 0.11525321 0.27623355\n",
      " 0.26114583 0.2793225  0.313295   0.40267456 0.5458151  0.48793328\n",
      " 0.49395669 0.5311824  0.52386487 0.62482846 0.57110465 0.62171423\n",
      " 0.6187531  0.777738   0.751624   0.77623713 0.79381835 0.87702096\n",
      " 0.9414288  0.80066884 0.7441846  0.77028334 0.75306237 0.83154166\n",
      " 0.7319616  0.66195095 0.7415751  0.8013309  0.7887112  0.76750505\n",
      " 0.7558001  0.83848464 0.8289453  0.7724644  0.7603127  0.7752646\n",
      " 0.8422276  0.9999999  0.9778589  0.90430605 0.9026214  0.8730744\n",
      " 0.8847436  0.92185557 0.85081923 0.7244245  0.7321185  0.60463536\n",
      " 0.64845026 0.7071563  0.671183   0.5803417  0.62796485 0.58001196\n",
      " 0.61701    0.47914326 0.5254837 ] (81,)\n"
     ]
    }
   ],
   "source": [
    "values = reframed.values \n",
    "train_size = int(len(values)*0.70)\n",
    "train = values[:train_size,:]\n",
    "test = values[train_size:,:]\n",
    "\n",
    "# Splitted datasets are splitted to trainX, trainY, testX and testY \n",
    "trainX, trainY = train[:,:-1], train[:,-1]\n",
    "testX, testY = test[:,:-1], test[:,-1]\n",
    "print(trainY, trainY.shape)"
   ]
  },
  {
   "cell_type": "code",
   "execution_count": 25,
   "metadata": {},
   "outputs": [
    {
     "name": "stdout",
     "output_type": "stream",
     "text": [
      "(81, 1, 13) (81,) (36, 1, 13) (36,)\n",
      "Epoch 1/10\n",
      "4/4 - 1s - loss: 0.4917 - val_loss: 0.2164\n",
      "Epoch 2/10\n",
      "4/4 - 0s - loss: 0.4132 - val_loss: 0.1247\n",
      "Epoch 3/10\n",
      "4/4 - 0s - loss: 0.3424 - val_loss: 0.0919\n",
      "Epoch 4/10\n",
      "4/4 - 0s - loss: 0.2841 - val_loss: 0.1168\n",
      "Epoch 5/10\n",
      "4/4 - 0s - loss: 0.2298 - val_loss: 0.1685\n",
      "Epoch 6/10\n",
      "4/4 - 0s - loss: 0.1951 - val_loss: 0.2331\n",
      "Epoch 7/10\n",
      "4/4 - 0s - loss: 0.1760 - val_loss: 0.2900\n",
      "Epoch 8/10\n",
      "4/4 - 0s - loss: 0.1698 - val_loss: 0.3201\n",
      "Epoch 9/10\n",
      "4/4 - 0s - loss: 0.1656 - val_loss: 0.3247\n",
      "Epoch 10/10\n",
      "4/4 - 0s - loss: 0.1671 - val_loss: 0.3114\n"
     ]
    }
   ],
   "source": [
    "# Train and Test datasets are reshaped in 3D size to be used in LSTM\n",
    "trainX = trainX.reshape((trainX.shape[0],1,trainX.shape[1]))\n",
    "testX = testX.reshape((testX.shape[0],1,testX.shape[1]))\n",
    "print(trainX.shape, trainY.shape,testX.shape,testY.shape)\n",
    "\n",
    "# LSTM model is created and adjusted neuron structure\n",
    "model = Sequential()\n",
    "model.add(LSTM(128, input_shape=(trainX.shape[1], trainX.shape[2])))\n",
    "model.add(Dropout(0.05))\n",
    "model.add(Dense(1))\n",
    "model.add(Activation('linear'))\n",
    "model.compile(loss='mae', optimizer='adam')\n",
    "# Dataset is trained by using trainX and trainY\n",
    "history = model.fit(trainX, trainY, epochs=10, batch_size=25, validation_data=(testX, testY), verbose=2, shuffle=False)"
   ]
  },
  {
   "cell_type": "code",
   "execution_count": 26,
   "metadata": {},
   "outputs": [
    {
     "data": {
      "image/png": "[encoded data removed]",
      "text/plain": [
       "<Figure size 432x288 with 1 Axes>"
      ]
     },
     "metadata": {
      "needs_background": "light"
     },
     "output_type": "display_data"
    }
   ],
   "source": [
    "plt.plot(history.history['loss'], label='train')\n",
    "plt.plot(history.history['val_loss'], label='test')\n",
    "plt.title(\"Test and Train set Loss Value Rate\")\n",
    "plt.xlabel('Epochs Number', fontsize=12)\n",
    "plt.ylabel('Loss Value', fontsize=12)\n",
    "plt.legend()\n",
    "plt.show()"
   ]
  },
  {
   "cell_type": "code",
   "execution_count": 27,
   "metadata": {},
   "outputs": [
    {
     "name": "stdout",
     "output_type": "stream",
     "text": [
      "(81, 13)\n",
      "(36, 13)\n"
     ]
    }
   ],
   "source": [
    "# Prediction process is performed for train dataset\n",
    "trainPredict = model.predict(trainX)\n",
    "trainX = trainX.reshape((trainX.shape[0], trainX.shape[2]))\n",
    "print(trainX.shape)\n",
    "\n",
    "# Prediction process is performed for test dataset\n",
    "testPredict = model.predict(testX)\n",
    "testX = testX.reshape((testX.shape[0], testX.shape[2]))\n",
    "print(testX.shape)"
   ]
  },
  {
   "cell_type": "code",
   "execution_count": 28,
   "metadata": {},
   "outputs": [
    {
     "name": "stdout",
     "output_type": "stream",
     "text": [
      "Train RMSE: 4589.206\n",
      "Test RMSE: 166.363\n"
     ]
    }
   ],
   "source": [
    "# Trains dataset inverts scaling for training\n",
    "train_predict_org = trainPredict\n",
    "test_predict_org = testPredict\n",
    "trainPredict = concatenate((trainPredict, trainX[:, -6:]), axis=1)\n",
    "trainPredict = scaler.inverse_transform(trainPredict)\n",
    "trainPredict = trainPredict[:,0]\n",
    "\n",
    "# Test dataset inverts scaling for forecasting\n",
    "testPredict = concatenate((testPredict, testX[:, -6:]), axis=1)\n",
    "testPredict = scaler.inverse_transform(testPredict)\n",
    "testPredict = testPredict[:,0]\n",
    "\n",
    "# invert scaling for actual\n",
    "testY = testY.reshape((len(testY), 1))\n",
    "inv_y = concatenate((testY, testX[:, -6:]), axis=1)\n",
    "inv_y = scaler.inverse_transform(inv_y)\n",
    "inv_y = inv_y[:,0]\n",
    "#print('actual: ', len(inv_y))\n",
    "\n",
    "# Performance measure calculated by using mean_squared_error for train and test prediction\n",
    "rmse2 = sqrt(mean_squared_error(trainY, trainPredict))\n",
    "print('Train RMSE: %.3f' % rmse2)\n",
    "rmse = sqrt(mean_squared_error(inv_y, testPredict))\n",
    "print('Test RMSE: %.3f' % rmse)"
   ]
  },
  {
   "cell_type": "code",
   "execution_count": 30,
   "metadata": {},
   "outputs": [
    {
     "data": {
      "image/png": "[encoded data removed]",
      "text/plain": [
       "<Figure size 432x288 with 1 Axes>"
      ]
     },
     "metadata": {
      "needs_background": "light"
     },
     "output_type": "display_data"
    }
   ],
   "source": [
    "output = np.append(train_predict_org, test_predict_org)\n",
    "#print(len(son))\n",
    "\n",
    "final = pd.DataFrame(data=output, columns=['BTC_USD'])\n",
    "actual = final_data.output\n",
    "actual = values[:,-1]\n",
    "actual = pd.DataFrame(data=actual, columns=['BTC_USD'])\n",
    "\n",
    "# Finally training and prediction result are visualized\n",
    "pyplot.plot(actual.BTC_USD, 'b', label='Original Set')\n",
    "pyplot.plot(final.BTC_USD[0:train_size], 'r' , label='Training set')\n",
    "pyplot.plot(final.BTC_USD[train_size:], 'g' , label='Predicted/Test set')\n",
    "pyplot.title(\"Bitcoin Predicted Prices\")\n",
    "pyplot.ylabel('BitCoin Price Trend', fontsize=12)\n",
    "pyplot.legend(loc='best')\n",
    "pyplot.show()"
   ]
  }
 ],
 "metadata": {
  "kernelspec": {
   "display_name": "Python 3",
   "language": "python",
   "name": "python3"
  },
  "language_info": {
   "codemirror_mode": {
    "name": "ipython",
    "version": 3
   },
   "file_extension": ".py",
   "mimetype": "text/x-python",
   "name": "python",
   "nbconvert_exporter": "python",
   "pygments_lexer": "ipython3",
   "version": "3.8.8"
  }
 },
 "nbformat": 4,
 "nbformat_minor": 4
}

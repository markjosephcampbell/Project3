{
 "cells": [
  {
   "cell_type": "code",
   "execution_count": 55,
   "metadata": {},
   "outputs": [
    {
     "name": "stdout",
     "output_type": "stream",
     "text": [
      "data/finance_data.csv finance data file exists and will be loaded\n",
      "data/google_trend_data.csv : Google trend data file exist and will be loaded\n"
     ]
    }
   ],
   "source": [
    "import datetime as dt\n",
    "from sklearn.metrics import r2_score\n",
    "from Data import Data\n",
    "from matplotlib import pyplot as plt\n",
    "import math\n",
    "import numpy as np\n",
    "import pandas as pd \n",
    "from pandas import DataFrame\n",
    "from pandas import concat\n",
    "from math import sqrt\n",
    "from numpy import concatenate\n",
    "from sklearn.metrics import mean_squared_error, r2_score\n",
    "import matplotlib.pyplot as pyplot \n",
    "from sklearn.preprocessing import MinMaxScaler\n",
    "from tensorflow.keras import Sequential\n",
    "from tensorflow.keras.layers import LSTM, Dense, Dropout, Activation\n",
    "from pandas import read_csv\n",
    "from GoogleTrendAPI_Direct import GoogleTrendAPI\n",
    "\n",
    "# choose the time range of data:\n",
    "start_date, end_date = dt.datetime.today() - dt.timedelta(days=120), dt.datetime.today()\n",
    "data = Data()"
   ]
  },
  {
   "cell_type": "code",
   "execution_count": 56,
   "metadata": {},
   "outputs": [
    {
     "name": "stdout",
     "output_type": "stream",
     "text": [
      "loading additional data from  2022-01-11 00:00:00 to,  2022-01-13 19:38:21.968818\n",
      "overlap 2022-01-11T00:00:00.000000000\n"
     ]
    },
    {
     "data": {
      "text/html": [
       "<div>\n",
       "<style scoped>\n",
       "    .dataframe tbody tr th:only-of-type {\n",
       "        vertical-align: middle;\n",
       "    }\n",
       "\n",
       "    .dataframe tbody tr th {\n",
       "        vertical-align: top;\n",
       "    }\n",
       "\n",
       "    .dataframe thead th {\n",
       "        text-align: right;\n",
       "    }\n",
       "</style>\n",
       "<table border=\"1\" class=\"dataframe\">\n",
       "  <thead>\n",
       "    <tr style=\"text-align: right;\">\n",
       "      <th></th>\n",
       "      <th>Date</th>\n",
       "      <th>^GSPC</th>\n",
       "      <th>^VIX</th>\n",
       "      <th>Volume</th>\n",
       "      <th>BTC-USD</th>\n",
       "      <th>bitcoin</th>\n",
       "    </tr>\n",
       "  </thead>\n",
       "  <tbody>\n",
       "    <tr>\n",
       "      <th>0</th>\n",
       "      <td>2021-10-06</td>\n",
       "      <td>4363.549805</td>\n",
       "      <td>21.000000</td>\n",
       "      <td>4.903473e+10</td>\n",
       "      <td>55361.449219</td>\n",
       "      <td>67.0</td>\n",
       "    </tr>\n",
       "    <tr>\n",
       "      <th>1</th>\n",
       "      <td>2021-10-07</td>\n",
       "      <td>4399.759766</td>\n",
       "      <td>19.540001</td>\n",
       "      <td>3.680786e+10</td>\n",
       "      <td>53805.984375</td>\n",
       "      <td>62.0</td>\n",
       "    </tr>\n",
       "    <tr>\n",
       "      <th>2</th>\n",
       "      <td>2021-10-08</td>\n",
       "      <td>4391.339844</td>\n",
       "      <td>18.770000</td>\n",
       "      <td>3.480087e+10</td>\n",
       "      <td>53967.847656</td>\n",
       "      <td>52.0</td>\n",
       "    </tr>\n",
       "    <tr>\n",
       "      <th>3</th>\n",
       "      <td>2021-10-09</td>\n",
       "      <td>4391.339844</td>\n",
       "      <td>18.770000</td>\n",
       "      <td>3.249121e+10</td>\n",
       "      <td>54968.222656</td>\n",
       "      <td>47.0</td>\n",
       "    </tr>\n",
       "    <tr>\n",
       "      <th>4</th>\n",
       "      <td>2021-10-10</td>\n",
       "      <td>4391.339844</td>\n",
       "      <td>18.770000</td>\n",
       "      <td>3.952779e+10</td>\n",
       "      <td>54771.578125</td>\n",
       "      <td>48.0</td>\n",
       "    </tr>\n",
       "  </tbody>\n",
       "</table>\n",
       "</div>"
      ],
      "text/plain": [
       "        Date        ^GSPC       ^VIX        Volume       BTC-USD  bitcoin\n",
       "0 2021-10-06  4363.549805  21.000000  4.903473e+10  55361.449219     67.0\n",
       "1 2021-10-07  4399.759766  19.540001  3.680786e+10  53805.984375     62.0\n",
       "2 2021-10-08  4391.339844  18.770000  3.480087e+10  53967.847656     52.0\n",
       "3 2021-10-09  4391.339844  18.770000  3.249121e+10  54968.222656     47.0\n",
       "4 2021-10-10  4391.339844  18.770000  3.952779e+10  54771.578125     48.0"
      ]
     },
     "execution_count": 56,
     "metadata": {},
     "output_type": "execute_result"
    }
   ],
   "source": [
    "# load the data where BTC-USD is bitcoin price in usd and \"bitcoin\" column indicates google trend hits\n",
    "full_data = data.gather_data(start_date, end_date)\n",
    "full_data.head()"
   ]
  },
  {
   "cell_type": "code",
   "execution_count": 57,
   "metadata": {},
   "outputs": [
    {
     "name": "stdout",
     "output_type": "stream",
     "text": [
      "Blockchain\n",
      "overlap 2021-09-15T00:00:00.000000000\n",
      "start:  2021-09-15 19:38:21.968805 end:  2021-10-15 19:38:21.968805\n",
      "overlap 2021-10-15T00:00:00.000000000\n",
      "start:  2021-10-15 19:38:21.968805 end:  2021-11-14 19:38:21.968805\n",
      "overlap 2021-11-14T00:00:00.000000000\n",
      "start:  2021-11-14 19:38:21.968805 end:  2021-12-14 19:38:21.968805\n",
      "overlap 2021-12-14T00:00:00.000000000\n",
      "start:  2021-12-14 19:38:21.968805 end:  2022-01-13 19:38:21.968805\n"
     ]
    }
   ],
   "source": [
    "# load the google trend data for keyword Blockchain from the api\n",
    "google_trend_api = GoogleTrendAPI(\"Blockchain\")\n",
    "google_trend_blockchain = google_trend_api.get_data(start_date, end_date)"
   ]
  },
  {
   "cell_type": "code",
   "execution_count": 58,
   "metadata": {},
   "outputs": [
    {
     "name": "stdout",
     "output_type": "stream",
     "text": [
      "Cryptocurrency\n",
      "overlap 2021-09-15T00:00:00.000000000\n",
      "start:  2021-09-15 19:38:21.968805 end:  2021-10-15 19:38:21.968805\n",
      "overlap 2021-10-15T00:00:00.000000000\n",
      "start:  2021-10-15 19:38:21.968805 end:  2021-11-14 19:38:21.968805\n",
      "overlap 2021-11-14T00:00:00.000000000\n",
      "start:  2021-11-14 19:38:21.968805 end:  2021-12-14 19:38:21.968805\n",
      "overlap 2021-12-14T00:00:00.000000000\n",
      "start:  2021-12-14 19:38:21.968805 end:  2022-01-13 19:38:21.968805\n"
     ]
    }
   ],
   "source": [
    "# load the google trend data for keyword Cryptocurrency from the api\n",
    "google_trend_crypto = GoogleTrendAPI(\"Cryptocurrency\")\n",
    "google_trend_crypto = google_trend_crypto.get_data(start_date, end_date)\n"
   ]
  },
  {
   "cell_type": "code",
   "execution_count": 59,
   "metadata": {},
   "outputs": [],
   "source": [
    "final_data = full_data.merge(google_trend_crypto, on=['Date'])\n",
    "final_data = final_data.merge(google_trend_blockchain, on=['Date'])"
   ]
  },
  {
   "cell_type": "code",
   "execution_count": 60,
   "metadata": {},
   "outputs": [],
   "source": [
    "final_data[\"output\"] = final_data[\"BTC-USD\"]\n",
    "del final_data[\"BTC-USD\"]"
   ]
  },
  {
   "cell_type": "code",
   "execution_count": 61,
   "metadata": {},
   "outputs": [
    {
     "data": {
      "text/html": [
       "<div>\n",
       "<style scoped>\n",
       "    .dataframe tbody tr th:only-of-type {\n",
       "        vertical-align: middle;\n",
       "    }\n",
       "\n",
       "    .dataframe tbody tr th {\n",
       "        vertical-align: top;\n",
       "    }\n",
       "\n",
       "    .dataframe thead th {\n",
       "        text-align: right;\n",
       "    }\n",
       "</style>\n",
       "<table border=\"1\" class=\"dataframe\">\n",
       "  <thead>\n",
       "    <tr style=\"text-align: right;\">\n",
       "      <th></th>\n",
       "      <th>Date</th>\n",
       "      <th>^GSPC</th>\n",
       "      <th>^VIX</th>\n",
       "      <th>Volume</th>\n",
       "      <th>bitcoin</th>\n",
       "      <th>Cryptocurrency</th>\n",
       "      <th>Blockchain</th>\n",
       "      <th>output</th>\n",
       "    </tr>\n",
       "  </thead>\n",
       "  <tbody>\n",
       "    <tr>\n",
       "      <th>0</th>\n",
       "      <td>2021-10-06</td>\n",
       "      <td>4363.549805</td>\n",
       "      <td>21.000000</td>\n",
       "      <td>4.903473e+10</td>\n",
       "      <td>67.000000</td>\n",
       "      <td>86.000000</td>\n",
       "      <td>66.000000</td>\n",
       "      <td>55361.449219</td>\n",
       "    </tr>\n",
       "    <tr>\n",
       "      <th>1</th>\n",
       "      <td>2021-10-07</td>\n",
       "      <td>4399.759766</td>\n",
       "      <td>19.540001</td>\n",
       "      <td>3.680786e+10</td>\n",
       "      <td>62.000000</td>\n",
       "      <td>100.000000</td>\n",
       "      <td>74.000000</td>\n",
       "      <td>53805.984375</td>\n",
       "    </tr>\n",
       "    <tr>\n",
       "      <th>2</th>\n",
       "      <td>2021-10-08</td>\n",
       "      <td>4391.339844</td>\n",
       "      <td>18.770000</td>\n",
       "      <td>3.480087e+10</td>\n",
       "      <td>52.000000</td>\n",
       "      <td>77.000000</td>\n",
       "      <td>69.000000</td>\n",
       "      <td>53967.847656</td>\n",
       "    </tr>\n",
       "    <tr>\n",
       "      <th>3</th>\n",
       "      <td>2021-10-09</td>\n",
       "      <td>4391.339844</td>\n",
       "      <td>18.770000</td>\n",
       "      <td>3.249121e+10</td>\n",
       "      <td>47.000000</td>\n",
       "      <td>73.000000</td>\n",
       "      <td>57.000000</td>\n",
       "      <td>54968.222656</td>\n",
       "    </tr>\n",
       "    <tr>\n",
       "      <th>4</th>\n",
       "      <td>2021-10-10</td>\n",
       "      <td>4391.339844</td>\n",
       "      <td>18.770000</td>\n",
       "      <td>3.952779e+10</td>\n",
       "      <td>48.000000</td>\n",
       "      <td>76.000000</td>\n",
       "      <td>45.000000</td>\n",
       "      <td>54771.578125</td>\n",
       "    </tr>\n",
       "    <tr>\n",
       "      <th>...</th>\n",
       "      <td>...</td>\n",
       "      <td>...</td>\n",
       "      <td>...</td>\n",
       "      <td>...</td>\n",
       "      <td>...</td>\n",
       "      <td>...</td>\n",
       "      <td>...</td>\n",
       "      <td>...</td>\n",
       "    </tr>\n",
       "    <tr>\n",
       "      <th>93</th>\n",
       "      <td>2022-01-07</td>\n",
       "      <td>4677.029785</td>\n",
       "      <td>18.760000</td>\n",
       "      <td>8.419661e+10</td>\n",
       "      <td>70.240550</td>\n",
       "      <td>100.768889</td>\n",
       "      <td>63.030090</td>\n",
       "      <td>41557.902344</td>\n",
       "    </tr>\n",
       "    <tr>\n",
       "      <th>94</th>\n",
       "      <td>2022-01-08</td>\n",
       "      <td>4677.029785</td>\n",
       "      <td>18.760000</td>\n",
       "      <td>2.806636e+10</td>\n",
       "      <td>60.406873</td>\n",
       "      <td>111.565556</td>\n",
       "      <td>64.530806</td>\n",
       "      <td>41733.941406</td>\n",
       "    </tr>\n",
       "    <tr>\n",
       "      <th>95</th>\n",
       "      <td>2022-01-09</td>\n",
       "      <td>4677.029785</td>\n",
       "      <td>18.760000</td>\n",
       "      <td>2.129438e+10</td>\n",
       "      <td>58.299656</td>\n",
       "      <td>105.567407</td>\n",
       "      <td>60.779015</td>\n",
       "      <td>41911.601562</td>\n",
       "    </tr>\n",
       "    <tr>\n",
       "      <th>96</th>\n",
       "      <td>2022-01-10</td>\n",
       "      <td>4670.290039</td>\n",
       "      <td>19.400000</td>\n",
       "      <td>3.210423e+10</td>\n",
       "      <td>61.109278</td>\n",
       "      <td>87.572963</td>\n",
       "      <td>71.284030</td>\n",
       "      <td>41821.261719</td>\n",
       "    </tr>\n",
       "    <tr>\n",
       "      <th>97</th>\n",
       "      <td>2022-01-11</td>\n",
       "      <td>4713.069824</td>\n",
       "      <td>18.410000</td>\n",
       "      <td>2.632765e+10</td>\n",
       "      <td>54.787629</td>\n",
       "      <td>89.972222</td>\n",
       "      <td>65.281164</td>\n",
       "      <td>42735.855469</td>\n",
       "    </tr>\n",
       "  </tbody>\n",
       "</table>\n",
       "<p>98 rows × 8 columns</p>\n",
       "</div>"
      ],
      "text/plain": [
       "         Date        ^GSPC       ^VIX        Volume    bitcoin  \\\n",
       "0  2021-10-06  4363.549805  21.000000  4.903473e+10  67.000000   \n",
       "1  2021-10-07  4399.759766  19.540001  3.680786e+10  62.000000   \n",
       "2  2021-10-08  4391.339844  18.770000  3.480087e+10  52.000000   \n",
       "3  2021-10-09  4391.339844  18.770000  3.249121e+10  47.000000   \n",
       "4  2021-10-10  4391.339844  18.770000  3.952779e+10  48.000000   \n",
       "..        ...          ...        ...           ...        ...   \n",
       "93 2022-01-07  4677.029785  18.760000  8.419661e+10  70.240550   \n",
       "94 2022-01-08  4677.029785  18.760000  2.806636e+10  60.406873   \n",
       "95 2022-01-09  4677.029785  18.760000  2.129438e+10  58.299656   \n",
       "96 2022-01-10  4670.290039  19.400000  3.210423e+10  61.109278   \n",
       "97 2022-01-11  4713.069824  18.410000  2.632765e+10  54.787629   \n",
       "\n",
       "    Cryptocurrency  Blockchain        output  \n",
       "0        86.000000   66.000000  55361.449219  \n",
       "1       100.000000   74.000000  53805.984375  \n",
       "2        77.000000   69.000000  53967.847656  \n",
       "3        73.000000   57.000000  54968.222656  \n",
       "4        76.000000   45.000000  54771.578125  \n",
       "..             ...         ...           ...  \n",
       "93      100.768889   63.030090  41557.902344  \n",
       "94      111.565556   64.530806  41733.941406  \n",
       "95      105.567407   60.779015  41911.601562  \n",
       "96       87.572963   71.284030  41821.261719  \n",
       "97       89.972222   65.281164  42735.855469  \n",
       "\n",
       "[98 rows x 8 columns]"
      ]
     },
     "execution_count": 61,
     "metadata": {},
     "output_type": "execute_result"
    }
   ],
   "source": [
    "final_data"
   ]
  },
  {
   "cell_type": "code",
   "execution_count": 62,
   "metadata": {},
   "outputs": [],
   "source": [
    "final_data = final_data.set_index(\"Date\")\n",
    "values = final_data.values"
   ]
  },
  {
   "cell_type": "code",
   "execution_count": 63,
   "metadata": {},
   "outputs": [],
   "source": [
    "def series_to_supervised(data, n_in=1, n_out=1, dropnan=True):\n",
    "    n_vars = 1 if type(data) is list else data.shape[1]\n",
    "    df = DataFrame(data)\n",
    "    cols, names = list(), list()\n",
    "    # Here is created input columns which are (t-n, ... t-1)\n",
    "    for i in range(n_in, 0, -1):\n",
    "        cols.append(df.shift(i))\n",
    "        names += [('var%d(t-%d)' % (j+1, i)) for j in range(n_vars)]\n",
    "    # Here is created output/forecast column which are (t, t+1, ... t+n)\n",
    "    for i in range(0, n_out):\n",
    "        cols.append(df.shift(-i))\n",
    "        if i == 0:\n",
    "            names += [('var%d(t)' % (j+1)) for j in range(n_vars)]\n",
    "        else:\n",
    "            names += [('var%d(t+%d)' % (j+1, i)) for j in range(n_vars)]\n",
    "    # put it all together\n",
    "    agg = concat(cols, axis=1)\n",
    "    agg.columns = names\n",
    "    # drop rows with NaN values\n",
    "    if dropnan:\n",
    "        agg.dropna(inplace=True)\n",
    "    return agg\n",
    "\n",
    "# here checked values numeric format \n",
    "values = values.astype('float32')\n"
   ]
  },
  {
   "cell_type": "code",
   "execution_count": 64,
   "metadata": {},
   "outputs": [
    {
     "name": "stdout",
     "output_type": "stream",
     "text": [
      "   var1(t-1)  var2(t-1)  var3(t-1)  var4(t-1)  var5(t-1)  var6(t-1)  \\\n",
      "1   0.028929   0.371819   0.460426   0.409722   0.090909   0.350000   \n",
      "2   0.110134   0.281192   0.272799   0.335317   0.146245   0.483333   \n",
      "3   0.091251   0.233395   0.242001   0.186508   0.055336   0.400000   \n",
      "4   0.091251   0.233395   0.206558   0.112103   0.039526   0.200000   \n",
      "5   0.091251   0.233395   0.314538   0.126984   0.051383   0.000000   \n",
      "\n",
      "   var7(t-1)   var1(t)   var2(t)   var3(t)   var4(t)   var5(t)   var6(t)  \\\n",
      "1   0.530723  0.110134  0.281192  0.272799  0.335317  0.146245  0.483333   \n",
      "2   0.470918  0.091251  0.233395  0.242001  0.186508  0.055336  0.400000   \n",
      "3   0.477142  0.091251  0.233395  0.206558  0.112103  0.039526  0.200000   \n",
      "4   0.515605  0.091251  0.233395  0.314538  0.126984  0.051383  0.000000   \n",
      "5   0.508044  0.023637  0.309745  0.362255  0.275794  0.071146  0.333333   \n",
      "\n",
      "    var7(t)  \n",
      "1  0.470918  \n",
      "2  0.477142  \n",
      "3  0.515605  \n",
      "4  0.508044  \n",
      "5  0.612362  \n"
     ]
    }
   ],
   "source": [
    "# Dataset values are normalized by using MinMax method\n",
    "scaler = MinMaxScaler(feature_range=(0,1))\n",
    "scaled = scaler.fit_transform(values)\n",
    "#print(scaled)\n",
    "\n",
    "# Normalized values are converted for supervised learning \n",
    "reframed = series_to_supervised(scaled,1,1)\n",
    "#reframed.drop(reframed.columns[[9,10,11,12,13,14,15]], axis=1, inplace=True)\n",
    "print(reframed.head())"
   ]
  },
  {
   "cell_type": "code",
   "execution_count": 65,
   "metadata": {},
   "outputs": [
    {
     "name": "stdout",
     "output_type": "stream",
     "text": [
      "[0.4709183  0.47714174 0.5156046  0.5080439  0.61236227 0.5568534\n",
      " 0.60914457 0.60608494 0.7703527  0.7433709  0.76880205 0.7869674\n",
      " 0.87293446 0.93948257 0.79404557 0.7356845  0.7626504  0.7448572\n",
      " 0.8259443  0.72305524 0.65071833 0.73298824 0.7947296  0.7816905\n",
      " 0.7597798  0.7476858  0.83311784 0.8232614  0.7649039  0.7523483\n",
      " 0.7677971  0.83698523 1.0000001  0.97712314 0.90112627 0.8993858\n",
      " 0.868857   0.88091385 0.91925895 0.84586227 0.7152678  0.72321737\n",
      " 0.59149826 0.63676894 0.6974257  0.660257   0.5663973  0.61560285\n",
      " 0.5660566  0.6042839  0.46183622 0.5097164  0.60327566 0.62473404\n",
      " 0.59393156 0.60255945 0.57364595 0.46293128 0.29385304 0.30031788\n",
      " 0.34698558 0.35150182 0.3439932  0.23508155 0.21859431 0.3000741\n",
      " 0.32836545] (67,)\n"
     ]
    }
   ],
   "source": [
    "values = reframed.values \n",
    "train_size = int(len(values)*0.70)\n",
    "train = values[:train_size,:]\n",
    "test = values[train_size:,:]\n",
    "\n",
    "# Splitted datasets are splitted to trainX, trainY, testX and testY \n",
    "trainX, trainY = train[:,:-1], train[:,-1]\n",
    "testX, testY = test[:,:-1], test[:,-1]\n",
    "print(trainY, trainY.shape)"
   ]
  },
  {
   "cell_type": "code",
   "execution_count": null,
   "metadata": {},
   "outputs": [
    {
     "name": "stdout",
     "output_type": "stream",
     "text": [
      "(67, 1, 13) (67,) (30, 1, 13) (30,)\n"
     ]
    }
   ],
   "source": [
    "# Train and Test datasets are reshaped in 3D size to be used in LSTM\n",
    "trainX = trainX.reshape((trainX.shape[0],1,trainX.shape[1]))\n",
    "testX = testX.reshape((testX.shape[0],1,testX.shape[1]))\n",
    "print(trainX.shape, trainY.shape,testX.shape,testY.shape)\n",
    "\n",
    "# LSTM model is created and adjusted neuron structure\n",
    "model = Sequential()\n",
    "model.add(LSTM(128, input_shape=(trainX.shape[1], trainX.shape[2])))\n",
    "model.add(Dropout(0.05))\n",
    "model.add(Dense(1))\n",
    "model.add(Activation('linear'))\n",
    "model.compile(loss='mae', optimizer='adam')\n",
    "# Dataset is trained by using trainX and trainY\n",
    "history = model.fit(trainX, trainY, epochs=10, batch_size=25, validation_data=(testX, testY), verbose=2, shuffle=False)"
   ]
  },
  {
   "cell_type": "code",
   "execution_count": null,
   "metadata": {},
   "outputs": [],
   "source": [
    "plt.plot(history.history['loss'], label='train')\n",
    "plt.plot(history.history['val_loss'], label='test')\n",
    "plt.title(\"Test and Train set Loss Value Rate\")\n",
    "plt.xlabel('Epochs Number', fontsize=12)\n",
    "plt.ylabel('Loss Value', fontsize=12)\n",
    "plt.legend()\n",
    "plt.show()"
   ]
  },
  {
   "cell_type": "code",
   "execution_count": null,
   "metadata": {},
   "outputs": [],
   "source": [
    "# Prediction process is performed for train dataset\n",
    "trainPredict = model.predict(trainX)\n",
    "trainX = trainX.reshape((trainX.shape[0], trainX.shape[2]))\n",
    "print(trainX.shape)\n",
    "\n",
    "# Prediction process is performed for test dataset\n",
    "testPredict = model.predict(testX)\n",
    "testX = testX.reshape((testX.shape[0], testX.shape[2]))\n",
    "print(testX.shape)"
   ]
  },
  {
   "cell_type": "code",
   "execution_count": null,
   "metadata": {},
   "outputs": [],
   "source": [
    "# Trains dataset inverts scaling for training\n",
    "train_predict_org = trainPredict\n",
    "test_predict_org = testPredict\n",
    "trainPredict = concatenate((trainPredict, trainX[:, -6:]), axis=1)\n",
    "trainPredict = scaler.inverse_transform(trainPredict)\n",
    "trainPredict = trainPredict[:,0]\n",
    "\n",
    "# Test dataset inverts scaling for forecasting\n",
    "testPredict = concatenate((testPredict, testX[:, -6:]), axis=1)\n",
    "testPredict = scaler.inverse_transform(testPredict)\n",
    "testPredict = testPredict[:,0]\n",
    "\n",
    "# invert scaling for actual\n",
    "testY = testY.reshape((len(testY), 1))\n",
    "inv_y = concatenate((testY, testX[:, -6:]), axis=1)\n",
    "inv_y = scaler.inverse_transform(inv_y)\n",
    "inv_y = inv_y[:,0]\n",
    "#print('actual: ', len(inv_y))"
   ]
  },
  {
   "cell_type": "code",
   "execution_count": null,
   "metadata": {},
   "outputs": [],
   "source": [
    "# Performance measure calculated by using mean_squared_error for train and test prediction\n",
    "rmse2 = sqrt(mean_squared_error(trainY, trainPredict))\n",
    "print('Train RMSE: %.3f' % rmse2)\n",
    "rmse = sqrt(mean_squared_error(testY, testPredict))\n",
    "print('Test RMSE: %.3f' % rmse)"
   ]
  },
  {
   "cell_type": "code",
   "execution_count": null,
   "metadata": {},
   "outputs": [],
   "source": [
    "r2_score(testY, testPredict)"
   ]
  },
  {
   "cell_type": "code",
   "execution_count": null,
   "metadata": {},
   "outputs": [],
   "source": [
    "output = np.append(train_predict_org, test_predict_org)\n",
    "#print(len(son))\n",
    "\n",
    "final = pd.DataFrame(data=output, columns=['BTC_USD'])\n",
    "actual = final_data.output\n",
    "actual = values[:,-1]\n",
    "actual = pd.DataFrame(data=actual, columns=['BTC_USD'])\n",
    "\n",
    "# Finally training and prediction result are visualized\n",
    "pyplot.plot(actual.BTC_USD, 'b', label='Original Set')\n",
    "pyplot.plot(final.BTC_USD[0:train_size], 'r' , label='Training set')\n",
    "pyplot.plot(final.BTC_USD[train_size:], 'g' , label='Predicted/Test set')\n",
    "pyplot.title(\"Bitcoin Predicted Prices\")\n",
    "pyplot.ylabel('BitCoin Price Trend', fontsize=12)\n",
    "pyplot.legend(loc='best')\n",
    "pyplot.show()"
   ]
  },
  {
   "cell_type": "code",
   "execution_count": null,
   "metadata": {},
   "outputs": [],
   "source": []
  }
 ],
 "metadata": {
  "kernelspec": {
   "display_name": "Python 3",
   "language": "python",
   "name": "python3"
  },
  "language_info": {
   "codemirror_mode": {
    "name": "ipython",
    "version": 3
   },
   "file_extension": ".py",
   "mimetype": "text/x-python",
   "name": "python",
   "nbconvert_exporter": "python",
   "pygments_lexer": "ipython3",
   "version": "3.8.8"
  }
 },
 "nbformat": 4,
 "nbformat_minor": 4
}

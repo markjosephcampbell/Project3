{
 "cells": [
  {
   "cell_type": "code",
   "execution_count": 1,
   "metadata": {},
   "outputs": [
    {
     "name": "stderr",
     "output_type": "stream",
     "text": [
      "\n",
      "Bad key \"text.kerning_factor\" on line 4 in\n",
      "C:\\Users\\alexm\\anaconda3\\envs\\pyvizenv\\lib\\site-packages\\matplotlib\\mpl-data\\stylelib\\_classic_test_patch.mplstyle.\n",
      "You probably need to get an updated matplotlibrc file from\n",
      "http://github.com/matplotlib/matplotlib/blob/master/matplotlibrc.template\n",
      "or from the matplotlib source distribution\n"
     ]
    },
    {
     "name": "stdout",
     "output_type": "stream",
     "text": [
      "data/finance_data.csv finance data file exists and will be loaded\n",
      "data/google_trend_data.csv : Google trend data file exist and will be loaded\n"
     ]
    }
   ],
   "source": [
    "import datetime as dt\n",
    "from sklearn.metrics import r2_score\n",
    "from Data import Data\n",
    "from matplotlib import pyplot as plt\n",
    "import math\n",
    "import numpy as np\n",
    "import pandas as pd \n",
    "from pandas import DataFrame\n",
    "from pandas import concat\n",
    "from math import sqrt\n",
    "from numpy import concatenate\n",
    "from sklearn.metrics import mean_squared_error, r2_score\n",
    "import matplotlib.pyplot as pyplot \n",
    "from sklearn.preprocessing import MinMaxScaler\n",
    "from tensorflow.keras import Sequential\n",
    "from tensorflow.keras.layers import LSTM, Dense, Dropout, Activation\n",
    "from pandas import read_csv\n",
    "from GoogleTrendAPI_Direct import GoogleTrendAPI\n",
    "\n",
    "# choose the time range of data:\n",
    "start_date, end_date = dt.datetime.today() - dt.timedelta(days=120), dt.datetime.today()\n",
    "data = Data()"
   ]
  },
  {
   "cell_type": "code",
   "execution_count": 2,
   "metadata": {},
   "outputs": [
    {
     "name": "stdout",
     "output_type": "stream",
     "text": [
      "loading additional data from  2022-01-11 00:00:00 to,  2022-01-16 15:20:32.773313\n",
      "overlap 2022-01-11T00:00:00.000000000\n",
      "loading additional data from  2022-01-14 to,  2022-01-16\n"
     ]
    },
    {
     "data": {
      "text/html": [
       "<div>\n",
       "<style scoped>\n",
       "    .dataframe tbody tr th:only-of-type {\n",
       "        vertical-align: middle;\n",
       "    }\n",
       "\n",
       "    .dataframe tbody tr th {\n",
       "        vertical-align: top;\n",
       "    }\n",
       "\n",
       "    .dataframe thead th {\n",
       "        text-align: right;\n",
       "    }\n",
       "</style>\n",
       "<table border=\"1\" class=\"dataframe\">\n",
       "  <thead>\n",
       "    <tr style=\"text-align: right;\">\n",
       "      <th></th>\n",
       "      <th>Date</th>\n",
       "      <th>^GSPC</th>\n",
       "      <th>^VIX</th>\n",
       "      <th>Volume</th>\n",
       "      <th>BTC-USD</th>\n",
       "      <th>bitcoin</th>\n",
       "    </tr>\n",
       "  </thead>\n",
       "  <tbody>\n",
       "    <tr>\n",
       "      <th>0</th>\n",
       "      <td>2021-10-06</td>\n",
       "      <td>4363.549805</td>\n",
       "      <td>21.000000</td>\n",
       "      <td>4.903473e+10</td>\n",
       "      <td>55361.449219</td>\n",
       "      <td>67.0</td>\n",
       "    </tr>\n",
       "    <tr>\n",
       "      <th>1</th>\n",
       "      <td>2021-10-07</td>\n",
       "      <td>4399.759766</td>\n",
       "      <td>19.540001</td>\n",
       "      <td>3.680786e+10</td>\n",
       "      <td>53805.984375</td>\n",
       "      <td>62.0</td>\n",
       "    </tr>\n",
       "    <tr>\n",
       "      <th>2</th>\n",
       "      <td>2021-10-08</td>\n",
       "      <td>4391.339844</td>\n",
       "      <td>18.770000</td>\n",
       "      <td>3.480087e+10</td>\n",
       "      <td>53967.847656</td>\n",
       "      <td>52.0</td>\n",
       "    </tr>\n",
       "    <tr>\n",
       "      <th>3</th>\n",
       "      <td>2021-10-09</td>\n",
       "      <td>4391.339844</td>\n",
       "      <td>18.770000</td>\n",
       "      <td>3.249121e+10</td>\n",
       "      <td>54968.222656</td>\n",
       "      <td>47.0</td>\n",
       "    </tr>\n",
       "    <tr>\n",
       "      <th>4</th>\n",
       "      <td>2021-10-10</td>\n",
       "      <td>4391.339844</td>\n",
       "      <td>18.770000</td>\n",
       "      <td>3.952779e+10</td>\n",
       "      <td>54771.578125</td>\n",
       "      <td>48.0</td>\n",
       "    </tr>\n",
       "  </tbody>\n",
       "</table>\n",
       "</div>"
      ],
      "text/plain": [
       "        Date        ^GSPC       ^VIX        Volume       BTC-USD  bitcoin\n",
       "0 2021-10-06  4363.549805  21.000000  4.903473e+10  55361.449219     67.0\n",
       "1 2021-10-07  4399.759766  19.540001  3.680786e+10  53805.984375     62.0\n",
       "2 2021-10-08  4391.339844  18.770000  3.480087e+10  53967.847656     52.0\n",
       "3 2021-10-09  4391.339844  18.770000  3.249121e+10  54968.222656     47.0\n",
       "4 2021-10-10  4391.339844  18.770000  3.952779e+10  54771.578125     48.0"
      ]
     },
     "execution_count": 2,
     "metadata": {},
     "output_type": "execute_result"
    }
   ],
   "source": [
    "# load the data where BTC-USD is bitcoin price in usd and \"bitcoin\" column indicates google trend hits\n",
    "full_data = data.gather_data(start_date, end_date)\n",
    "full_data.head()"
   ]
  },
  {
   "cell_type": "code",
   "execution_count": 3,
   "metadata": {},
   "outputs": [
    {
     "name": "stdout",
     "output_type": "stream",
     "text": [
      "Blockchain\n",
      "overlap 2021-09-18T00:00:00.000000000\n",
      "start:  2021-09-18 15:20:32.773313 end:  2021-10-18 15:20:32.773313\n",
      "overlap 2021-10-18T00:00:00.000000000\n",
      "start:  2021-10-18 15:20:32.773313 end:  2021-11-17 15:20:32.773313\n",
      "overlap 2021-11-17T00:00:00.000000000\n",
      "start:  2021-11-17 15:20:32.773313 end:  2021-12-17 15:20:32.773313\n",
      "overlap 2021-12-17T00:00:00.000000000\n"
     ]
    }
   ],
   "source": [
    "# load the google trend data for keyword Blockchain from the api\n",
    "google_trend_api = GoogleTrendAPI(\"Blockchain\")\n",
    "google_trend_blockchain = google_trend_api.get_data(start_date, end_date)"
   ]
  },
  {
   "cell_type": "code",
   "execution_count": 4,
   "metadata": {},
   "outputs": [
    {
     "name": "stdout",
     "output_type": "stream",
     "text": [
      "Cryptocurrency\n",
      "overlap 2021-09-18T00:00:00.000000000\n",
      "start:  2021-09-18 15:20:32.773313 end:  2021-10-18 15:20:32.773313\n",
      "overlap 2021-10-18T00:00:00.000000000\n",
      "start:  2021-10-18 15:20:32.773313 end:  2021-11-17 15:20:32.773313\n",
      "overlap 2021-11-17T00:00:00.000000000\n",
      "start:  2021-11-17 15:20:32.773313 end:  2021-12-17 15:20:32.773313\n",
      "overlap 2021-12-17T00:00:00.000000000\n"
     ]
    }
   ],
   "source": [
    "# load the google trend data for keyword Cryptocurrency from the api\n",
    "google_trend_crypto = GoogleTrendAPI(\"Cryptocurrency\")\n",
    "google_trend_crypto = google_trend_crypto.get_data(start_date, end_date)\n"
   ]
  },
  {
   "cell_type": "code",
   "execution_count": 5,
   "metadata": {},
   "outputs": [],
   "source": [
    "final_data = full_data.merge(google_trend_crypto, on=['Date'])\n",
    "final_data = final_data.merge(google_trend_blockchain, on=['Date'])"
   ]
  },
  {
   "cell_type": "code",
   "execution_count": 6,
   "metadata": {},
   "outputs": [],
   "source": [
    "final_data[\"output\"] = final_data[\"BTC-USD\"]\n",
    "del final_data[\"BTC-USD\"]"
   ]
  },
  {
   "cell_type": "code",
   "execution_count": 7,
   "metadata": {},
   "outputs": [
    {
     "data": {
      "text/html": [
       "<div>\n",
       "<style scoped>\n",
       "    .dataframe tbody tr th:only-of-type {\n",
       "        vertical-align: middle;\n",
       "    }\n",
       "\n",
       "    .dataframe tbody tr th {\n",
       "        vertical-align: top;\n",
       "    }\n",
       "\n",
       "    .dataframe thead th {\n",
       "        text-align: right;\n",
       "    }\n",
       "</style>\n",
       "<table border=\"1\" class=\"dataframe\">\n",
       "  <thead>\n",
       "    <tr style=\"text-align: right;\">\n",
       "      <th></th>\n",
       "      <th>Date</th>\n",
       "      <th>^GSPC</th>\n",
       "      <th>^VIX</th>\n",
       "      <th>Volume</th>\n",
       "      <th>bitcoin</th>\n",
       "      <th>Cryptocurrency</th>\n",
       "      <th>Blockchain</th>\n",
       "      <th>output</th>\n",
       "    </tr>\n",
       "  </thead>\n",
       "  <tbody>\n",
       "    <tr>\n",
       "      <th>0</th>\n",
       "      <td>2021-10-06</td>\n",
       "      <td>4363.549805</td>\n",
       "      <td>21.000000</td>\n",
       "      <td>4.903473e+10</td>\n",
       "      <td>67.000000</td>\n",
       "      <td>80.000000</td>\n",
       "      <td>89.000000</td>\n",
       "      <td>55361.449219</td>\n",
       "    </tr>\n",
       "    <tr>\n",
       "      <th>1</th>\n",
       "      <td>2021-10-07</td>\n",
       "      <td>4399.759766</td>\n",
       "      <td>19.540001</td>\n",
       "      <td>3.680786e+10</td>\n",
       "      <td>62.000000</td>\n",
       "      <td>100.000000</td>\n",
       "      <td>92.000000</td>\n",
       "      <td>53805.984375</td>\n",
       "    </tr>\n",
       "    <tr>\n",
       "      <th>2</th>\n",
       "      <td>2021-10-08</td>\n",
       "      <td>4391.339844</td>\n",
       "      <td>18.770000</td>\n",
       "      <td>3.480087e+10</td>\n",
       "      <td>52.000000</td>\n",
       "      <td>79.000000</td>\n",
       "      <td>83.000000</td>\n",
       "      <td>53967.847656</td>\n",
       "    </tr>\n",
       "    <tr>\n",
       "      <th>3</th>\n",
       "      <td>2021-10-09</td>\n",
       "      <td>4391.339844</td>\n",
       "      <td>18.770000</td>\n",
       "      <td>3.249121e+10</td>\n",
       "      <td>47.000000</td>\n",
       "      <td>76.000000</td>\n",
       "      <td>64.000000</td>\n",
       "      <td>54968.222656</td>\n",
       "    </tr>\n",
       "    <tr>\n",
       "      <th>4</th>\n",
       "      <td>2021-10-10</td>\n",
       "      <td>4391.339844</td>\n",
       "      <td>18.770000</td>\n",
       "      <td>3.952779e+10</td>\n",
       "      <td>48.000000</td>\n",
       "      <td>69.000000</td>\n",
       "      <td>71.000000</td>\n",
       "      <td>54771.578125</td>\n",
       "    </tr>\n",
       "    <tr>\n",
       "      <th>...</th>\n",
       "      <td>...</td>\n",
       "      <td>...</td>\n",
       "      <td>...</td>\n",
       "      <td>...</td>\n",
       "      <td>...</td>\n",
       "      <td>...</td>\n",
       "      <td>...</td>\n",
       "      <td>...</td>\n",
       "    </tr>\n",
       "    <tr>\n",
       "      <th>96</th>\n",
       "      <td>2022-01-10</td>\n",
       "      <td>4670.290039</td>\n",
       "      <td>19.400000</td>\n",
       "      <td>3.210423e+10</td>\n",
       "      <td>61.109278</td>\n",
       "      <td>61.905499</td>\n",
       "      <td>82.378472</td>\n",
       "      <td>41821.261719</td>\n",
       "    </tr>\n",
       "    <tr>\n",
       "      <th>97</th>\n",
       "      <td>2022-01-11</td>\n",
       "      <td>4713.069824</td>\n",
       "      <td>18.410000</td>\n",
       "      <td>2.632765e+10</td>\n",
       "      <td>54.787629</td>\n",
       "      <td>62.857891</td>\n",
       "      <td>82.378472</td>\n",
       "      <td>42735.855469</td>\n",
       "    </tr>\n",
       "    <tr>\n",
       "      <th>98</th>\n",
       "      <td>2022-01-12</td>\n",
       "      <td>4726.350098</td>\n",
       "      <td>17.620001</td>\n",
       "      <td>3.349994e+10</td>\n",
       "      <td>53.691876</td>\n",
       "      <td>57.143538</td>\n",
       "      <td>89.006625</td>\n",
       "      <td>43949.101562</td>\n",
       "    </tr>\n",
       "    <tr>\n",
       "      <th>99</th>\n",
       "      <td>2022-01-13</td>\n",
       "      <td>4659.029785</td>\n",
       "      <td>20.309999</td>\n",
       "      <td>3.349994e+10</td>\n",
       "      <td>52.596124</td>\n",
       "      <td>60.000715</td>\n",
       "      <td>80.484714</td>\n",
       "      <td>43949.101562</td>\n",
       "    </tr>\n",
       "    <tr>\n",
       "      <th>100</th>\n",
       "      <td>2022-01-14</td>\n",
       "      <td>4659.029785</td>\n",
       "      <td>20.309999</td>\n",
       "      <td>4.747778e+10</td>\n",
       "      <td>48.760990</td>\n",
       "      <td>58.095930</td>\n",
       "      <td>83.325351</td>\n",
       "      <td>42537.816406</td>\n",
       "    </tr>\n",
       "  </tbody>\n",
       "</table>\n",
       "<p>101 rows × 8 columns</p>\n",
       "</div>"
      ],
      "text/plain": [
       "          Date        ^GSPC       ^VIX        Volume    bitcoin  \\\n",
       "0   2021-10-06  4363.549805  21.000000  4.903473e+10  67.000000   \n",
       "1   2021-10-07  4399.759766  19.540001  3.680786e+10  62.000000   \n",
       "2   2021-10-08  4391.339844  18.770000  3.480087e+10  52.000000   \n",
       "3   2021-10-09  4391.339844  18.770000  3.249121e+10  47.000000   \n",
       "4   2021-10-10  4391.339844  18.770000  3.952779e+10  48.000000   \n",
       "..         ...          ...        ...           ...        ...   \n",
       "96  2022-01-10  4670.290039  19.400000  3.210423e+10  61.109278   \n",
       "97  2022-01-11  4713.069824  18.410000  2.632765e+10  54.787629   \n",
       "98  2022-01-12  4726.350098  17.620001  3.349994e+10  53.691876   \n",
       "99  2022-01-13  4659.029785  20.309999  3.349994e+10  52.596124   \n",
       "100 2022-01-14  4659.029785  20.309999  4.747778e+10  48.760990   \n",
       "\n",
       "     Cryptocurrency  Blockchain        output  \n",
       "0         80.000000   89.000000  55361.449219  \n",
       "1        100.000000   92.000000  53805.984375  \n",
       "2         79.000000   83.000000  53967.847656  \n",
       "3         76.000000   64.000000  54968.222656  \n",
       "4         69.000000   71.000000  54771.578125  \n",
       "..              ...         ...           ...  \n",
       "96        61.905499   82.378472  41821.261719  \n",
       "97        62.857891   82.378472  42735.855469  \n",
       "98        57.143538   89.006625  43949.101562  \n",
       "99        60.000715   80.484714  43949.101562  \n",
       "100       58.095930   83.325351  42537.816406  \n",
       "\n",
       "[101 rows x 8 columns]"
      ]
     },
     "execution_count": 7,
     "metadata": {},
     "output_type": "execute_result"
    }
   ],
   "source": [
    "final_data"
   ]
  },
  {
   "cell_type": "code",
   "execution_count": 8,
   "metadata": {},
   "outputs": [],
   "source": [
    "final_data = final_data.set_index(\"Date\")\n",
    "values = final_data.values"
   ]
  },
  {
   "cell_type": "code",
   "execution_count": 9,
   "metadata": {},
   "outputs": [],
   "source": [
    "def series_to_supervised(data, n_in=1, n_out=1, dropnan=True):\n",
    "    n_vars = 1 if type(data) is list else data.shape[1]\n",
    "    df = DataFrame(data)\n",
    "    cols, names = list(), list()\n",
    "    # Here is created input columns which are (t-n, ... t-1)\n",
    "    for i in range(n_in, 0, -1):\n",
    "        cols.append(df.shift(i))\n",
    "        names += [('var%d(t-%d)' % (j+1, i)) for j in range(n_vars)]\n",
    "    # Here is created output/forecast column which are (t, t+1, ... t+n)\n",
    "    for i in range(0, n_out):\n",
    "        cols.append(df.shift(-i))\n",
    "        if i == 0:\n",
    "            names += [('var%d(t)' % (j+1)) for j in range(n_vars)]\n",
    "        else:\n",
    "            names += [('var%d(t+%d)' % (j+1, i)) for j in range(n_vars)]\n",
    "    # put it all together\n",
    "    agg = concat(cols, axis=1)\n",
    "    agg.columns = names\n",
    "    # drop rows with NaN values\n",
    "    if dropnan:\n",
    "        agg.dropna(inplace=True)\n",
    "    return agg\n",
    "\n",
    "# here checked values numeric format \n",
    "values = values.astype('float32')\n"
   ]
  },
  {
   "cell_type": "code",
   "execution_count": 10,
   "metadata": {},
   "outputs": [
    {
     "name": "stdout",
     "output_type": "stream",
     "text": [
      "   var1(t-1)  var2(t-1)  var3(t-1)  var4(t-1)  var5(t-1)  var6(t-1)  \\\n",
      "1   0.028929   0.371819   0.460426   0.409722   0.119680   0.708264   \n",
      "2   0.110134   0.281192   0.272799   0.335317   0.198222   0.760945   \n",
      "3   0.091251   0.233395   0.242001   0.186508   0.115753   0.602902   \n",
      "4   0.091251   0.233395   0.206558   0.112103   0.103972   0.269257   \n",
      "5   0.091251   0.233395   0.314538   0.126984   0.076482   0.392179   \n",
      "\n",
      "   var7(t-1)   var1(t)   var2(t)   var3(t)   var4(t)   var5(t)   var6(t)  \\\n",
      "1   0.530723  0.110134  0.281192  0.272799  0.335317  0.198222  0.760945   \n",
      "2   0.470918  0.091251  0.233395  0.242001  0.186508  0.115753  0.602902   \n",
      "3   0.477142  0.091251  0.233395  0.206558  0.112103  0.103972  0.269257   \n",
      "4   0.515605  0.091251  0.233395  0.314538  0.126984  0.076482  0.392179   \n",
      "5   0.508044  0.023637  0.309745  0.362255  0.275794  0.088263  0.515101   \n",
      "\n",
      "    var7(t)  \n",
      "1  0.470918  \n",
      "2  0.477142  \n",
      "3  0.515605  \n",
      "4  0.508044  \n",
      "5  0.612362  \n"
     ]
    }
   ],
   "source": [
    "# Dataset values are normalized by using MinMax method\n",
    "scaler = MinMaxScaler(feature_range=(0,1))\n",
    "scaled = scaler.fit_transform(values)\n",
    "#print(scaled)\n",
    "\n",
    "# Normalized values are converted for supervised learning \n",
    "reframed = series_to_supervised(scaled,1,1)\n",
    "#reframed.drop(reframed.columns[[9,10,11,12,13,14,15]], axis=1, inplace=True)\n",
    "print(reframed.head())"
   ]
  },
  {
   "cell_type": "code",
   "execution_count": 11,
   "metadata": {},
   "outputs": [
    {
     "name": "stdout",
     "output_type": "stream",
     "text": [
      "[0.4709183  0.47714174 0.5156046  0.5080439  0.61236227 0.5568534\n",
      " 0.60914457 0.60608494 0.7703527  0.7433709  0.76880205 0.7869674\n",
      " 0.87293446 0.93948257 0.79404557 0.7356845  0.7626504  0.7448572\n",
      " 0.8259443  0.72305524 0.65071833 0.73298824 0.7947296  0.7816905\n",
      " 0.7597798  0.7476858  0.83311784 0.8232614  0.7649039  0.7523483\n",
      " 0.7677971  0.83698523 1.0000001  0.97712314 0.90112627 0.8993858\n",
      " 0.868857   0.88091385 0.91925895 0.84586227 0.7152678  0.72321737\n",
      " 0.59149826 0.63676894 0.6974257  0.660257   0.5663973  0.61560285\n",
      " 0.5660566  0.6042839  0.46183622 0.5097164  0.60327566 0.62473404\n",
      " 0.59393156 0.60255945 0.57364595 0.46293128 0.29385304 0.30031788\n",
      " 0.34698558 0.35150182 0.3439932  0.23508155 0.21859431 0.3000741\n",
      " 0.32836545 0.19914615 0.19434595 0.2821654 ] (70,)\n"
     ]
    }
   ],
   "source": [
    "values = reframed.values \n",
    "train_size = int(len(values)*0.70)\n",
    "train = values[:train_size,:]\n",
    "test = values[train_size:,:]\n",
    "\n",
    "# Splitted datasets are splitted to trainX, trainY, testX and testY \n",
    "trainX, trainY = train[:,:-1], train[:,-1]\n",
    "testX, testY = test[:,:-1], test[:,-1]\n",
    "print(trainY, trainY.shape)"
   ]
  },
  {
   "cell_type": "code",
   "execution_count": 12,
   "metadata": {},
   "outputs": [
    {
     "name": "stdout",
     "output_type": "stream",
     "text": [
      "(70, 1, 13) (70,) (30, 1, 13) (30,)\n",
      "Epoch 1/10\n",
      "3/3 - 3s - loss: 0.5735 - val_loss: 0.1253 - 3s/epoch - 1s/step\n",
      "Epoch 2/10\n",
      "3/3 - 0s - loss: 0.4984 - val_loss: 0.1035 - 40ms/epoch - 13ms/step\n",
      "Epoch 3/10\n",
      "3/3 - 0s - loss: 0.4280 - val_loss: 0.1048 - 38ms/epoch - 13ms/step\n",
      "Epoch 4/10\n",
      "3/3 - 0s - loss: 0.3661 - val_loss: 0.1333 - 38ms/epoch - 13ms/step\n",
      "Epoch 5/10\n",
      "3/3 - 0s - loss: 0.3144 - val_loss: 0.1746 - 41ms/epoch - 14ms/step\n",
      "Epoch 6/10\n",
      "3/3 - 0s - loss: 0.2695 - val_loss: 0.2253 - 37ms/epoch - 12ms/step\n",
      "Epoch 7/10\n",
      "3/3 - 0s - loss: 0.2303 - val_loss: 0.2785 - 39ms/epoch - 13ms/step\n",
      "Epoch 8/10\n",
      "3/3 - 0s - loss: 0.2040 - val_loss: 0.3253 - 37ms/epoch - 12ms/step\n",
      "Epoch 9/10\n",
      "3/3 - 0s - loss: 0.1887 - val_loss: 0.3611 - 38ms/epoch - 13ms/step\n",
      "Epoch 10/10\n",
      "3/3 - 0s - loss: 0.1845 - val_loss: 0.3852 - 68ms/epoch - 23ms/step\n"
     ]
    }
   ],
   "source": [
    "# Train and Test datasets are reshaped in 3D size to be used in LSTM\n",
    "trainX = trainX.reshape((trainX.shape[0],1,trainX.shape[1]))\n",
    "testX = testX.reshape((testX.shape[0],1,testX.shape[1]))\n",
    "print(trainX.shape, trainY.shape,testX.shape,testY.shape)\n",
    "\n",
    "# LSTM model is created and adjusted neuron structure\n",
    "model = Sequential()\n",
    "model.add(LSTM(128, input_shape=(trainX.shape[1], trainX.shape[2])))\n",
    "model.add(Dropout(0.05))\n",
    "model.add(Dense(1))\n",
    "model.add(Activation('linear'))\n",
    "model.compile(loss='mae', optimizer='adam')\n",
    "# Dataset is trained by using trainX and trainY\n",
    "history = model.fit(trainX, trainY, epochs=10, batch_size=25, validation_data=(testX, testY), verbose=2, shuffle=False)"
   ]
  },
  {
   "cell_type": "code",
   "execution_count": 13,
   "metadata": {},
   "outputs": [
    {
     "data": {
      "image/png": "[encoded data removed]",
      "text/plain": [
       "<Figure size 432x288 with 1 Axes>"
      ]
     },
     "metadata": {
      "needs_background": "light"
     },
     "output_type": "display_data"
    }
   ],
   "source": [
    "plt.plot(history.history['loss'], label='train')\n",
    "plt.plot(history.history['val_loss'], label='test')\n",
    "plt.title(\"Test and Train set Loss Value Rate\")\n",
    "plt.xlabel('Epochs Number', fontsize=12)\n",
    "plt.ylabel('Loss Value', fontsize=12)\n",
    "plt.legend()\n",
    "plt.show()"
   ]
  },
  {
   "cell_type": "code",
   "execution_count": 14,
   "metadata": {},
   "outputs": [
    {
     "name": "stdout",
     "output_type": "stream",
     "text": [
      "(70, 13)\n",
      "(30, 13)\n"
     ]
    }
   ],
   "source": [
    "# Prediction process is performed for train dataset\n",
    "trainPredict = model.predict(trainX)\n",
    "trainX = trainX.reshape((trainX.shape[0], trainX.shape[2]))\n",
    "print(trainX.shape)\n",
    "\n",
    "# Prediction process is performed for test dataset\n",
    "testPredict = model.predict(testX)\n",
    "testX = testX.reshape((testX.shape[0], testX.shape[2]))\n",
    "print(testX.shape)"
   ]
  },
  {
   "cell_type": "code",
   "execution_count": 15,
   "metadata": {},
   "outputs": [],
   "source": [
    "# Trains dataset inverts scaling for training\n",
    "train_predict_org = trainPredict\n",
    "test_predict_org = testPredict\n",
    "trainPredict = concatenate((trainPredict, trainX[:, -6:]), axis=1)\n",
    "trainPredict = scaler.inverse_transform(trainPredict)\n",
    "trainPredict = trainPredict[:,0]\n",
    "\n",
    "# Test dataset inverts scaling for forecasting\n",
    "testPredict = concatenate((testPredict, testX[:, -6:]), axis=1)\n",
    "testPredict = scaler.inverse_transform(testPredict)\n",
    "testPredict = testPredict[:,0]\n",
    "\n",
    "# invert scaling for actual\n",
    "testY = testY.reshape((len(testY), 1))\n",
    "inv_y = concatenate((testY, testX[:, -6:]), axis=1)\n",
    "inv_y = scaler.inverse_transform(inv_y)\n",
    "inv_y = inv_y[:,0]\n",
    "#print('actual: ', len(inv_y))"
   ]
  },
  {
   "cell_type": "code",
   "execution_count": 16,
   "metadata": {},
   "outputs": [
    {
     "name": "stdout",
     "output_type": "stream",
     "text": [
      "Train RMSE: 4656.218\n",
      "Test RMSE: 4604.571\n"
     ]
    }
   ],
   "source": [
    "# Performance measure calculated by using mean_squared_error for train and test prediction\n",
    "rmse2 = sqrt(mean_squared_error(trainY, trainPredict))\n",
    "print('Train RMSE: %.3f' % rmse2)\n",
    "rmse = sqrt(mean_squared_error(testY, testPredict))\n",
    "print('Test RMSE: %.3f' % rmse)"
   ]
  },
  {
   "cell_type": "code",
   "execution_count": 17,
   "metadata": {},
   "outputs": [
    {
     "data": {
      "text/plain": [
       "-1735977241.6866295"
      ]
     },
     "execution_count": 17,
     "metadata": {},
     "output_type": "execute_result"
    }
   ],
   "source": [
    "r2_score(testY, testPredict)"
   ]
  },
  {
   "cell_type": "code",
   "execution_count": 18,
   "metadata": {},
   "outputs": [
    {
     "data": {
      "image/png": "[encoded data removed]",
      "text/plain": [
       "<Figure size 432x288 with 1 Axes>"
      ]
     },
     "metadata": {
      "needs_background": "light"
     },
     "output_type": "display_data"
    }
   ],
   "source": [
    "output = np.append(train_predict_org, test_predict_org)\n",
    "#print(len(son))\n",
    "\n",
    "final = pd.DataFrame(data=output, columns=['BTC_USD'])\n",
    "actual = final_data.output\n",
    "actual = values[:,-1]\n",
    "actual = pd.DataFrame(data=actual, columns=['BTC_USD'])\n",
    "\n",
    "# Finally training and prediction result are visualized\n",
    "pyplot.plot(actual.BTC_USD, 'b', label='Original Set')\n",
    "pyplot.plot(final.BTC_USD[0:train_size], 'r' , label='Training set')\n",
    "pyplot.plot(final.BTC_USD[train_size:], 'g' , label='Predicted/Test set')\n",
    "pyplot.title(\"Bitcoin Predicted Prices\")\n",
    "pyplot.ylabel('BitCoin Price Trend', fontsize=12)\n",
    "pyplot.legend(loc='best')\n",
    "pyplot.show()"
   ]
  },
  {
   "cell_type": "code",
   "execution_count": 19,
   "metadata": {},
   "outputs": [
    {
     "data": {
      "text/plain": [
       "<keras.callbacks.History at 0x21a6551d788>"
      ]
     },
     "execution_count": 19,
     "metadata": {},
     "output_type": "execute_result"
    }
   ],
   "source": [
    "history"
   ]
  },
  {
   "cell_type": "code",
   "execution_count": 20,
   "metadata": {},
   "outputs": [
    {
     "data": {
      "text/plain": [
       "{'loss': [0.5735139846801758,\n",
       "  0.4984206557273865,\n",
       "  0.42797771096229553,\n",
       "  0.3660641312599182,\n",
       "  0.3143905699253082,\n",
       "  0.2695302963256836,\n",
       "  0.23026880621910095,\n",
       "  0.2040468007326126,\n",
       "  0.18872497975826263,\n",
       "  0.1845458447933197],\n",
       " 'val_loss': [0.12534792721271515,\n",
       "  0.1035451665520668,\n",
       "  0.10479146987199783,\n",
       "  0.13327547907829285,\n",
       "  0.1746085286140442,\n",
       "  0.22529058158397675,\n",
       "  0.27853867411613464,\n",
       "  0.32530516386032104,\n",
       "  0.36109229922294617,\n",
       "  0.38519343733787537]}"
      ]
     },
     "execution_count": 20,
     "metadata": {},
     "output_type": "execute_result"
    }
   ],
   "source": [
    "gt_historyhistory.history"
   ]
  },
  {
   "cell_type": "code",
   "execution_count": 32,
   "metadata": {},
   "outputs": [],
   "source": [
    "#Write data to csv for future use\n",
    "\n",
    "actual.to_csv(\"data/gt_actual.csv\", index = False)\n",
    "final.to_csv(\"data/gt_final.csv\", index = False)\n",
    "history_df = pd.DataFrame(history.history)\n",
    "history_df.to_csv(\"data/gt_history.csv\", index = False)"
   ]
  }
 ],
 "metadata": {
  "kernelspec": {
   "display_name": "Python 3",
   "language": "python",
   "name": "python3"
  },
  "language_info": {
   "codemirror_mode": {
    "name": "ipython",
    "version": 3
   },
   "file_extension": ".py",
   "mimetype": "text/x-python",
   "name": "python",
   "nbconvert_exporter": "python",
   "pygments_lexer": "ipython3",
   "version": "3.7.10"
  }
 },
 "nbformat": 4,
 "nbformat_minor": 4
}

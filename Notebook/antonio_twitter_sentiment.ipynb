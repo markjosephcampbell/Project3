{
 "cells": [
  {
   "cell_type": "code",
   "execution_count": 53,
   "id": "ac8f11e7",
   "metadata": {},
   "outputs": [],
   "source": [
    "import pandas as pd\n",
    "from datetime import datetime\n",
    "from vaderSentiment.vaderSentiment import SentimentIntensityAnalyzer\n",
    "from tqdm import tnrange, tqdm_notebook, tqdm\n",
    "import glob\n",
    "import numpy as np\n",
    "\n",
    "currency = \"bitcoin\"\n",
    "symbol = \"BTC\"\n",
    "tweets_clean_file = f'../data/twitter/{symbol}/{currency}_tweets_clean.csv'\n",
    "path = f'../data/twitter/{symbol}'"
   ]
  },
  {
   "cell_type": "code",
   "execution_count": 54,
   "id": "59f2bd9a",
   "metadata": {},
   "outputs": [
    {
     "name": "stdout",
     "output_type": "stream",
     "text": [
      "(93, 7)\n"
     ]
    },
    {
     "data": {
      "text/html": [
       "<div>\n",
       "<style scoped>\n",
       "    .dataframe tbody tr th:only-of-type {\n",
       "        vertical-align: middle;\n",
       "    }\n",
       "\n",
       "    .dataframe tbody tr th {\n",
       "        vertical-align: top;\n",
       "    }\n",
       "\n",
       "    .dataframe thead th {\n",
       "        text-align: right;\n",
       "    }\n",
       "</style>\n",
       "<table border=\"1\" class=\"dataframe\">\n",
       "  <thead>\n",
       "    <tr style=\"text-align: right;\">\n",
       "      <th></th>\n",
       "      <th>ID</th>\n",
       "      <th>Text</th>\n",
       "      <th>UserName</th>\n",
       "      <th>UserFollowerCount</th>\n",
       "      <th>RetweetCount</th>\n",
       "      <th>Likes</th>\n",
       "      <th>CreatedAt</th>\n",
       "    </tr>\n",
       "  </thead>\n",
       "  <tbody>\n",
       "    <tr>\n",
       "      <th>0</th>\n",
       "      <td>1480507769610510343</td>\n",
       "      <td>Legendary investor Bill Miller is still buying...</td>\n",
       "      <td>Bitcoin Magazine</td>\n",
       "      <td>1921879</td>\n",
       "      <td>648</td>\n",
       "      <td>3898</td>\n",
       "      <td>Mon Jan 10 11:52:13 +0000 2022</td>\n",
       "    </tr>\n",
       "    <tr>\n",
       "      <th>1</th>\n",
       "      <td>1480190307224465408</td>\n",
       "      <td>Stay hungry. Bitcoin</td>\n",
       "      <td>Michael Saylor⚡️</td>\n",
       "      <td>2084920</td>\n",
       "      <td>2017</td>\n",
       "      <td>21352</td>\n",
       "      <td>Sun Jan 09 14:50:44 +0000 2022</td>\n",
       "    </tr>\n",
       "    <tr>\n",
       "      <th>2</th>\n",
       "      <td>1480259013455400961</td>\n",
       "      <td>1/ BTC 🤝 ICP direct integration (🚫🌉)cryptograp...</td>\n",
       "      <td>DFINITY Foundation</td>\n",
       "      <td>463883</td>\n",
       "      <td>448</td>\n",
       "      <td>1173</td>\n",
       "      <td>Sun Jan 09 19:23:45 +0000 2022</td>\n",
       "    </tr>\n",
       "    <tr>\n",
       "      <th>3</th>\n",
       "      <td>1480722463679860736</td>\n",
       "      <td>RT : Gold has gone from 0 to $1850 in 5000 yea...</td>\n",
       "      <td>Mr.BUIDL🦇🔊</td>\n",
       "      <td>503</td>\n",
       "      <td>607</td>\n",
       "      <td>0</td>\n",
       "      <td>Tue Jan 11 02:05:20 +0000 2022</td>\n",
       "    </tr>\n",
       "    <tr>\n",
       "      <th>4</th>\n",
       "      <td>1480722458931970050</td>\n",
       "      <td>RT : It's amazing, this is a project I've been...</td>\n",
       "      <td>Fahrul_Oiiker</td>\n",
       "      <td>3</td>\n",
       "      <td>1</td>\n",
       "      <td>0</td>\n",
       "      <td>Tue Jan 11 02:05:19 +0000 2022</td>\n",
       "    </tr>\n",
       "  </tbody>\n",
       "</table>\n",
       "</div>"
      ],
      "text/plain": [
       "                    ID                                               Text  \\\n",
       "0  1480507769610510343  Legendary investor Bill Miller is still buying...   \n",
       "1  1480190307224465408                               Stay hungry. Bitcoin   \n",
       "2  1480259013455400961  1/ BTC 🤝 ICP direct integration (🚫🌉)cryptograp...   \n",
       "3  1480722463679860736  RT : Gold has gone from 0 to $1850 in 5000 yea...   \n",
       "4  1480722458931970050  RT : It's amazing, this is a project I've been...   \n",
       "\n",
       "             UserName  UserFollowerCount  RetweetCount  Likes  \\\n",
       "0    Bitcoin Magazine            1921879           648   3898   \n",
       "1    Michael Saylor⚡️            2084920          2017  21352   \n",
       "2  DFINITY Foundation             463883           448   1173   \n",
       "3          Mr.BUIDL🦇🔊                503           607      0   \n",
       "4       Fahrul_Oiiker                  3             1      0   \n",
       "\n",
       "                        CreatedAt  \n",
       "0  Mon Jan 10 11:52:13 +0000 2022  \n",
       "1  Sun Jan 09 14:50:44 +0000 2022  \n",
       "2  Sun Jan 09 19:23:45 +0000 2022  \n",
       "3  Tue Jan 11 02:05:20 +0000 2022  \n",
       "4  Tue Jan 11 02:05:19 +0000 2022  "
      ]
     },
     "execution_count": 54,
     "metadata": {},
     "output_type": "execute_result"
    }
   ],
   "source": [
    "df_clean = pd.read_csv(tweets_clean_file)\n",
    "print(df_clean.shape)\n",
    "df_clean.head(5)"
   ]
  },
  {
   "cell_type": "code",
   "execution_count": 55,
   "id": "91ce2de2",
   "metadata": {},
   "outputs": [],
   "source": [
    "df_clean = df_clean.sort_values(by='ID') # the bigger the ID, the most recent the tweet "
   ]
  },
  {
   "cell_type": "code",
   "execution_count": 56,
   "id": "c131252e",
   "metadata": {},
   "outputs": [
    {
     "name": "stderr",
     "output_type": "stream",
     "text": [
      "100%|██████████| 93/93 [00:00<00:00, 3917.12it/s]\n"
     ]
    },
    {
     "data": {
      "text/html": [
       "<div>\n",
       "<style scoped>\n",
       "    .dataframe tbody tr th:only-of-type {\n",
       "        vertical-align: middle;\n",
       "    }\n",
       "\n",
       "    .dataframe tbody tr th {\n",
       "        vertical-align: top;\n",
       "    }\n",
       "\n",
       "    .dataframe thead th {\n",
       "        text-align: right;\n",
       "    }\n",
       "</style>\n",
       "<table border=\"1\" class=\"dataframe\">\n",
       "  <thead>\n",
       "    <tr style=\"text-align: right;\">\n",
       "      <th></th>\n",
       "      <th>ID</th>\n",
       "      <th>Text</th>\n",
       "      <th>UserName</th>\n",
       "      <th>UserFollowerCount</th>\n",
       "      <th>RetweetCount</th>\n",
       "      <th>Likes</th>\n",
       "      <th>CreatedAt</th>\n",
       "      <th>compound</th>\n",
       "    </tr>\n",
       "  </thead>\n",
       "  <tbody>\n",
       "    <tr>\n",
       "      <th>1</th>\n",
       "      <td>1480190307224465408</td>\n",
       "      <td>Stay hungry. Bitcoin</td>\n",
       "      <td>Michael Saylor⚡️</td>\n",
       "      <td>2084920</td>\n",
       "      <td>2017</td>\n",
       "      <td>21352</td>\n",
       "      <td>Sun Jan 09 14:50:44 +0000 2022</td>\n",
       "      <td>0.0000</td>\n",
       "    </tr>\n",
       "    <tr>\n",
       "      <th>2</th>\n",
       "      <td>1480259013455400961</td>\n",
       "      <td>1/ BTC 🤝 ICP direct integration (🚫🌉)cryptograp...</td>\n",
       "      <td>DFINITY Foundation</td>\n",
       "      <td>463883</td>\n",
       "      <td>448</td>\n",
       "      <td>1173</td>\n",
       "      <td>Sun Jan 09 19:23:45 +0000 2022</td>\n",
       "      <td>0.3818</td>\n",
       "    </tr>\n",
       "  </tbody>\n",
       "</table>\n",
       "</div>"
      ],
      "text/plain": [
       "                    ID                                               Text  \\\n",
       "1  1480190307224465408                               Stay hungry. Bitcoin   \n",
       "2  1480259013455400961  1/ BTC 🤝 ICP direct integration (🚫🌉)cryptograp...   \n",
       "\n",
       "             UserName  UserFollowerCount  RetweetCount  Likes  \\\n",
       "1    Michael Saylor⚡️            2084920          2017  21352   \n",
       "2  DFINITY Foundation             463883           448   1173   \n",
       "\n",
       "                        CreatedAt  compound  \n",
       "1  Sun Jan 09 14:50:44 +0000 2022    0.0000  \n",
       "2  Sun Jan 09 19:23:45 +0000 2022    0.3818  "
      ]
     },
     "execution_count": 56,
     "metadata": {},
     "output_type": "execute_result"
    }
   ],
   "source": [
    "analyzer = SentimentIntensityAnalyzer()\n",
    "compound = []\n",
    "for i,s in enumerate(tqdm(df_clean['Text'])):\n",
    "    vs = analyzer.polarity_scores(s)\n",
    "    compound.append(vs[\"compound\"])\n",
    "df_clean[\"compound\"] = compound\n",
    "df_clean.head(2)"
   ]
  },
  {
   "cell_type": "code",
   "execution_count": 57,
   "id": "ff642e9b",
   "metadata": {},
   "outputs": [
    {
     "name": "stderr",
     "output_type": "stream",
     "text": [
      "100%|██████████| 93/93 [00:00<00:00, 5942.12it/s]\n"
     ]
    },
    {
     "data": {
      "text/html": [
       "<div>\n",
       "<style scoped>\n",
       "    .dataframe tbody tr th:only-of-type {\n",
       "        vertical-align: middle;\n",
       "    }\n",
       "\n",
       "    .dataframe tbody tr th {\n",
       "        vertical-align: top;\n",
       "    }\n",
       "\n",
       "    .dataframe thead th {\n",
       "        text-align: right;\n",
       "    }\n",
       "</style>\n",
       "<table border=\"1\" class=\"dataframe\">\n",
       "  <thead>\n",
       "    <tr style=\"text-align: right;\">\n",
       "      <th></th>\n",
       "      <th>ID</th>\n",
       "      <th>Text</th>\n",
       "      <th>UserName</th>\n",
       "      <th>UserFollowerCount</th>\n",
       "      <th>RetweetCount</th>\n",
       "      <th>Likes</th>\n",
       "      <th>CreatedAt</th>\n",
       "      <th>compound</th>\n",
       "      <th>score</th>\n",
       "    </tr>\n",
       "  </thead>\n",
       "  <tbody>\n",
       "    <tr>\n",
       "      <th>1</th>\n",
       "      <td>1480190307224465408</td>\n",
       "      <td>Stay hungry. Bitcoin</td>\n",
       "      <td>Michael Saylor⚡️</td>\n",
       "      <td>2084920</td>\n",
       "      <td>2017</td>\n",
       "      <td>21352</td>\n",
       "      <td>Sun Jan 09 14:50:44 +0000 2022</td>\n",
       "      <td>0.0000</td>\n",
       "      <td>0.000000e+00</td>\n",
       "    </tr>\n",
       "    <tr>\n",
       "      <th>2</th>\n",
       "      <td>1480259013455400961</td>\n",
       "      <td>1/ BTC 🤝 ICP direct integration (🚫🌉)cryptograp...</td>\n",
       "      <td>DFINITY Foundation</td>\n",
       "      <td>463883</td>\n",
       "      <td>448</td>\n",
       "      <td>1173</td>\n",
       "      <td>Sun Jan 09 19:23:45 +0000 2022</td>\n",
       "      <td>0.3818</td>\n",
       "      <td>2.079282e+08</td>\n",
       "    </tr>\n",
       "  </tbody>\n",
       "</table>\n",
       "</div>"
      ],
      "text/plain": [
       "                    ID                                               Text  \\\n",
       "1  1480190307224465408                               Stay hungry. Bitcoin   \n",
       "2  1480259013455400961  1/ BTC 🤝 ICP direct integration (🚫🌉)cryptograp...   \n",
       "\n",
       "             UserName  UserFollowerCount  RetweetCount  Likes  \\\n",
       "1    Michael Saylor⚡️            2084920          2017  21352   \n",
       "2  DFINITY Foundation             463883           448   1173   \n",
       "\n",
       "                        CreatedAt  compound         score  \n",
       "1  Sun Jan 09 14:50:44 +0000 2022    0.0000  0.000000e+00  \n",
       "2  Sun Jan 09 19:23:45 +0000 2022    0.3818  2.079282e+08  "
      ]
     },
     "execution_count": 57,
     "metadata": {},
     "output_type": "execute_result"
    }
   ],
   "source": [
    "scores = []\n",
    "for i, s in tqdm(df_clean.iterrows(), total=df_clean.shape[0]):\n",
    "    scores.append(float(s[\"compound\"]) * (float(s[\"UserFollowerCount\"])+1) * (float(s[\"Likes\"])+1))\n",
    "df_clean[\"score\"] = scores\n",
    "df_clean.head(2)"
   ]
  },
  {
   "cell_type": "code",
   "execution_count": 58,
   "id": "90a56ef4",
   "metadata": {},
   "outputs": [
    {
     "name": "stdout",
     "output_type": "stream",
     "text": [
      "2022-01-09 14-50-44 2022-01-11 02-05-20\n"
     ]
    }
   ],
   "source": [
    "n = 20000  #chunk row size\n",
    "chunks_df = [df_clean[i:i+n] for i in range(0,df_clean.shape[0],n)]\n",
    "\n",
    "sep_char = '~'\n",
    "for chunk_df in chunks_df:\n",
    "    chunk_min = chunk_df['ID'].min()\n",
    "    chunk_max = chunk_df['ID'].max()\n",
    "    date_from = (datetime.strptime(chunk_df.iloc[0]['CreatedAt'], '%a %b %d %X %z %Y')).strftime('%Y-%m-%d %H-%M-%S')\n",
    "    date_to = (datetime.strptime(chunk_df.iloc[-1]['CreatedAt'], '%a %b %d %X %z %Y')).strftime('%Y-%m-%d %H-%M-%S')\n",
    "    print(date_from, date_to)\n",
    "\n",
    "    # Write into csv\n",
    "    chunk_df.to_csv(f\"{path}/{date_from}{sep_char}{date_to}.csv\", header=True, index=False)"
   ]
  },
  {
   "cell_type": "code",
   "execution_count": 59,
   "id": "700e87c7",
   "metadata": {},
   "outputs": [],
   "source": [
    "ENVS = ['CRYPTO', 'LINE_COUNT', 'MOST_RECENT_FILE', 'MOST_RECENT_ID'] # Stored in var.csv\n",
    "\n",
    "def get_var(key, crypto):\n",
    "    df_var = pd.read_csv(\"data/twitter/var.csv\", sep=',',\n",
    "                         dtype={'LINE_COUNT': np.int32})\n",
    "    return df_var[key].loc[df_var['CRYPTO'] == crypto].values[0]\n",
    "\n",
    "def update_var(key, value, crypto):\n",
    "    df_var = pd.read_csv(\"data/twitter/var.csv\", sep=',',\n",
    "                         dtype={'LINE_COUNT': np.int32})\n",
    "    df_var[key].loc[df_var['CRYPTO'] == crypto] = str(value)\n",
    "    df_var.to_csv(\"var.csv\", index=False)\n",
    "    \n",
    "def add_new_crypto(crypto):\n",
    "    df_var = pd.read_csv(\"data/twitter/var.csv\", sep=',',\n",
    "                         dtype={'LINE_COUNT': np.int32})\n",
    "    if df_var[ENVS[0]].loc[df_var['CRYPTO'] == crypto].empty:\n",
    "        new_line = pd.DataFrame([[crypto,-1,\"\",0]], columns=ENVS)\n",
    "        df_var = df_var.append(new_line)\n",
    "        df_var.to_csv(\"data/twitter/var.csv\", index=False)"
   ]
  },
  {
   "cell_type": "code",
   "execution_count": 60,
   "id": "fd657719",
   "metadata": {},
   "outputs": [
    {
     "ename": "IndexError",
     "evalue": "list index out of range",
     "output_type": "error",
     "traceback": [
      "\u001b[0;31m---------------------------------------------------------------------------\u001b[0m",
      "\u001b[0;31mIndexError\u001b[0m                                Traceback (most recent call last)",
      "\u001b[0;32m<ipython-input-60-f94249d0feef>\u001b[0m in \u001b[0;36m<module>\u001b[0;34m\u001b[0m\n\u001b[1;32m      1\u001b[0m \u001b[0mfiles\u001b[0m \u001b[0;34m=\u001b[0m \u001b[0mglob\u001b[0m\u001b[0;34m.\u001b[0m\u001b[0mglob\u001b[0m\u001b[0;34m(\u001b[0m\u001b[0;34mf\"{path}/*~*.csv.csv\"\u001b[0m\u001b[0;34m)\u001b[0m\u001b[0;34m\u001b[0m\u001b[0;34m\u001b[0m\u001b[0m\n\u001b[1;32m      2\u001b[0m \u001b[0mfiles\u001b[0m \u001b[0;34m=\u001b[0m \u001b[0msorted\u001b[0m\u001b[0;34m(\u001b[0m\u001b[0mfiles\u001b[0m\u001b[0;34m)\u001b[0m\u001b[0;34m\u001b[0m\u001b[0;34m\u001b[0m\u001b[0m\n\u001b[0;32m----> 3\u001b[0;31m \u001b[0mlast_file\u001b[0m \u001b[0;34m=\u001b[0m \u001b[0mfiles\u001b[0m\u001b[0;34m[\u001b[0m\u001b[0;34m-\u001b[0m\u001b[0;36m1\u001b[0m\u001b[0;34m]\u001b[0m\u001b[0;34m\u001b[0m\u001b[0;34m\u001b[0m\u001b[0m\n\u001b[0m\u001b[1;32m      4\u001b[0m \u001b[0mprint\u001b[0m\u001b[0;34m(\u001b[0m\u001b[0mlast_file\u001b[0m\u001b[0;34m)\u001b[0m\u001b[0;34m\u001b[0m\u001b[0;34m\u001b[0m\u001b[0m\n\u001b[1;32m      5\u001b[0m \u001b[0mlast_df\u001b[0m \u001b[0;34m=\u001b[0m \u001b[0mpd\u001b[0m\u001b[0;34m.\u001b[0m\u001b[0mread_csv\u001b[0m\u001b[0;34m(\u001b[0m\u001b[0mlast_file\u001b[0m\u001b[0;34m)\u001b[0m\u001b[0;34m\u001b[0m\u001b[0;34m\u001b[0m\u001b[0m\n",
      "\u001b[0;31mIndexError\u001b[0m: list index out of range"
     ]
    }
   ],
   "source": [
    "files = glob.glob(f\"{path}/*~*.csv.csv\")\n",
    "files = sorted(files)\n",
    "last_file = files[-1]\n",
    "print(last_file)\n",
    "last_df = pd.read_csv(last_file)\n",
    "last_elem = last_df.tail(1)\n",
    "print(last_elem['ID'])\n",
    "print(last_df.shape)\n",
    "\n",
    "add_new_crypto(CURRENCY_SYMBOL)\n",
    "update_var(ENVS[1], last_df.shape[0], CURRENCY_SYMBOL)\n",
    "update_var(ENVS[2], last_file, CURRENCY_SYMBOL)\n",
    "update_var(ENVS[3], last_elem, CURRENCY_SYMBOL)"
   ]
  },
  {
   "cell_type": "code",
   "execution_count": null,
   "id": "5ed5cff7",
   "metadata": {},
   "outputs": [],
   "source": [
    "var_df = pd.read_csv('../data/twitter/var.csv')\n",
    "var_df"
   ]
  }
 ],
 "metadata": {
  "kernelspec": {
   "display_name": "Python 3",
   "language": "python",
   "name": "python3"
  },
  "language_info": {
   "codemirror_mode": {
    "name": "ipython",
    "version": 3
   },
   "file_extension": ".py",
   "mimetype": "text/x-python",
   "name": "python",
   "nbconvert_exporter": "python",
   "pygments_lexer": "ipython3",
   "version": "3.7.7"
  }
 },
 "nbformat": 4,
 "nbformat_minor": 5
}

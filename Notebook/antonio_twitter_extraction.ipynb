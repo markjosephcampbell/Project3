{
 "cells": [
  {
   "cell_type": "code",
   "execution_count": 102,
   "id": "057b55fd",
   "metadata": {},
   "outputs": [],
   "source": [
    "from twython import Twython\n",
    "from time import sleep\n",
    "import json\n",
    "import pandas as pd\n",
    "import io\n",
    "from tqdm import tqdm\n",
    "import re # regular expressions\n",
    "from tqdm import tnrange, tqdm_notebook, tqdm"
   ]
  },
  {
   "cell_type": "code",
   "execution_count": 103,
   "id": "bb097d38",
   "metadata": {},
   "outputs": [],
   "source": [
    "currency = \"bitcoin\"\n",
    "symbol = \"BTC\"\n",
    "\n",
    "# Configuration\n",
    "folder = f\"data/crypto/{symbol}\" # Relative path to historical data\n",
    "separating_character = '~' # character seperating dates from and to in filename\n",
    "anvs = ['CRYPTO', 'LINE_COUNT', 'MOST_RECENT_FILE', 'MOST_RECENT_ID'] # Stored in var.csv\n",
    "max_rows = 20000 # Each file storing data has a maximum amount of rows\n",
    "\n",
    "tweets_raw_file = f'../data/twitter/{symbol}/{currency}_tweets_raw.csv'\n",
    "tweets_clean_file = f'../data/twitter/{symbol}/{currency}_tweets_clean.csv'\n",
    "query = f'#{currency} OR #{symbol}' ####TODO PUT BACK  OR {CURRENCY} OR ${CURRENCY} OR ${CURRENCY_SYMBOL}"
   ]
  },
  {
   "cell_type": "code",
   "execution_count": 104,
   "id": "83efb2eb",
   "metadata": {},
   "outputs": [
    {
     "data": {
      "text/plain": [
       "{'/search/tweets': {'limit': 450, 'remaining': 85, 'reset': 1641867005}}"
      ]
     },
     "execution_count": 104,
     "metadata": {},
     "output_type": "execute_result"
    }
   ],
   "source": [
    "app_key = '2IGXQ4kdoysrGMeaUZkSvGCvM'\n",
    "app_secret = 'ZS6drXCpvUlQJhdQ7g3XbgCaOLI5IdPeA6fKwtEGkTIrx5YHaR'\n",
    "\n",
    "OAUTH_TOKEN=auth['oauth_token']\n",
    "OAUTH_TOKEN_SECRET=auth['oauth_token_secret']\n",
    "\n",
    "twitter = Twython(app_key, app_secret, oauth_version=2)\n",
    "ACCESS_TOKEN = twitter.obtain_access_token()\n",
    "twitter = Twython(app_key, access_token=ACCESS_TOKEN)\n",
    "twitter.get_application_rate_limit_status()['resources']['search']"
   ]
  },
  {
   "cell_type": "code",
   "execution_count": 105,
   "id": "75238373",
   "metadata": {},
   "outputs": [
    {
     "name": "stdout",
     "output_type": "stream",
     "text": [
      "range(0, 1)\n",
      "1\n",
      "Retrieved 93, waiting for 15 minutes until next queries\n"
     ]
    },
    {
     "ename": "KeyboardInterrupt",
     "evalue": "",
     "output_type": "error",
     "traceback": [
      "\u001b[0;31m---------------------------------------------------------------------------\u001b[0m",
      "\u001b[0;31mKeyboardInterrupt\u001b[0m                         Traceback (most recent call last)",
      "\u001b[0;32m<ipython-input-105-abaa9bb37fca>\u001b[0m in \u001b[0;36m<module>\u001b[0;34m\u001b[0m\n\u001b[1;32m     30\u001b[0m         \u001b[0mdata\u001b[0m\u001b[0;34m[\u001b[0m\u001b[0;34m\"statuses\"\u001b[0m\u001b[0;34m]\u001b[0m \u001b[0;34m=\u001b[0m \u001b[0;34m[\u001b[0m\u001b[0;34m]\u001b[0m\u001b[0;34m\u001b[0m\u001b[0;34m\u001b[0m\u001b[0m\n\u001b[1;32m     31\u001b[0m \u001b[0;34m\u001b[0m\u001b[0m\n\u001b[0;32m---> 32\u001b[0;31m         \u001b[0msleep\u001b[0m\u001b[0;34m(\u001b[0m\u001b[0;36m910\u001b[0m\u001b[0;34m)\u001b[0m\u001b[0;34m\u001b[0m\u001b[0;34m\u001b[0m\u001b[0m\n\u001b[0m",
      "\u001b[0;31mKeyboardInterrupt\u001b[0m: "
     ]
    }
   ],
   "source": [
    "queries_number = 1\n",
    "data = {\"statuses\": []}\n",
    "next_id = \"1\"\n",
    "print(range(queries_number))\n",
    "print(queries_number)\n",
    "with open(tweets_raw_file,\"a+\", encoding='utf-8') as f:\n",
    "    if not next_id:\n",
    "        f.write(\"ID,Text,UserName,UserFollowerCount,RetweetCount,Likes,CreatedAt\\n\")\n",
    "    while(True):\n",
    "        twitter = Twython(app_key, access_token=ACCESS_TOKEN)\n",
    "        last_size = 0\n",
    "        for i in range(queries_number):\n",
    "            if not next_id:\n",
    "                data = twitter.search(q=query, lang='en', result_type='recent', count=\"100\") # Use since_id for tweets after id\n",
    "            else:\n",
    "                data[\"statuses\"].extend(twitter.search(q=query, lang='en', result_type='mixed', count=\"100\", max_id=next_id)[\"statuses\"])\n",
    "            if len(data[\"statuses\"]) > 1:\n",
    "                next_id = data[\"statuses\"][len(data[\"statuses\"]) - 1]['id']\n",
    "            if last_size + 1 == len(data[\"statuses\"]):\n",
    "                break\n",
    "            else:\n",
    "                last_size = len(data[\"statuses\"])\n",
    "\n",
    "        print('Retrieved {0}, waiting for 15 minutes until next queries'.format(len(data[\"statuses\"])))\n",
    "        d = pd.DataFrame([[s[\"id\"], s[\"text\"].replace('\\n','').replace('\\r',''), s[\"user\"][\"name\"], s[\"user\"][\"followers_count\"], s[\"retweet_count\"], s[\"favorite_count\"], s[\"created_at\"]] for s in data[\"statuses\"]], columns=('ID', 'Text', 'UserName', \"UserFollowerCount\", 'RetweetCount', 'Likes', \"CreatedAt\"))\n",
    "        d.to_csv(f, mode='a', encoding='utf-8',index=False,header=False)\n",
    "        if last_size + 1 < len(data[\"statuses\"]):\n",
    "            print('No more new tweets, stopping...')\n",
    "            break\n",
    "        data[\"statuses\"] = []\n",
    "        \n",
    "        sleep(910)"
   ]
  },
  {
   "cell_type": "code",
   "execution_count": 106,
   "id": "24c20c33",
   "metadata": {},
   "outputs": [
    {
     "name": "stderr",
     "output_type": "stream",
     "text": [
      "100%|██████████| 93/93 [00:00<00:00, 2885.95it/s]\n"
     ]
    }
   ],
   "source": [
    "d = pd.read_csv(tweets_raw_file)\n",
    "for i,s in enumerate(tqdm(d['Text'])):\n",
    "    text = d.loc[i, 'Text']\n",
    "    text = text.replace(\"#\", \"\")\n",
    "    text = re.sub('https?://(?:[-\\w.]|(?:%[\\da-fA-F]{2}))+', '', text, flags=re.MULTILINE)\n",
    "    text = re.sub('@\\\\w+ *', '', text, flags=re.MULTILINE)\n",
    "    d.loc[i, 'Text'] = text\n",
    "f = open(tweets_clean_file, 'a+', encoding='utf-8')\n",
    "d.to_csv(f, header=True, encoding='utf-8',index=False)"
   ]
  },
  {
   "cell_type": "code",
   "execution_count": 107,
   "id": "9aee72af",
   "metadata": {},
   "outputs": [
    {
     "data": {
      "text/html": [
       "<div>\n",
       "<style scoped>\n",
       "    .dataframe tbody tr th:only-of-type {\n",
       "        vertical-align: middle;\n",
       "    }\n",
       "\n",
       "    .dataframe tbody tr th {\n",
       "        vertical-align: top;\n",
       "    }\n",
       "\n",
       "    .dataframe thead th {\n",
       "        text-align: right;\n",
       "    }\n",
       "</style>\n",
       "<table border=\"1\" class=\"dataframe\">\n",
       "  <thead>\n",
       "    <tr style=\"text-align: right;\">\n",
       "      <th></th>\n",
       "      <th>ID</th>\n",
       "      <th>Text</th>\n",
       "      <th>UserName</th>\n",
       "      <th>UserFollowerCount</th>\n",
       "      <th>RetweetCount</th>\n",
       "      <th>Likes</th>\n",
       "      <th>CreatedAt</th>\n",
       "    </tr>\n",
       "  </thead>\n",
       "  <tbody>\n",
       "    <tr>\n",
       "      <th>0</th>\n",
       "      <td>ID</td>\n",
       "      <td>Text</td>\n",
       "      <td>UserName</td>\n",
       "      <td>UserFollowerCount</td>\n",
       "      <td>RetweetCount</td>\n",
       "      <td>Likes</td>\n",
       "      <td>CreatedAt</td>\n",
       "    </tr>\n",
       "    <tr>\n",
       "      <th>1</th>\n",
       "      <td>1480507769610510343</td>\n",
       "      <td>Legendary investor Bill Miller is still buying...</td>\n",
       "      <td>Bitcoin Magazine</td>\n",
       "      <td>1921879</td>\n",
       "      <td>648</td>\n",
       "      <td>3898</td>\n",
       "      <td>Mon Jan 10 11:52:13 +0000 2022</td>\n",
       "    </tr>\n",
       "    <tr>\n",
       "      <th>2</th>\n",
       "      <td>1480190307224465408</td>\n",
       "      <td>Stay hungry. Bitcoin</td>\n",
       "      <td>Michael Saylor⚡️</td>\n",
       "      <td>2084920</td>\n",
       "      <td>2017</td>\n",
       "      <td>21352</td>\n",
       "      <td>Sun Jan 09 14:50:44 +0000 2022</td>\n",
       "    </tr>\n",
       "    <tr>\n",
       "      <th>3</th>\n",
       "      <td>1480259013455400961</td>\n",
       "      <td>1/ BTC 🤝 ICP direct integration (🚫🌉)cryptograp...</td>\n",
       "      <td>DFINITY Foundation</td>\n",
       "      <td>463883</td>\n",
       "      <td>448</td>\n",
       "      <td>1173</td>\n",
       "      <td>Sun Jan 09 19:23:45 +0000 2022</td>\n",
       "    </tr>\n",
       "    <tr>\n",
       "      <th>4</th>\n",
       "      <td>1480722463679860736</td>\n",
       "      <td>RT : Gold has gone from 0 to $1850 in 5000 yea...</td>\n",
       "      <td>Mr.BUIDL🦇🔊</td>\n",
       "      <td>503</td>\n",
       "      <td>607</td>\n",
       "      <td>0</td>\n",
       "      <td>Tue Jan 11 02:05:20 +0000 2022</td>\n",
       "    </tr>\n",
       "  </tbody>\n",
       "</table>\n",
       "</div>"
      ],
      "text/plain": [
       "                    ID                                               Text  \\\n",
       "0                   ID                                               Text   \n",
       "1  1480507769610510343  Legendary investor Bill Miller is still buying...   \n",
       "2  1480190307224465408                               Stay hungry. Bitcoin   \n",
       "3  1480259013455400961  1/ BTC 🤝 ICP direct integration (🚫🌉)cryptograp...   \n",
       "4  1480722463679860736  RT : Gold has gone from 0 to $1850 in 5000 yea...   \n",
       "\n",
       "             UserName  UserFollowerCount  RetweetCount  Likes  \\\n",
       "0            UserName  UserFollowerCount  RetweetCount  Likes   \n",
       "1    Bitcoin Magazine            1921879           648   3898   \n",
       "2    Michael Saylor⚡️            2084920          2017  21352   \n",
       "3  DFINITY Foundation             463883           448   1173   \n",
       "4          Mr.BUIDL🦇🔊                503           607      0   \n",
       "\n",
       "                        CreatedAt  \n",
       "0                       CreatedAt  \n",
       "1  Mon Jan 10 11:52:13 +0000 2022  \n",
       "2  Sun Jan 09 14:50:44 +0000 2022  \n",
       "3  Sun Jan 09 19:23:45 +0000 2022  \n",
       "4  Tue Jan 11 02:05:20 +0000 2022  "
      ]
     },
     "execution_count": 107,
     "metadata": {},
     "output_type": "execute_result"
    }
   ],
   "source": [
    "df_clean = pd.read_csv(tweets_clean_file)\n",
    "df_clean.head(5)"
   ]
  },
  {
   "cell_type": "code",
   "execution_count": 108,
   "id": "26faaaf7",
   "metadata": {},
   "outputs": [
    {
     "data": {
      "text/plain": [
       "ID                                                 1480190307224465408\n",
       "Text                 \"Give me your tired, your poor,Your huddled ma...\n",
       "UserName                                                    @Yogasedaw\n",
       "UserFollowerCount                                                    0\n",
       "RetweetCount                                                         0\n",
       "Likes                                                                0\n",
       "CreatedAt                                                    CreatedAt\n",
       "dtype: object"
      ]
     },
     "execution_count": 108,
     "metadata": {},
     "output_type": "execute_result"
    }
   ],
   "source": [
    "df_clean.min(axis=0)"
   ]
  },
  {
   "cell_type": "code",
   "execution_count": 109,
   "id": "fedc07e6",
   "metadata": {},
   "outputs": [],
   "source": [
    "f.close()"
   ]
  },
  {
   "cell_type": "code",
   "execution_count": null,
   "id": "8ae027be",
   "metadata": {},
   "outputs": [],
   "source": []
  }
 ],
 "metadata": {
  "kernelspec": {
   "display_name": "Python [conda env:pyvizenv2] *",
   "language": "python",
   "name": "conda-env-pyvizenv2-py"
  },
  "language_info": {
   "codemirror_mode": {
    "name": "ipython",
    "version": 3
   },
   "file_extension": ".py",
   "mimetype": "text/x-python",
   "name": "python",
   "nbconvert_exporter": "python",
   "pygments_lexer": "ipython3",
   "version": "3.7.7"
  }
 },
 "nbformat": 4,
 "nbformat_minor": 5
}

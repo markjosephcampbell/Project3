{
 "cells": [
  {
   "cell_type": "code",
   "execution_count": 1,
   "metadata": {},
   "outputs": [
    {
     "ename": "ModuleNotFoundError",
     "evalue": "No module named 'OpenBlender'",
     "output_type": "error",
     "traceback": [
      "\u001b[0;31m---------------------------------------------------------------------------\u001b[0m",
      "\u001b[0;31mModuleNotFoundError\u001b[0m                       Traceback (most recent call last)",
      "\u001b[0;32m<ipython-input-1-89c86d30c9eb>\u001b[0m in \u001b[0;36m<module>\u001b[0;34m\u001b[0m\n\u001b[1;32m      1\u001b[0m \u001b[0;32mimport\u001b[0m \u001b[0mpandas\u001b[0m \u001b[0;32mas\u001b[0m \u001b[0mpd\u001b[0m\u001b[0;34m\u001b[0m\u001b[0;34m\u001b[0m\u001b[0m\n\u001b[1;32m      2\u001b[0m \u001b[0;32mimport\u001b[0m \u001b[0mnumpy\u001b[0m \u001b[0;32mas\u001b[0m \u001b[0mnp\u001b[0m\u001b[0;34m\u001b[0m\u001b[0;34m\u001b[0m\u001b[0m\n\u001b[0;32m----> 3\u001b[0;31m \u001b[0;32mimport\u001b[0m \u001b[0mOpenBlender\u001b[0m\u001b[0;34m\u001b[0m\u001b[0;34m\u001b[0m\u001b[0m\n\u001b[0m\u001b[1;32m      4\u001b[0m \u001b[0;32mimport\u001b[0m \u001b[0mjson\u001b[0m\u001b[0;34m\u001b[0m\u001b[0;34m\u001b[0m\u001b[0m\n\u001b[1;32m      5\u001b[0m \u001b[0;32mimport\u001b[0m \u001b[0mmatplotlib\u001b[0m\u001b[0;34m.\u001b[0m\u001b[0mpyplot\u001b[0m \u001b[0;32mas\u001b[0m \u001b[0mplt\u001b[0m\u001b[0;34m\u001b[0m\u001b[0;34m\u001b[0m\u001b[0m\n",
      "\u001b[0;31mModuleNotFoundError\u001b[0m: No module named 'OpenBlender'"
     ]
    }
   ],
   "source": [
    "import pandas as pd\n",
    "import numpy as np\n",
    "import OpenBlender\n",
    "import json\n",
    "import matplotlib.pyplot as plt\n",
    "import seaborn as sns"
   ]
  },
  {
   "cell_type": "code",
   "execution_count": 87,
   "metadata": {},
   "outputs": [],
   "source": [
    "#pip install OpenBlender"
   ]
  },
  {
   "cell_type": "markdown",
   "metadata": {},
   "source": [
    "Our aim is to use news data to predict the change in the crypto market, i.e whether the crypto price would rise or whether it would fall"
   ]
  },
  {
   "cell_type": "code",
   "execution_count": 68,
   "metadata": {},
   "outputs": [
    {
     "name": "stdout",
     "output_type": "stream",
     "text": [
      "Task ID: '61cf47e40895fafb4a9d8d4b'.\n",
      "Total estimated consumption: 500.02 processing units.\n",
      "100.0 % completed.\n"
     ]
    }
   ],
   "source": [
    "# token is the api_token from the OpenBlender website\n",
    "token = '61cf23fa9516295c1690ae53HOiaApzCzA9syNcYynvPluwq1qf4Uc'\n",
    "action = 'API_getObservationsFromDataset'\n",
    "\n",
    "# using Bitcoin vs USD, which is Daily exchange rate of US dollar vs Bitcoin\n",
    "parameters = { \n",
    "    'token' : token,\n",
    "    'id_dataset' : '5d4c3af79516290b01c83f51',\n",
    "    'date_filter':{\"start_date\" : \"2020-05-01\",\n",
    "                   \"end_date\" : \"2021-01-30\"} \n",
    "}\n",
    "# reading the json response of the API into pandas dataframe\n",
    "data = pd.read_json(json.dumps(OpenBlender.call(action, parameters)['sample']), convert_dates=False, convert_axes=False).sort_values('timestamp', ascending=False)\n",
    "data.reset_index(drop=True, inplace=True)\n",
    "# converting timestamp to date \n",
    "data['date'] = [OpenBlender.unixToDate(ts, timezone = 'GMT') for ts in data.timestamp]\n",
    "data = data.drop('timestamp', axis = 1)"
   ]
  },
  {
   "cell_type": "code",
   "execution_count": 69,
   "metadata": {},
   "outputs": [],
   "source": [
    "# generate the target variable which is whether the crypto price increased or declined\n",
    "# subtracting the closing price and opening price\n",
    "data['log_diff'] = np.log(data['price']) - np.log(data['open'])"
   ]
  },
  {
   "cell_type": "code",
   "execution_count": 70,
   "metadata": {},
   "outputs": [],
   "source": [
    "# generate the target variable based on log_diff, if greater than 0, it means rise, if less than 0 it means decline\n",
    "data['target'] = [1 if log_diff > 0 else 0 for log_diff in data['log_diff']]"
   ]
  },
  {
   "cell_type": "code",
   "execution_count": 71,
   "metadata": {},
   "outputs": [
    {
     "data": {
      "image/png": "[encoded data removed]",
      "text/plain": [
       "<Figure size 720x432 with 1 Axes>"
      ]
     },
     "metadata": {
      "needs_background": "light"
     },
     "output_type": "display_data"
    }
   ],
   "source": [
    "# count of the target variables\n",
    "plt.subplots(figsize=(10,6))\n",
    "target_data = data.copy()\n",
    "target_data[\"target\"]=target_data[\"target\"].astype(str)\n",
    "plot=sns.histplot(data=target_data,x=\"target\",hue=\"target\",palette=[\"#d1120f\",\"#006400\"],legend=\"target\")\n",
    "plt.title(\"Count of Target Labels\")\n",
    "plt.legend(title='Label', loc='upper right', labels=['Rise', 'Fall'])\n",
    "plt.show(plot)\n"
   ]
  },
  {
   "cell_type": "code",
   "execution_count": 72,
   "metadata": {},
   "outputs": [
    {
     "data": {
      "text/html": [
       "<div>\n",
       "<style scoped>\n",
       "    .dataframe tbody tr th:only-of-type {\n",
       "        vertical-align: middle;\n",
       "    }\n",
       "\n",
       "    .dataframe tbody tr th {\n",
       "        vertical-align: top;\n",
       "    }\n",
       "\n",
       "    .dataframe thead th {\n",
       "        text-align: right;\n",
       "    }\n",
       "</style>\n",
       "<table border=\"1\" class=\"dataframe\">\n",
       "  <thead>\n",
       "    <tr style=\"text-align: right;\">\n",
       "      <th></th>\n",
       "      <th>change</th>\n",
       "      <th>high</th>\n",
       "      <th>low</th>\n",
       "      <th>open</th>\n",
       "      <th>price</th>\n",
       "      <th>volume</th>\n",
       "      <th>date</th>\n",
       "      <th>log_diff</th>\n",
       "      <th>target</th>\n",
       "    </tr>\n",
       "  </thead>\n",
       "  <tbody>\n",
       "    <tr>\n",
       "      <th>0</th>\n",
       "      <td>-6.35%</td>\n",
       "      <td>32519.0</td>\n",
       "      <td>29815.0</td>\n",
       "      <td>32519.0</td>\n",
       "      <td>30454.0</td>\n",
       "      <td>14.77K</td>\n",
       "      <td>27-01-2021 17:00:00</td>\n",
       "      <td>-0.065607</td>\n",
       "      <td>0</td>\n",
       "    </tr>\n",
       "    <tr>\n",
       "      <th>1</th>\n",
       "      <td>0.78%</td>\n",
       "      <td>32735.1</td>\n",
       "      <td>31434.0</td>\n",
       "      <td>32268.1</td>\n",
       "      <td>32519.0</td>\n",
       "      <td>8.54K</td>\n",
       "      <td>26-01-2021 17:00:00</td>\n",
       "      <td>0.007745</td>\n",
       "      <td>1</td>\n",
       "    </tr>\n",
       "    <tr>\n",
       "      <th>2</th>\n",
       "      <td>-0.09%</td>\n",
       "      <td>34693.0</td>\n",
       "      <td>32268.1</td>\n",
       "      <td>32298.0</td>\n",
       "      <td>32268.1</td>\n",
       "      <td>9.23K</td>\n",
       "      <td>25-01-2021 17:00:00</td>\n",
       "      <td>-0.000926</td>\n",
       "      <td>0</td>\n",
       "    </tr>\n",
       "    <tr>\n",
       "      <th>3</th>\n",
       "      <td>0.62%</td>\n",
       "      <td>32830.0</td>\n",
       "      <td>31481.0</td>\n",
       "      <td>32099.0</td>\n",
       "      <td>32298.0</td>\n",
       "      <td>5.89K</td>\n",
       "      <td>24-01-2021 17:00:00</td>\n",
       "      <td>0.006180</td>\n",
       "      <td>1</td>\n",
       "    </tr>\n",
       "    <tr>\n",
       "      <th>4</th>\n",
       "      <td>-2.91%</td>\n",
       "      <td>33062.0</td>\n",
       "      <td>31773.0</td>\n",
       "      <td>33062.0</td>\n",
       "      <td>32099.0</td>\n",
       "      <td>7.07K</td>\n",
       "      <td>23-01-2021 17:00:00</td>\n",
       "      <td>-0.029560</td>\n",
       "      <td>0</td>\n",
       "    </tr>\n",
       "  </tbody>\n",
       "</table>\n",
       "</div>"
      ],
      "text/plain": [
       "   change     high      low     open    price  volume                 date  \\\n",
       "0  -6.35%  32519.0  29815.0  32519.0  30454.0  14.77K  27-01-2021 17:00:00   \n",
       "1   0.78%  32735.1  31434.0  32268.1  32519.0   8.54K  26-01-2021 17:00:00   \n",
       "2  -0.09%  34693.0  32268.1  32298.0  32268.1   9.23K  25-01-2021 17:00:00   \n",
       "3   0.62%  32830.0  31481.0  32099.0  32298.0   5.89K  24-01-2021 17:00:00   \n",
       "4  -2.91%  33062.0  31773.0  33062.0  32099.0   7.07K  23-01-2021 17:00:00   \n",
       "\n",
       "   log_diff  target  \n",
       "0 -0.065607       0  \n",
       "1  0.007745       1  \n",
       "2 -0.000926       0  \n",
       "3  0.006180       1  \n",
       "4 -0.029560       0  "
      ]
     },
     "execution_count": 72,
     "metadata": {},
     "output_type": "execute_result"
    }
   ],
   "source": [
    "data.head()"
   ]
  },
  {
   "cell_type": "code",
   "execution_count": 73,
   "metadata": {},
   "outputs": [
    {
     "data": {
      "text/html": [
       "<div>\n",
       "<style scoped>\n",
       "    .dataframe tbody tr th:only-of-type {\n",
       "        vertical-align: middle;\n",
       "    }\n",
       "\n",
       "    .dataframe tbody tr th {\n",
       "        vertical-align: top;\n",
       "    }\n",
       "\n",
       "    .dataframe thead th {\n",
       "        text-align: right;\n",
       "    }\n",
       "</style>\n",
       "<table border=\"1\" class=\"dataframe\">\n",
       "  <thead>\n",
       "    <tr style=\"text-align: right;\">\n",
       "      <th></th>\n",
       "      <th>date</th>\n",
       "      <th>timestamp</th>\n",
       "      <th>price</th>\n",
       "      <th>target</th>\n",
       "    </tr>\n",
       "  </thead>\n",
       "  <tbody>\n",
       "    <tr>\n",
       "      <th>0</th>\n",
       "      <td>27-01-2021 17:00:00</td>\n",
       "      <td>1.611767e+09</td>\n",
       "      <td>30454.0</td>\n",
       "      <td>0</td>\n",
       "    </tr>\n",
       "    <tr>\n",
       "      <th>1</th>\n",
       "      <td>26-01-2021 17:00:00</td>\n",
       "      <td>1.611680e+09</td>\n",
       "      <td>32519.0</td>\n",
       "      <td>1</td>\n",
       "    </tr>\n",
       "    <tr>\n",
       "      <th>2</th>\n",
       "      <td>25-01-2021 17:00:00</td>\n",
       "      <td>1.611594e+09</td>\n",
       "      <td>32268.1</td>\n",
       "      <td>0</td>\n",
       "    </tr>\n",
       "    <tr>\n",
       "      <th>3</th>\n",
       "      <td>24-01-2021 17:00:00</td>\n",
       "      <td>1.611508e+09</td>\n",
       "      <td>32298.0</td>\n",
       "      <td>1</td>\n",
       "    </tr>\n",
       "    <tr>\n",
       "      <th>4</th>\n",
       "      <td>23-01-2021 17:00:00</td>\n",
       "      <td>1.611421e+09</td>\n",
       "      <td>32099.0</td>\n",
       "      <td>0</td>\n",
       "    </tr>\n",
       "  </tbody>\n",
       "</table>\n",
       "</div>"
      ],
      "text/plain": [
       "                  date     timestamp    price  target\n",
       "0  27-01-2021 17:00:00  1.611767e+09  30454.0       0\n",
       "1  26-01-2021 17:00:00  1.611680e+09  32519.0       1\n",
       "2  25-01-2021 17:00:00  1.611594e+09  32268.1       0\n",
       "3  24-01-2021 17:00:00  1.611508e+09  32298.0       1\n",
       "4  23-01-2021 17:00:00  1.611421e+09  32099.0       0"
      ]
     },
     "execution_count": 73,
     "metadata": {},
     "output_type": "execute_result"
    }
   ],
   "source": [
    "# mix external news data with our bitcoin data, to do so we will time-blend. \n",
    "# In other words, it means to outer join the news dataset using the timestamp as key.\n",
    "format = '%d-%m-%Y %H:%M:%S'\n",
    "timezone = 'GMT'\n",
    "\n",
    "# The Unix Timestamp is the number of seconds since 1970 on UTC \n",
    "# it is the preferred format because it is the same in every time zone in the world\n",
    "\n",
    "data['timestamp'] = OpenBlender.dateToUnix(data['date'], \n",
    "                                           date_format = format, \n",
    "                                           timezone = timezone)\n",
    "data = data[['date', 'timestamp', 'price', 'target']]\n",
    "data.head()"
   ]
  },
  {
   "cell_type": "code",
   "execution_count": 74,
   "metadata": {},
   "outputs": [
    {
     "name": "stdout",
     "output_type": "stream",
     "text": [
      "Task ID: '61cf47e80895fafb4a9d8d4c'.\n",
      "Total estimated consumption: 1564.8 processing units.\n",
      "Task confirmed. Starting download..\n",
      "100%\n"
     ]
    },
    {
     "data": {
      "text/html": [
       "<div>\n",
       "<style scoped>\n",
       "    .dataframe tbody tr th:only-of-type {\n",
       "        vertical-align: middle;\n",
       "    }\n",
       "\n",
       "    .dataframe tbody tr th {\n",
       "        vertical-align: top;\n",
       "    }\n",
       "\n",
       "    .dataframe thead th {\n",
       "        text-align: right;\n",
       "    }\n",
       "</style>\n",
       "<table border=\"1\" class=\"dataframe\">\n",
       "  <thead>\n",
       "    <tr style=\"text-align: right;\">\n",
       "      <th></th>\n",
       "      <th>date</th>\n",
       "      <th>timestamp</th>\n",
       "      <th>price</th>\n",
       "      <th>target</th>\n",
       "      <th>BITCOIN_NE.text_COUNT_last1days</th>\n",
       "      <th>BITCOIN_NE.text_last1days</th>\n",
       "    </tr>\n",
       "  </thead>\n",
       "  <tbody>\n",
       "    <tr>\n",
       "      <th>0</th>\n",
       "      <td>27-01-2021 17:00:00</td>\n",
       "      <td>1.611767e+09</td>\n",
       "      <td>30454.0</td>\n",
       "      <td>0</td>\n",
       "      <td>24</td>\n",
       "      <td>[, cryptocurrencies have gained popularity in ...</td>\n",
       "    </tr>\n",
       "    <tr>\n",
       "      <th>1</th>\n",
       "      <td>26-01-2021 17:00:00</td>\n",
       "      <td>1.611680e+09</td>\n",
       "      <td>32519.0</td>\n",
       "      <td>1</td>\n",
       "      <td>20</td>\n",
       "      <td>[zelaapayae uae will now have a crypto debit c...</td>\n",
       "    </tr>\n",
       "    <tr>\n",
       "      <th>2</th>\n",
       "      <td>25-01-2021 17:00:00</td>\n",
       "      <td>1.611594e+09</td>\n",
       "      <td>32268.1</td>\n",
       "      <td>0</td>\n",
       "      <td>15</td>\n",
       "      <td>[cashpay  ecommerce marketplace powered by cry...</td>\n",
       "    </tr>\n",
       "    <tr>\n",
       "      <th>3</th>\n",
       "      <td>24-01-2021 17:00:00</td>\n",
       "      <td>1.611508e+09</td>\n",
       "      <td>32298.0</td>\n",
       "      <td>1</td>\n",
       "      <td>15</td>\n",
       "      <td>[oh look the researcher willy woo said suddenl...</td>\n",
       "    </tr>\n",
       "    <tr>\n",
       "      <th>4</th>\n",
       "      <td>23-01-2021 17:00:00</td>\n",
       "      <td>1.611421e+09</td>\n",
       "      <td>32099.0</td>\n",
       "      <td>0</td>\n",
       "      <td>18</td>\n",
       "      <td>[according to wu, the chinese crypto community...</td>\n",
       "    </tr>\n",
       "  </tbody>\n",
       "</table>\n",
       "</div>"
      ],
      "text/plain": [
       "                  date     timestamp    price  target  \\\n",
       "0  27-01-2021 17:00:00  1.611767e+09  30454.0       0   \n",
       "1  26-01-2021 17:00:00  1.611680e+09  32519.0       1   \n",
       "2  25-01-2021 17:00:00  1.611594e+09  32268.1       0   \n",
       "3  24-01-2021 17:00:00  1.611508e+09  32298.0       1   \n",
       "4  23-01-2021 17:00:00  1.611421e+09  32099.0       0   \n",
       "\n",
       "   BITCOIN_NE.text_COUNT_last1days  \\\n",
       "0                               24   \n",
       "1                               20   \n",
       "2                               15   \n",
       "3                               15   \n",
       "4                               18   \n",
       "\n",
       "                           BITCOIN_NE.text_last1days  \n",
       "0  [, cryptocurrencies have gained popularity in ...  \n",
       "1  [zelaapayae uae will now have a crypto debit c...  \n",
       "2  [cashpay  ecommerce marketplace powered by cry...  \n",
       "3  [oh look the researcher willy woo said suddenl...  \n",
       "4  [according to wu, the chinese crypto community...  "
      ]
     },
     "execution_count": 74,
     "metadata": {},
     "output_type": "execute_result"
    }
   ],
   "source": [
    "# concat the news dataset with our bitcoin price dataset\n",
    "# We need to add the id of the dataset and the feature we want from the dataset.\n",
    "# as the crypto market data is daily based we would aggregrate the news on daily basis \n",
    "blend_source = {\n",
    "                'id_dataset':'5ea2039095162936337156c9',\n",
    "                'feature' : 'text'\n",
    "            }\n",
    "\n",
    "# Now, let's 'timeBlend' it to our dataset\n",
    "data_with_news = OpenBlender.timeBlend( token = token, # API token\n",
    "                                  anchor_ts = data.timestamp, # our timestamp column,\n",
    "                                  blend_source = blend_source,\n",
    "                                  blend_type = 'agg_in_intervals', # 'agg_in_intervals' because we want 24 hour interval aggregation\n",
    "                                  interval_size = 60 * 60 * 24,\n",
    "                                  direction = 'time_prior',\n",
    "                                  interval_output = 'list',\n",
    "                                  missing_values = 'raw')\n",
    "data = pd.concat([data, data_with_news.loc[:, data_with_news.columns != 'timestamp']], axis = 1)\n",
    "data.head()"
   ]
  },
  {
   "cell_type": "markdown",
   "metadata": {},
   "source": [
    "BITCOIN_NE.text_COUNT_last1days shows the number of news on that day"
   ]
  },
  {
   "cell_type": "code",
   "execution_count": 75,
   "metadata": {},
   "outputs": [],
   "source": [
    "# save our data for the future use\n",
    "data.to_csv(\"Input_data.csv\", index = False)"
   ]
  },
  {
   "cell_type": "code",
   "execution_count": 76,
   "metadata": {},
   "outputs": [],
   "source": [
    "# merge our list of news on each day, to one string so that we can tokenize\n",
    "data[\"news\"] = data[\"BITCOIN_NE.text_last1days\"].apply(lambda x: \" \".join(x))"
   ]
  },
  {
   "cell_type": "code",
   "execution_count": 77,
   "metadata": {},
   "outputs": [],
   "source": [
    "#pip install gensim"
   ]
  },
  {
   "cell_type": "code",
   "execution_count": 90,
   "metadata": {},
   "outputs": [
    {
     "data": {
      "text/plain": [
       "(564776, 830070)"
      ]
     },
     "execution_count": 90,
     "metadata": {},
     "output_type": "execute_result"
    }
   ],
   "source": [
    "# convert our text into vectors using word2vec method, a feature extraction approach\n",
    "import gensim\n",
    "\n",
    "\n",
    "tokenized_news = data[\"news\"].apply(lambda x: x.split()) # tokenizing\n",
    "\n",
    "modelW2v = gensim.models.word2vec.Word2Vec(\n",
    "            tokenized_news,\n",
    "            vector_size=200,\n",
    "            window=5, # context window size\n",
    "            min_count=2,\n",
    "            sg = 1, # 1 for skip-gram model\n",
    "            hs = 0,\n",
    "            negative = 10, # for negative sampling\n",
    "            workers= 8, # no.of cores\n",
    "            seed = 34)\n",
    "\n",
    "modelW2v.train(tokenized_news, total_examples= len(data[\"news\"]), epochs=30)"
   ]
  },
  {
   "cell_type": "code",
   "execution_count": 91,
   "metadata": {},
   "outputs": [],
   "source": [
    "def word_vector(tokens, size):\n",
    "    vec = np.zeros(size).reshape((1, size))\n",
    "    count = 0.\n",
    "    for word in tokens:\n",
    "        try:\n",
    "            vec += modelW2v.wv.get_vector(word).reshape((1, size))\n",
    "            count += 1.\n",
    "        except KeyError: # handling the case where the token is not in vocabulary\n",
    "                         \n",
    "            continue\n",
    "    if count != 0:\n",
    "        vec /= count\n",
    "    return vec"
   ]
  },
  {
   "cell_type": "code",
   "execution_count": 92,
   "metadata": {},
   "outputs": [
    {
     "data": {
      "text/plain": [
       "(239, 200)"
      ]
     },
     "execution_count": 92,
     "metadata": {},
     "output_type": "execute_result"
    }
   ],
   "source": [
    "wordvec_arrays = np.zeros((len(tokenized_news), 200))\n",
    "\n",
    "for i in range(len(tokenized_news)):\n",
    "    wordvec_arrays[i,:] = word_vector(tokenized_news[i], 200)\n",
    "    \n",
    "wordvecDf = pd.DataFrame(wordvec_arrays)\n",
    "wordvecDf.shape "
   ]
  },
  {
   "cell_type": "code",
   "execution_count": 93,
   "metadata": {},
   "outputs": [],
   "source": [
    "columns_list = [\"A\"+str(i)for i in range(1,201)]\n",
    "wordvecDf.columns = columns_list"
   ]
  },
  {
   "cell_type": "code",
   "execution_count": 94,
   "metadata": {},
   "outputs": [],
   "source": [
    "wordvecDf[\"target\"] = data[\"target\"]"
   ]
  },
  {
   "cell_type": "code",
   "execution_count": 95,
   "metadata": {},
   "outputs": [],
   "source": [
    "from sklearn.ensemble import RandomForestClassifier\n",
    "from sklearn.model_selection import train_test_split\n",
    "from sklearn.metrics import f1_score,accuracy_score"
   ]
  },
  {
   "cell_type": "code",
   "execution_count": 96,
   "metadata": {},
   "outputs": [],
   "source": [
    "# splitting data into training and validation set\n",
    "xtrain, xvalid, ytrain, yvalid = train_test_split(wordvecDf,wordvecDf['target'],  \n",
    "                                                          random_state=42, \n",
    "                                                          test_size=0.3)"
   ]
  },
  {
   "cell_type": "code",
   "execution_count": 97,
   "metadata": {},
   "outputs": [
    {
     "name": "stdout",
     "output_type": "stream",
     "text": [
      "Accuracy score 0.9861111111111112\n"
     ]
    }
   ],
   "source": [
    "# build a random forest model\n",
    "random_forest_model = RandomForestClassifier().fit(xtrain, ytrain)\n",
    "prediction = random_forest_model.predict(xvalid)\n",
    "print(\"Accuracy score\",accuracy_score(yvalid, prediction))"
   ]
  },
  {
   "cell_type": "code",
   "execution_count": 98,
   "metadata": {},
   "outputs": [],
   "source": [
    "# we achieved an accuracy of 98%"
   ]
  }
 ],
 "metadata": {
  "kernelspec": {
   "display_name": "Python 3",
   "language": "python",
   "name": "python3"
  },
  "language_info": {
   "codemirror_mode": {
    "name": "ipython",
    "version": 3
   },
   "file_extension": ".py",
   "mimetype": "text/x-python",
   "name": "python",
   "nbconvert_exporter": "python",
   "pygments_lexer": "ipython3",
   "version": "3.7.7"
  }
 },
 "nbformat": 4,
 "nbformat_minor": 4
}
